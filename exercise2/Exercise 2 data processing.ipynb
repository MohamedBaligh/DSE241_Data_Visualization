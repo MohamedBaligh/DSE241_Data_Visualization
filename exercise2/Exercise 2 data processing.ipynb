{
 "cells": [
  {
   "cell_type": "code",
   "execution_count": 1,
   "metadata": {
    "collapsed": true
   },
   "outputs": [],
   "source": [
    "import pandas as pd"
   ]
  },
  {
   "cell_type": "code",
   "execution_count": 3,
   "metadata": {},
   "outputs": [
    {
     "data": {
      "text/html": [
       "<div>\n",
       "<table border=\"1\" class=\"dataframe\">\n",
       "  <thead>\n",
       "    <tr style=\"text-align: right;\">\n",
       "      <th></th>\n",
       "      <th>Year</th>\n",
       "      <th>City</th>\n",
       "      <th>Sport</th>\n",
       "      <th>Discipline</th>\n",
       "      <th>NOC</th>\n",
       "      <th>Event</th>\n",
       "      <th>Gender</th>\n",
       "      <th>Medal</th>\n",
       "      <th>Country</th>\n",
       "      <th>Latitude</th>\n",
       "      <th>Longitude</th>\n",
       "    </tr>\n",
       "  </thead>\n",
       "  <tbody>\n",
       "    <tr>\n",
       "      <th>0</th>\n",
       "      <td>1924</td>\n",
       "      <td>Chamonix</td>\n",
       "      <td>Skating</td>\n",
       "      <td>Figure skating</td>\n",
       "      <td>AUT</td>\n",
       "      <td>individual</td>\n",
       "      <td>M</td>\n",
       "      <td>Silver</td>\n",
       "      <td>Austria</td>\n",
       "      <td>45.9231</td>\n",
       "      <td>6.8697</td>\n",
       "    </tr>\n",
       "    <tr>\n",
       "      <th>1</th>\n",
       "      <td>1924</td>\n",
       "      <td>Chamonix</td>\n",
       "      <td>Skating</td>\n",
       "      <td>Figure skating</td>\n",
       "      <td>AUT</td>\n",
       "      <td>individual</td>\n",
       "      <td>W</td>\n",
       "      <td>Gold</td>\n",
       "      <td>Austria</td>\n",
       "      <td>45.9231</td>\n",
       "      <td>6.8697</td>\n",
       "    </tr>\n",
       "    <tr>\n",
       "      <th>2</th>\n",
       "      <td>1924</td>\n",
       "      <td>Chamonix</td>\n",
       "      <td>Skating</td>\n",
       "      <td>Figure skating</td>\n",
       "      <td>AUT</td>\n",
       "      <td>pairs</td>\n",
       "      <td>X</td>\n",
       "      <td>Gold</td>\n",
       "      <td>Austria</td>\n",
       "      <td>45.9231</td>\n",
       "      <td>6.8697</td>\n",
       "    </tr>\n",
       "    <tr>\n",
       "      <th>3</th>\n",
       "      <td>1924</td>\n",
       "      <td>Chamonix</td>\n",
       "      <td>Bobsleigh</td>\n",
       "      <td>Bobsleigh</td>\n",
       "      <td>BEL</td>\n",
       "      <td>four-man</td>\n",
       "      <td>M</td>\n",
       "      <td>Bronze</td>\n",
       "      <td>Belgium</td>\n",
       "      <td>45.9231</td>\n",
       "      <td>6.8697</td>\n",
       "    </tr>\n",
       "    <tr>\n",
       "      <th>4</th>\n",
       "      <td>1924</td>\n",
       "      <td>Chamonix</td>\n",
       "      <td>Ice Hockey</td>\n",
       "      <td>Ice Hockey</td>\n",
       "      <td>CAN</td>\n",
       "      <td>ice hockey</td>\n",
       "      <td>M</td>\n",
       "      <td>Gold</td>\n",
       "      <td>Canada</td>\n",
       "      <td>45.9231</td>\n",
       "      <td>6.8697</td>\n",
       "    </tr>\n",
       "  </tbody>\n",
       "</table>\n",
       "</div>"
      ],
      "text/plain": [
       "   Year      City       Sport      Discipline  NOC       Event Gender   Medal  \\\n",
       "0  1924  Chamonix     Skating  Figure skating  AUT  individual      M  Silver   \n",
       "1  1924  Chamonix     Skating  Figure skating  AUT  individual      W    Gold   \n",
       "2  1924  Chamonix     Skating  Figure skating  AUT       pairs      X    Gold   \n",
       "3  1924  Chamonix   Bobsleigh       Bobsleigh  BEL    four-man      M  Bronze   \n",
       "4  1924  Chamonix  Ice Hockey      Ice Hockey  CAN  ice hockey      M    Gold   \n",
       "\n",
       "   Country  Latitude  Longitude  \n",
       "0  Austria   45.9231     6.8697  \n",
       "1  Austria   45.9231     6.8697  \n",
       "2  Austria   45.9231     6.8697  \n",
       "3  Belgium   45.9231     6.8697  \n",
       "4   Canada   45.9231     6.8697  "
      ]
     },
     "execution_count": 3,
     "metadata": {},
     "output_type": "execute_result"
    }
   ],
   "source": [
    "olympics = pd.read_csv('./olympics.csv')\n",
    "olympics.head()"
   ]
  },
  {
   "cell_type": "markdown",
   "metadata": {},
   "source": [
    "### Overall medal count"
   ]
  },
  {
   "cell_type": "code",
   "execution_count": 42,
   "metadata": {
    "scrolled": true
   },
   "outputs": [
    {
     "name": "stderr",
     "output_type": "stream",
     "text": [
      "C:\\Users\\Orysya\\Anaconda\\envs\\py27\\lib\\site-packages\\ipykernel\\__main__.py:2: SettingWithCopyWarning: \n",
      "A value is trying to be set on a copy of a slice from a DataFrame.\n",
      "Try using .loc[row_indexer,col_indexer] = value instead\n",
      "\n",
      "See the caveats in the documentation: http://pandas.pydata.org/pandas-docs/stable/indexing.html#indexing-view-versus-copy\n",
      "  from ipykernel import kernelapp as app\n"
     ]
    }
   ],
   "source": [
    "gg = olympics[['Country', 'Medal']]\n",
    "gg['count'] = 1\n",
    "gg = gg.pivot_table(values='count', index='Country', columns='Medal', aggfunc='count')\n",
    "gg['Country'] = gg.index\n",
    "gg['Ctry_Name'] = gg.index\n",
    "gg = gg.fillna(0)\n",
    "gg['Total'] = gg['Bronze']+gg['Silver']+gg['Gold']\n",
    "gg = gg.sort_values(['Total'], ascending=False)\n",
    "gg.to_csv('Medal_Country.csv', index=False)"
   ]
  },
  {
   "cell_type": "markdown",
   "metadata": {},
   "source": [
    "### Overall medal count for females"
   ]
  },
  {
   "cell_type": "code",
   "execution_count": 47,
   "metadata": {
    "collapsed": true
   },
   "outputs": [],
   "source": [
    "gg = olympics[olympics[\"Gender\"] == 'W'][['Country', 'Medal']]\n",
    "gg['count'] = 1\n",
    "gg = gg.pivot_table(values='count', index='Country', columns='Medal', aggfunc='count')\n",
    "gg['Country'] = gg.index\n",
    "gg['Ctry_Name'] = gg.index\n",
    "gg = gg.fillna(0)\n",
    "gg['Total'] = gg['Bronze']+gg['Silver']+gg['Gold']\n",
    "gg = gg.sort_values(['Total'], ascending=False)\n",
    "gg.to_csv('Medal_Country_women.csv', index=False)"
   ]
  },
  {
   "cell_type": "markdown",
   "metadata": {},
   "source": [
    "### Overall medal count for males"
   ]
  },
  {
   "cell_type": "code",
   "execution_count": 49,
   "metadata": {
    "collapsed": true
   },
   "outputs": [],
   "source": [
    "gg = olympics[olympics[\"Gender\"] == 'M'][['Country', 'Medal']]\n",
    "gg['count'] = 1\n",
    "gg = gg.pivot_table(values='count', index='Country', columns='Medal', aggfunc='count')\n",
    "gg['Country'] = gg.index\n",
    "gg['Ctry_Name'] = gg.index\n",
    "gg = gg.fillna(0)\n",
    "gg['Total'] = gg['Bronze']+gg['Silver']+gg['Gold']\n",
    "gg = gg.sort_values(['Total'], ascending=False)\n",
    "gg.to_csv('Medal_Country_men.csv', index=False)"
   ]
  },
  {
   "cell_type": "code",
   "execution_count": null,
   "metadata": {
    "collapsed": true
   },
   "outputs": [],
   "source": []
  }
 ],
 "metadata": {
  "anaconda-cloud": {},
  "kernelspec": {
   "display_name": "Python [conda env:py27]",
   "language": "python",
   "name": "conda-env-py27-py"
  },
  "language_info": {
   "codemirror_mode": {
    "name": "ipython",
    "version": 2
   },
   "file_extension": ".py",
   "mimetype": "text/x-python",
   "name": "python",
   "nbconvert_exporter": "python",
   "pygments_lexer": "ipython2",
   "version": "2.7.13"
  }
 },
 "nbformat": 4,
 "nbformat_minor": 1
}
