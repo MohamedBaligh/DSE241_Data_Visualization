{
 "cells": [
  {
   "cell_type": "markdown",
   "metadata": {},
   "source": [
    "# Analysis of NTSP Development Duration"
   ]
  },
  {
   "cell_type": "markdown",
   "metadata": {},
   "source": [
    "#### The purpose of this model is to determine whether any features can accurately predict the length of development time of an NTSP.  Development time is measured by Start_Date and Complete_Date (transformed into a time duration).  NTSPs are identified by NTSP_No.\n",
    "\n",
    "#### Features from other datasets that need to be merged with the original \"NTSP\" dataframe include:\n",
    "\n",
    "##### From sponsors1.csv:\n",
    "    ##### Sponsor name\n",
    "    ##### Sponsor's organization\n",
    "    ##### Sponsor's status (A,B,C)\n",
    "    \n",
    "##### From cmatt-ntsp3.csv:\n",
    "    ##### ACAT designation\n",
    "    ##### organization (PMW/PEO etc)\n",
    "    ##### Fiscal year started (i.e. is the process getting more or less efficient over time?)"
   ]
  },
  {
   "cell_type": "markdown",
   "metadata": {},
   "source": [
    "## Bringing in Data"
   ]
  },
  {
   "cell_type": "code",
   "execution_count": 5,
   "metadata": {
    "collapsed": true
   },
   "outputs": [],
   "source": [
    "import pandas as pd\n",
    "import seaborn as sns\n",
    "import numpy as np\n",
    "import matplotlib.pyplot as plt\n",
    "\n",
    "from sklearn import metrics\n",
    "\n",
    "plt.style.use('fivethirtyeight')\n",
    "\n",
    "%matplotlib inline"
   ]
  },
  {
   "cell_type": "markdown",
   "metadata": {},
   "source": [
    "#### Read in data from WF-Review-log tab to get NTSP number, time duration of NTSP dev process, version, and status"
   ]
  },
  {
   "cell_type": "code",
   "execution_count": 6,
   "metadata": {
    "collapsed": true
   },
   "outputs": [],
   "source": [
    "ntsp=pd.read_csv('WF-review-log.csv')"
   ]
  },
  {
   "cell_type": "code",
   "execution_count": 7,
   "metadata": {},
   "outputs": [
    {
     "data": {
      "text/plain": [
       "Index([u'REVIEW_ID', u'NTSP_NO', u'TIME_STAMP', u'VERSION', u'STATUS'], dtype='object')"
      ]
     },
     "execution_count": 7,
     "metadata": {},
     "output_type": "execute_result"
    }
   ],
   "source": [
    "ntsp.columns"
   ]
  },
  {
   "cell_type": "code",
   "execution_count": 8,
   "metadata": {},
   "outputs": [
    {
     "data": {
      "text/plain": [
       "(2635, 5)"
      ]
     },
     "execution_count": 8,
     "metadata": {},
     "output_type": "execute_result"
    }
   ],
   "source": [
    "ntsp.shape"
   ]
  },
  {
   "cell_type": "code",
   "execution_count": 9,
   "metadata": {},
   "outputs": [
    {
     "data": {
      "text/html": [
       "<div>\n",
       "<style>\n",
       "    .dataframe thead tr:only-child th {\n",
       "        text-align: right;\n",
       "    }\n",
       "\n",
       "    .dataframe thead th {\n",
       "        text-align: left;\n",
       "    }\n",
       "\n",
       "    .dataframe tbody tr th {\n",
       "        vertical-align: top;\n",
       "    }\n",
       "</style>\n",
       "<table border=\"1\" class=\"dataframe\">\n",
       "  <thead>\n",
       "    <tr style=\"text-align: right;\">\n",
       "      <th></th>\n",
       "      <th>REVIEW_ID</th>\n",
       "      <th>NTSP_NO</th>\n",
       "      <th>TIME_STAMP</th>\n",
       "      <th>VERSION</th>\n",
       "      <th>STATUS</th>\n",
       "    </tr>\n",
       "  </thead>\n",
       "  <tbody>\n",
       "    <tr>\n",
       "      <th>0</th>\n",
       "      <td>16034</td>\n",
       "      <td>N2N6-NTSP-E-70-0013</td>\n",
       "      <td>2013/07/24 10:25:35</td>\n",
       "      <td>6</td>\n",
       "      <td>IN_EDIT</td>\n",
       "    </tr>\n",
       "    <tr>\n",
       "      <th>1</th>\n",
       "      <td>16034</td>\n",
       "      <td>N2N6-NTSP-E-70-0013</td>\n",
       "      <td>2013/07/24 10:25:45</td>\n",
       "      <td>6</td>\n",
       "      <td>IN_EDIT</td>\n",
       "    </tr>\n",
       "    <tr>\n",
       "      <th>2</th>\n",
       "      <td>13354</td>\n",
       "      <td>N2N6-NTSP-E-70-1103</td>\n",
       "      <td>2013/07/24 10:50:04</td>\n",
       "      <td>2</td>\n",
       "      <td>ACCEPTED</td>\n",
       "    </tr>\n",
       "    <tr>\n",
       "      <th>3</th>\n",
       "      <td>16036</td>\n",
       "      <td>N2N6-NTSP-E-70-1103</td>\n",
       "      <td>2013/07/24 10:50:14</td>\n",
       "      <td>11</td>\n",
       "      <td>IN_REVIEW</td>\n",
       "    </tr>\n",
       "    <tr>\n",
       "      <th>4</th>\n",
       "      <td>13354</td>\n",
       "      <td>N2N6-NTSP-E-70-1103</td>\n",
       "      <td>2013/07/24 10:50:15</td>\n",
       "      <td>2</td>\n",
       "      <td>ACCEPTED</td>\n",
       "    </tr>\n",
       "    <tr>\n",
       "      <th>5</th>\n",
       "      <td>16037</td>\n",
       "      <td>N2N6-NTSP-E-70-1103</td>\n",
       "      <td>2013/07/24 10:50:21</td>\n",
       "      <td>11</td>\n",
       "      <td>IN_REVIEW</td>\n",
       "    </tr>\n",
       "    <tr>\n",
       "      <th>6</th>\n",
       "      <td>16034</td>\n",
       "      <td>N2N6-NTSP-E-70-0013</td>\n",
       "      <td>2013/07/24 12:31:35</td>\n",
       "      <td>6</td>\n",
       "      <td>IN_REVIEW</td>\n",
       "    </tr>\n",
       "    <tr>\n",
       "      <th>7</th>\n",
       "      <td>16034</td>\n",
       "      <td>N2N6-NTSP-E-70-0013</td>\n",
       "      <td>2013/07/24 12:40:59</td>\n",
       "      <td>6</td>\n",
       "      <td>IN_REVIEW</td>\n",
       "    </tr>\n",
       "    <tr>\n",
       "      <th>8</th>\n",
       "      <td>13114</td>\n",
       "      <td>N6-NTSP-E-70-0701A</td>\n",
       "      <td>2013/07/24 12:51:08</td>\n",
       "      <td>2</td>\n",
       "      <td>ACCEPTED</td>\n",
       "    </tr>\n",
       "    <tr>\n",
       "      <th>9</th>\n",
       "      <td>15774</td>\n",
       "      <td>N95-NTSP-F-80-1207</td>\n",
       "      <td>2013/07/24 13:49:55</td>\n",
       "      <td>7</td>\n",
       "      <td>ACCEPTED</td>\n",
       "    </tr>\n",
       "  </tbody>\n",
       "</table>\n",
       "</div>"
      ],
      "text/plain": [
       "   REVIEW_ID              NTSP_NO           TIME_STAMP  VERSION     STATUS\n",
       "0      16034  N2N6-NTSP-E-70-0013  2013/07/24 10:25:35        6    IN_EDIT\n",
       "1      16034  N2N6-NTSP-E-70-0013  2013/07/24 10:25:45        6    IN_EDIT\n",
       "2      13354  N2N6-NTSP-E-70-1103  2013/07/24 10:50:04        2   ACCEPTED\n",
       "3      16036  N2N6-NTSP-E-70-1103  2013/07/24 10:50:14       11  IN_REVIEW\n",
       "4      13354  N2N6-NTSP-E-70-1103  2013/07/24 10:50:15        2   ACCEPTED\n",
       "5      16037  N2N6-NTSP-E-70-1103  2013/07/24 10:50:21       11  IN_REVIEW\n",
       "6      16034  N2N6-NTSP-E-70-0013  2013/07/24 12:31:35        6  IN_REVIEW\n",
       "7      16034  N2N6-NTSP-E-70-0013  2013/07/24 12:40:59        6  IN_REVIEW\n",
       "8      13114   N6-NTSP-E-70-0701A  2013/07/24 12:51:08        2   ACCEPTED\n",
       "9      15774   N95-NTSP-F-80-1207  2013/07/24 13:49:55        7   ACCEPTED"
      ]
     },
     "execution_count": 9,
     "metadata": {},
     "output_type": "execute_result"
    }
   ],
   "source": [
    "ntsp.head(10)"
   ]
  },
  {
   "cell_type": "code",
   "execution_count": 10,
   "metadata": {},
   "outputs": [
    {
     "data": {
      "text/plain": [
       "REVIEW_ID      int64\n",
       "NTSP_NO       object\n",
       "TIME_STAMP    object\n",
       "VERSION        int64\n",
       "STATUS        object\n",
       "dtype: object"
      ]
     },
     "execution_count": 10,
     "metadata": {},
     "output_type": "execute_result"
    }
   ],
   "source": [
    "ntsp.dtypes\n"
   ]
  },
  {
   "cell_type": "code",
   "execution_count": 11,
   "metadata": {
    "collapsed": true
   },
   "outputs": [],
   "source": [
    "ntsp.rename(columns={'REVIEW_ID':'review_id', 'NTSP_NO':'ntsp_no','TIME_STAMP':'time_stamp','VERSION':'version','STATUS':'status'},inplace=True)"
   ]
  },
  {
   "cell_type": "code",
   "execution_count": 12,
   "metadata": {},
   "outputs": [
    {
     "data": {
      "text/plain": [
       "Index([u'review_id', u'ntsp_no', u'time_stamp', u'version', u'status'], dtype='object')"
      ]
     },
     "execution_count": 12,
     "metadata": {},
     "output_type": "execute_result"
    }
   ],
   "source": [
    "ntsp.columns"
   ]
  },
  {
   "cell_type": "markdown",
   "metadata": {},
   "source": [
    "#### Get count of actual NTSPs in the database currently."
   ]
  },
  {
   "cell_type": "code",
   "execution_count": 13,
   "metadata": {},
   "outputs": [
    {
     "data": {
      "text/plain": [
       "(260, 4)"
      ]
     },
     "execution_count": 13,
     "metadata": {},
     "output_type": "execute_result"
    }
   ],
   "source": [
    "ntspcount = ntsp.groupby(['ntsp_no']).agg('count')\n",
    "ntspcount\n",
    "ntspcount.shape"
   ]
  },
  {
   "cell_type": "markdown",
   "metadata": {},
   "source": [
    "## Lots of Data Cleaning"
   ]
  },
  {
   "cell_type": "markdown",
   "metadata": {},
   "source": [
    "#### Drop any NTSP observations with status of 'CANCELLED'.  "
   ]
  },
  {
   "cell_type": "code",
   "execution_count": 14,
   "metadata": {},
   "outputs": [
    {
     "data": {
      "text/html": [
       "<div>\n",
       "<style>\n",
       "    .dataframe thead tr:only-child th {\n",
       "        text-align: right;\n",
       "    }\n",
       "\n",
       "    .dataframe thead th {\n",
       "        text-align: left;\n",
       "    }\n",
       "\n",
       "    .dataframe tbody tr th {\n",
       "        vertical-align: top;\n",
       "    }\n",
       "</style>\n",
       "<table border=\"1\" class=\"dataframe\">\n",
       "  <thead>\n",
       "    <tr style=\"text-align: right;\">\n",
       "      <th></th>\n",
       "      <th>review_id</th>\n",
       "      <th>ntsp_no</th>\n",
       "      <th>time_stamp</th>\n",
       "      <th>version</th>\n",
       "      <th>status</th>\n",
       "    </tr>\n",
       "  </thead>\n",
       "  <tbody>\n",
       "    <tr>\n",
       "      <th>41</th>\n",
       "      <td>11246</td>\n",
       "      <td>N85-NTSP-E-70-1003</td>\n",
       "      <td>2013/08/08 08:01:03</td>\n",
       "      <td>6</td>\n",
       "      <td>CANCELLED</td>\n",
       "    </tr>\n",
       "    <tr>\n",
       "      <th>52</th>\n",
       "      <td>8488</td>\n",
       "      <td>N6-NTSP-E-70-0006A</td>\n",
       "      <td>2013/08/13 13:58:26</td>\n",
       "      <td>6</td>\n",
       "      <td>CANCELLED</td>\n",
       "    </tr>\n",
       "    <tr>\n",
       "      <th>56</th>\n",
       "      <td>11619</td>\n",
       "      <td>N6-NTSP-E-70-0802A</td>\n",
       "      <td>2013/08/13 14:12:53</td>\n",
       "      <td>6</td>\n",
       "      <td>CANCELLED</td>\n",
       "    </tr>\n",
       "    <tr>\n",
       "      <th>60</th>\n",
       "      <td>8486</td>\n",
       "      <td>N6-NTSP-E-70-8601E</td>\n",
       "      <td>2013/08/13 14:20:07</td>\n",
       "      <td>6</td>\n",
       "      <td>CANCELLED</td>\n",
       "    </tr>\n",
       "    <tr>\n",
       "      <th>64</th>\n",
       "      <td>11609</td>\n",
       "      <td>N6-NTSP-E-70-9501C</td>\n",
       "      <td>2013/08/13 14:26:23</td>\n",
       "      <td>6</td>\n",
       "      <td>CANCELLED</td>\n",
       "    </tr>\n",
       "    <tr>\n",
       "      <th>68</th>\n",
       "      <td>21861</td>\n",
       "      <td>N6-NTSP-E-70-9806B</td>\n",
       "      <td>2013/08/13 14:31:49</td>\n",
       "      <td>6</td>\n",
       "      <td>CANCELLED</td>\n",
       "    </tr>\n",
       "    <tr>\n",
       "      <th>72</th>\n",
       "      <td>11611</td>\n",
       "      <td>N6-NTSP-E-70-9301C</td>\n",
       "      <td>2013/08/13 14:41:52</td>\n",
       "      <td>6</td>\n",
       "      <td>CANCELLED</td>\n",
       "    </tr>\n",
       "    <tr>\n",
       "      <th>80</th>\n",
       "      <td>8430</td>\n",
       "      <td>N6-NTSP-E-70-9906A</td>\n",
       "      <td>2013/08/15 14:57:54</td>\n",
       "      <td>6</td>\n",
       "      <td>CANCELLED</td>\n",
       "    </tr>\n",
       "    <tr>\n",
       "      <th>81</th>\n",
       "      <td>11683</td>\n",
       "      <td>N6-NTSP-E-70-0808A</td>\n",
       "      <td>2013/08/15 14:58:18</td>\n",
       "      <td>6</td>\n",
       "      <td>CANCELLED</td>\n",
       "    </tr>\n",
       "    <tr>\n",
       "      <th>82</th>\n",
       "      <td>11679</td>\n",
       "      <td>N6-NTSP-E-70-7905G</td>\n",
       "      <td>2013/08/15 14:58:36</td>\n",
       "      <td>6</td>\n",
       "      <td>CANCELLED</td>\n",
       "    </tr>\n",
       "  </tbody>\n",
       "</table>\n",
       "</div>"
      ],
      "text/plain": [
       "    review_id             ntsp_no           time_stamp  version     status\n",
       "41      11246  N85-NTSP-E-70-1003  2013/08/08 08:01:03        6  CANCELLED\n",
       "52       8488  N6-NTSP-E-70-0006A  2013/08/13 13:58:26        6  CANCELLED\n",
       "56      11619  N6-NTSP-E-70-0802A  2013/08/13 14:12:53        6  CANCELLED\n",
       "60       8486  N6-NTSP-E-70-8601E  2013/08/13 14:20:07        6  CANCELLED\n",
       "64      11609  N6-NTSP-E-70-9501C  2013/08/13 14:26:23        6  CANCELLED\n",
       "68      21861  N6-NTSP-E-70-9806B  2013/08/13 14:31:49        6  CANCELLED\n",
       "72      11611  N6-NTSP-E-70-9301C  2013/08/13 14:41:52        6  CANCELLED\n",
       "80       8430  N6-NTSP-E-70-9906A  2013/08/15 14:57:54        6  CANCELLED\n",
       "81      11683  N6-NTSP-E-70-0808A  2013/08/15 14:58:18        6  CANCELLED\n",
       "82      11679  N6-NTSP-E-70-7905G  2013/08/15 14:58:36        6  CANCELLED"
      ]
     },
     "execution_count": 14,
     "metadata": {},
     "output_type": "execute_result"
    }
   ],
   "source": [
    "ntsp[ntsp.status==\"CANCELLED\"].head(10)"
   ]
  },
  {
   "cell_type": "code",
   "execution_count": 15,
   "metadata": {},
   "outputs": [
    {
     "data": {
      "text/html": [
       "<div>\n",
       "<style>\n",
       "    .dataframe thead tr:only-child th {\n",
       "        text-align: right;\n",
       "    }\n",
       "\n",
       "    .dataframe thead th {\n",
       "        text-align: left;\n",
       "    }\n",
       "\n",
       "    .dataframe tbody tr th {\n",
       "        vertical-align: top;\n",
       "    }\n",
       "</style>\n",
       "<table border=\"1\" class=\"dataframe\">\n",
       "  <thead>\n",
       "    <tr style=\"text-align: right;\">\n",
       "      <th></th>\n",
       "      <th>review_id</th>\n",
       "      <th>ntsp_no</th>\n",
       "      <th>time_stamp</th>\n",
       "      <th>version</th>\n",
       "      <th>status</th>\n",
       "    </tr>\n",
       "  </thead>\n",
       "  <tbody>\n",
       "    <tr>\n",
       "      <th>82</th>\n",
       "      <td>11679</td>\n",
       "      <td>N6-NTSP-E-70-7905G</td>\n",
       "      <td>2013/08/15 14:58:36</td>\n",
       "      <td>6</td>\n",
       "      <td>CANCELLED</td>\n",
       "    </tr>\n",
       "  </tbody>\n",
       "</table>\n",
       "</div>"
      ],
      "text/plain": [
       "    review_id             ntsp_no           time_stamp  version     status\n",
       "82      11679  N6-NTSP-E-70-7905G  2013/08/15 14:58:36        6  CANCELLED"
      ]
     },
     "execution_count": 15,
     "metadata": {},
     "output_type": "execute_result"
    }
   ],
   "source": [
    "ntsp[ntsp.ntsp_no==\"N6-NTSP-E-70-7905G\"]"
   ]
  },
  {
   "cell_type": "code",
   "execution_count": 16,
   "metadata": {
    "collapsed": true
   },
   "outputs": [],
   "source": [
    "ntsp=ntsp[ntsp.status!='CANCELLED']"
   ]
  },
  {
   "cell_type": "code",
   "execution_count": 17,
   "metadata": {},
   "outputs": [
    {
     "data": {
      "text/html": [
       "<div>\n",
       "<style>\n",
       "    .dataframe thead tr:only-child th {\n",
       "        text-align: right;\n",
       "    }\n",
       "\n",
       "    .dataframe thead th {\n",
       "        text-align: left;\n",
       "    }\n",
       "\n",
       "    .dataframe tbody tr th {\n",
       "        vertical-align: top;\n",
       "    }\n",
       "</style>\n",
       "<table border=\"1\" class=\"dataframe\">\n",
       "  <thead>\n",
       "    <tr style=\"text-align: right;\">\n",
       "      <th></th>\n",
       "      <th>review_id</th>\n",
       "      <th>ntsp_no</th>\n",
       "      <th>time_stamp</th>\n",
       "      <th>version</th>\n",
       "      <th>status</th>\n",
       "    </tr>\n",
       "  </thead>\n",
       "  <tbody>\n",
       "  </tbody>\n",
       "</table>\n",
       "</div>"
      ],
      "text/plain": [
       "Empty DataFrame\n",
       "Columns: [review_id, ntsp_no, time_stamp, version, status]\n",
       "Index: []"
      ]
     },
     "execution_count": 17,
     "metadata": {},
     "output_type": "execute_result"
    }
   ],
   "source": [
    "ntsp[ntsp.ntsp_no==\"N6-NTSP-E-70-7905G\"]\n"
   ]
  },
  {
   "cell_type": "markdown",
   "metadata": {},
   "source": [
    "#### Drop NTSPs that contain 'TEST' or 'test' in the name--these are test/dummy NTSPs"
   ]
  },
  {
   "cell_type": "code",
   "execution_count": 18,
   "metadata": {},
   "outputs": [
    {
     "data": {
      "text/html": [
       "<div>\n",
       "<style>\n",
       "    .dataframe thead tr:only-child th {\n",
       "        text-align: right;\n",
       "    }\n",
       "\n",
       "    .dataframe thead th {\n",
       "        text-align: left;\n",
       "    }\n",
       "\n",
       "    .dataframe tbody tr th {\n",
       "        vertical-align: top;\n",
       "    }\n",
       "</style>\n",
       "<table border=\"1\" class=\"dataframe\">\n",
       "  <thead>\n",
       "    <tr style=\"text-align: right;\">\n",
       "      <th></th>\n",
       "      <th>review_id</th>\n",
       "      <th>ntsp_no</th>\n",
       "      <th>time_stamp</th>\n",
       "      <th>version</th>\n",
       "      <th>status</th>\n",
       "    </tr>\n",
       "  </thead>\n",
       "  <tbody>\n",
       "    <tr>\n",
       "      <th>0</th>\n",
       "      <td>16034</td>\n",
       "      <td>N2N6-NTSP-E-70-0013</td>\n",
       "      <td>2013/07/24 10:25:35</td>\n",
       "      <td>6</td>\n",
       "      <td>IN_EDIT</td>\n",
       "    </tr>\n",
       "    <tr>\n",
       "      <th>1</th>\n",
       "      <td>16034</td>\n",
       "      <td>N2N6-NTSP-E-70-0013</td>\n",
       "      <td>2013/07/24 10:25:45</td>\n",
       "      <td>6</td>\n",
       "      <td>IN_EDIT</td>\n",
       "    </tr>\n",
       "    <tr>\n",
       "      <th>2</th>\n",
       "      <td>13354</td>\n",
       "      <td>N2N6-NTSP-E-70-1103</td>\n",
       "      <td>2013/07/24 10:50:04</td>\n",
       "      <td>2</td>\n",
       "      <td>ACCEPTED</td>\n",
       "    </tr>\n",
       "    <tr>\n",
       "      <th>3</th>\n",
       "      <td>16036</td>\n",
       "      <td>N2N6-NTSP-E-70-1103</td>\n",
       "      <td>2013/07/24 10:50:14</td>\n",
       "      <td>11</td>\n",
       "      <td>IN_REVIEW</td>\n",
       "    </tr>\n",
       "    <tr>\n",
       "      <th>4</th>\n",
       "      <td>13354</td>\n",
       "      <td>N2N6-NTSP-E-70-1103</td>\n",
       "      <td>2013/07/24 10:50:15</td>\n",
       "      <td>2</td>\n",
       "      <td>ACCEPTED</td>\n",
       "    </tr>\n",
       "  </tbody>\n",
       "</table>\n",
       "</div>"
      ],
      "text/plain": [
       "   review_id              ntsp_no           time_stamp  version     status\n",
       "0      16034  N2N6-NTSP-E-70-0013  2013/07/24 10:25:35        6    IN_EDIT\n",
       "1      16034  N2N6-NTSP-E-70-0013  2013/07/24 10:25:45        6    IN_EDIT\n",
       "2      13354  N2N6-NTSP-E-70-1103  2013/07/24 10:50:04        2   ACCEPTED\n",
       "3      16036  N2N6-NTSP-E-70-1103  2013/07/24 10:50:14       11  IN_REVIEW\n",
       "4      13354  N2N6-NTSP-E-70-1103  2013/07/24 10:50:15        2   ACCEPTED"
      ]
     },
     "execution_count": 18,
     "metadata": {},
     "output_type": "execute_result"
    }
   ],
   "source": [
    "ntsp = ntsp[~ntsp.ntsp_no.str.contains('TEST', na = False, case = False)]\n",
    "ntsp.head()"
   ]
  },
  {
   "cell_type": "code",
   "execution_count": 19,
   "metadata": {},
   "outputs": [
    {
     "data": {
      "text/plain": [
       "(211, 4)"
      ]
     },
     "execution_count": 19,
     "metadata": {},
     "output_type": "execute_result"
    }
   ],
   "source": [
    "ntspcount = ntsp.groupby(['ntsp_no']).agg('count')\n",
    "ntspcount.shape"
   ]
  },
  {
   "cell_type": "markdown",
   "metadata": {},
   "source": [
    "#### Reformat 'time_stamp' variable into datetime64 format so we can sort and convert"
   ]
  },
  {
   "cell_type": "code",
   "execution_count": 20,
   "metadata": {},
   "outputs": [
    {
     "data": {
      "text/plain": [
       "ACCEPTED            964\n",
       "IN_REVIEW           860\n",
       "IN_EDIT             409\n",
       "PENDING_COMPLETE    135\n",
       "SUPERCEDED           52\n",
       "Name: status, dtype: int64"
      ]
     },
     "execution_count": 20,
     "metadata": {},
     "output_type": "execute_result"
    }
   ],
   "source": [
    "ntsp.status.value_counts()"
   ]
  },
  {
   "cell_type": "code",
   "execution_count": 21,
   "metadata": {},
   "outputs": [
    {
     "data": {
      "text/plain": [
       "review_id      int64\n",
       "ntsp_no       object\n",
       "time_stamp    object\n",
       "version        int64\n",
       "status        object\n",
       "dtype: object"
      ]
     },
     "execution_count": 21,
     "metadata": {},
     "output_type": "execute_result"
    }
   ],
   "source": [
    "ntsp.dtypes"
   ]
  },
  {
   "cell_type": "code",
   "execution_count": 22,
   "metadata": {
    "collapsed": true
   },
   "outputs": [],
   "source": [
    "ntsp['time_stamp'] = pd.to_datetime(ntsp['time_stamp'], format = \"%Y/%m/%d\")\n"
   ]
  },
  {
   "cell_type": "code",
   "execution_count": 23,
   "metadata": {},
   "outputs": [
    {
     "data": {
      "text/plain": [
       "review_id              int64\n",
       "ntsp_no               object\n",
       "time_stamp    datetime64[ns]\n",
       "version                int64\n",
       "status                object\n",
       "dtype: object"
      ]
     },
     "execution_count": 23,
     "metadata": {},
     "output_type": "execute_result"
    }
   ],
   "source": [
    "ntsp.dtypes"
   ]
  },
  {
   "cell_type": "markdown",
   "metadata": {},
   "source": [
    "#### Assign names to version #s so everyone can better understand NTSP workflow progression "
   ]
  },
  {
   "cell_type": "code",
   "execution_count": 24,
   "metadata": {},
   "outputs": [
    {
     "data": {
      "text/plain": [
       "11    402\n",
       "2     399\n",
       "6     379\n",
       "0     377\n",
       "1     177\n",
       "7     165\n",
       "5     129\n",
       "4     119\n",
       "3     106\n",
       "9      92\n",
       "8      75\n",
       "Name: version, dtype: int64"
      ]
     },
     "execution_count": 24,
     "metadata": {},
     "output_type": "execute_result"
    }
   ],
   "source": [
    "ntsp.version.value_counts()"
   ]
  },
  {
   "cell_type": "code",
   "execution_count": 25,
   "metadata": {
    "collapsed": true
   },
   "outputs": [],
   "source": [
    "versionDict = {7: \"TRP Implementation\", \n",
    "               8:  \"Preliminary NTSP QA\",\n",
    "               9: \"Preliminary NTSP Validation\",\n",
    "               3: \"NTSP Development\",\n",
    "               4: \"NTSP QA\",\n",
    "               0: \"Requirements Validation\",\n",
    "               6: \"Concurrence Validation\",\n",
    "               1: \"N1 Concurrence\",\n",
    "               5: \"Resource Sponsor Approval\",\n",
    "               2: \"Approved\",\n",
    "               11: \"Annual Review\",\n",
    "               12: \"Superseded\",\n",
    "               100: \"Archived\"}"
   ]
  },
  {
   "cell_type": "code",
   "execution_count": 26,
   "metadata": {},
   "outputs": [
    {
     "data": {
      "text/html": [
       "<div>\n",
       "<style>\n",
       "    .dataframe thead tr:only-child th {\n",
       "        text-align: right;\n",
       "    }\n",
       "\n",
       "    .dataframe thead th {\n",
       "        text-align: left;\n",
       "    }\n",
       "\n",
       "    .dataframe tbody tr th {\n",
       "        vertical-align: top;\n",
       "    }\n",
       "</style>\n",
       "<table border=\"1\" class=\"dataframe\">\n",
       "  <thead>\n",
       "    <tr style=\"text-align: right;\">\n",
       "      <th></th>\n",
       "      <th>review_id</th>\n",
       "      <th>ntsp_no</th>\n",
       "      <th>time_stamp</th>\n",
       "      <th>version</th>\n",
       "      <th>status</th>\n",
       "      <th>WFstep</th>\n",
       "    </tr>\n",
       "  </thead>\n",
       "  <tbody>\n",
       "    <tr>\n",
       "      <th>0</th>\n",
       "      <td>16034</td>\n",
       "      <td>N2N6-NTSP-E-70-0013</td>\n",
       "      <td>2013-07-24 10:25:35</td>\n",
       "      <td>6</td>\n",
       "      <td>IN_EDIT</td>\n",
       "      <td>Concurrence Validation</td>\n",
       "    </tr>\n",
       "    <tr>\n",
       "      <th>1</th>\n",
       "      <td>16034</td>\n",
       "      <td>N2N6-NTSP-E-70-0013</td>\n",
       "      <td>2013-07-24 10:25:45</td>\n",
       "      <td>6</td>\n",
       "      <td>IN_EDIT</td>\n",
       "      <td>Concurrence Validation</td>\n",
       "    </tr>\n",
       "    <tr>\n",
       "      <th>2</th>\n",
       "      <td>13354</td>\n",
       "      <td>N2N6-NTSP-E-70-1103</td>\n",
       "      <td>2013-07-24 10:50:04</td>\n",
       "      <td>2</td>\n",
       "      <td>ACCEPTED</td>\n",
       "      <td>Approved</td>\n",
       "    </tr>\n",
       "    <tr>\n",
       "      <th>3</th>\n",
       "      <td>16036</td>\n",
       "      <td>N2N6-NTSP-E-70-1103</td>\n",
       "      <td>2013-07-24 10:50:14</td>\n",
       "      <td>11</td>\n",
       "      <td>IN_REVIEW</td>\n",
       "      <td>Annual Review</td>\n",
       "    </tr>\n",
       "    <tr>\n",
       "      <th>4</th>\n",
       "      <td>13354</td>\n",
       "      <td>N2N6-NTSP-E-70-1103</td>\n",
       "      <td>2013-07-24 10:50:15</td>\n",
       "      <td>2</td>\n",
       "      <td>ACCEPTED</td>\n",
       "      <td>Approved</td>\n",
       "    </tr>\n",
       "  </tbody>\n",
       "</table>\n",
       "</div>"
      ],
      "text/plain": [
       "   review_id              ntsp_no          time_stamp  version     status  \\\n",
       "0      16034  N2N6-NTSP-E-70-0013 2013-07-24 10:25:35        6    IN_EDIT   \n",
       "1      16034  N2N6-NTSP-E-70-0013 2013-07-24 10:25:45        6    IN_EDIT   \n",
       "2      13354  N2N6-NTSP-E-70-1103 2013-07-24 10:50:04        2   ACCEPTED   \n",
       "3      16036  N2N6-NTSP-E-70-1103 2013-07-24 10:50:14       11  IN_REVIEW   \n",
       "4      13354  N2N6-NTSP-E-70-1103 2013-07-24 10:50:15        2   ACCEPTED   \n",
       "\n",
       "                   WFstep  \n",
       "0  Concurrence Validation  \n",
       "1  Concurrence Validation  \n",
       "2                Approved  \n",
       "3           Annual Review  \n",
       "4                Approved  "
      ]
     },
     "execution_count": 26,
     "metadata": {},
     "output_type": "execute_result"
    }
   ],
   "source": [
    "ntsp['WFstep'] = ntsp.version.apply(lambda x: versionDict[x])\n",
    "ntsp.head()"
   ]
  },
  {
   "cell_type": "markdown",
   "metadata": {},
   "source": [
    "####  Look at list of WF steps each NTSP went through.  Need this for analysis in the future, probably not for this assignment."
   ]
  },
  {
   "cell_type": "code",
   "execution_count": 27,
   "metadata": {
    "collapsed": true
   },
   "outputs": [],
   "source": [
    "#list(set(ntsp.WFstep.values))"
   ]
  },
  {
   "cell_type": "code",
   "execution_count": 28,
   "metadata": {},
   "outputs": [
    {
     "data": {
      "text/html": [
       "<div>\n",
       "<style>\n",
       "    .dataframe thead tr:only-child th {\n",
       "        text-align: right;\n",
       "    }\n",
       "\n",
       "    .dataframe thead th {\n",
       "        text-align: left;\n",
       "    }\n",
       "\n",
       "    .dataframe tbody tr th {\n",
       "        vertical-align: top;\n",
       "    }\n",
       "</style>\n",
       "<table border=\"1\" class=\"dataframe\">\n",
       "  <thead>\n",
       "    <tr style=\"text-align: right;\">\n",
       "      <th></th>\n",
       "      <th>ntsp_no</th>\n",
       "      <th>WFstep</th>\n",
       "    </tr>\n",
       "  </thead>\n",
       "  <tbody>\n",
       "    <tr>\n",
       "      <th>0</th>\n",
       "      <td>AA-NTSP-P-80-1604</td>\n",
       "      <td>NTSP QA, Concurrence Validation, Requirements ...</td>\n",
       "    </tr>\n",
       "    <tr>\n",
       "      <th>1</th>\n",
       "      <td>AA-NTSP-P-80-1605</td>\n",
       "      <td>TRP Implementation</td>\n",
       "    </tr>\n",
       "    <tr>\n",
       "      <th>2</th>\n",
       "      <td>AA-NTSP-P-80-1606</td>\n",
       "      <td>N1 Concurrence, TRP Implementation, Concurrenc...</td>\n",
       "    </tr>\n",
       "    <tr>\n",
       "      <th>3</th>\n",
       "      <td>G-TSCMIS-TSP-E-70-1308</td>\n",
       "      <td>Approved, Annual Review</td>\n",
       "    </tr>\n",
       "    <tr>\n",
       "      <th>4</th>\n",
       "      <td>N04-NTSP-S-40-0301A</td>\n",
       "      <td>Approved, Annual Review</td>\n",
       "    </tr>\n",
       "    <tr>\n",
       "      <th>5</th>\n",
       "      <td>N093-NTSP-E-70-1304</td>\n",
       "      <td>Concurrence Validation, Requirements Validatio...</td>\n",
       "    </tr>\n",
       "    <tr>\n",
       "      <th>6</th>\n",
       "      <td>N09I-NTSP-E-70-1203</td>\n",
       "      <td>Annual Review, Concurrence Validation, Require...</td>\n",
       "    </tr>\n",
       "    <tr>\n",
       "      <th>7</th>\n",
       "      <td>N1-NTSP-E-80-0901E</td>\n",
       "      <td>N1 Concurrence, Concurrence Validation, Resour...</td>\n",
       "    </tr>\n",
       "    <tr>\n",
       "      <th>8</th>\n",
       "      <td>N10-NTSP-P-80-1607</td>\n",
       "      <td>TRP Implementation</td>\n",
       "    </tr>\n",
       "    <tr>\n",
       "      <th>9</th>\n",
       "      <td>N10-NTSP-P-80-1608</td>\n",
       "      <td>TRP Implementation, N1 Concurrence</td>\n",
       "    </tr>\n",
       "  </tbody>\n",
       "</table>\n",
       "</div>"
      ],
      "text/plain": [
       "                  ntsp_no                                             WFstep\n",
       "0       AA-NTSP-P-80-1604  NTSP QA, Concurrence Validation, Requirements ...\n",
       "1       AA-NTSP-P-80-1605                                 TRP Implementation\n",
       "2       AA-NTSP-P-80-1606  N1 Concurrence, TRP Implementation, Concurrenc...\n",
       "3  G-TSCMIS-TSP-E-70-1308                            Approved, Annual Review\n",
       "4     N04-NTSP-S-40-0301A                            Approved, Annual Review\n",
       "5     N093-NTSP-E-70-1304  Concurrence Validation, Requirements Validatio...\n",
       "6     N09I-NTSP-E-70-1203  Annual Review, Concurrence Validation, Require...\n",
       "7      N1-NTSP-E-80-0901E  N1 Concurrence, Concurrence Validation, Resour...\n",
       "8      N10-NTSP-P-80-1607                                 TRP Implementation\n",
       "9      N10-NTSP-P-80-1608                 TRP Implementation, N1 Concurrence"
      ]
     },
     "execution_count": 28,
     "metadata": {},
     "output_type": "execute_result"
    }
   ],
   "source": [
    "ntspWFperdoc = ntsp.groupby(['ntsp_no']).WFstep.agg(lambda x: ', '.join(set(x))).reset_index()\n",
    "ntspWFperdoc.head(10)"
   ]
  },
  {
   "cell_type": "markdown",
   "metadata": {},
   "source": [
    "#### Find StartDate and EndDate for ntsp_no"
   ]
  },
  {
   "cell_type": "code",
   "execution_count": 29,
   "metadata": {},
   "outputs": [
    {
     "data": {
      "text/html": [
       "<div>\n",
       "<style>\n",
       "    .dataframe thead tr:only-child th {\n",
       "        text-align: right;\n",
       "    }\n",
       "\n",
       "    .dataframe thead th {\n",
       "        text-align: left;\n",
       "    }\n",
       "\n",
       "    .dataframe tbody tr th {\n",
       "        vertical-align: top;\n",
       "    }\n",
       "</style>\n",
       "<table border=\"1\" class=\"dataframe\">\n",
       "  <thead>\n",
       "    <tr style=\"text-align: right;\">\n",
       "      <th></th>\n",
       "      <th>ntsp_no</th>\n",
       "      <th>StartDate</th>\n",
       "      <th>EndDate</th>\n",
       "    </tr>\n",
       "  </thead>\n",
       "  <tbody>\n",
       "    <tr>\n",
       "      <th>0</th>\n",
       "      <td>AA-NTSP-P-80-1604</td>\n",
       "      <td>2016-02-09 14:22:57</td>\n",
       "      <td>2017-01-05 10:17:24</td>\n",
       "    </tr>\n",
       "    <tr>\n",
       "      <th>1</th>\n",
       "      <td>AA-NTSP-P-80-1605</td>\n",
       "      <td>2016-02-25 14:01:11</td>\n",
       "      <td>2016-02-25 14:01:11</td>\n",
       "    </tr>\n",
       "    <tr>\n",
       "      <th>2</th>\n",
       "      <td>AA-NTSP-P-80-1606</td>\n",
       "      <td>2016-03-02 10:50:27</td>\n",
       "      <td>2016-07-15 11:46:32</td>\n",
       "    </tr>\n",
       "    <tr>\n",
       "      <th>3</th>\n",
       "      <td>G-TSCMIS-TSP-E-70-1308</td>\n",
       "      <td>2014-02-26 08:49:23</td>\n",
       "      <td>2017-03-07 11:07:18</td>\n",
       "    </tr>\n",
       "    <tr>\n",
       "      <th>4</th>\n",
       "      <td>N04-NTSP-S-40-0301A</td>\n",
       "      <td>2014-04-23 13:55:28</td>\n",
       "      <td>2014-05-12 16:13:58</td>\n",
       "    </tr>\n",
       "  </tbody>\n",
       "</table>\n",
       "</div>"
      ],
      "text/plain": [
       "                  ntsp_no           StartDate             EndDate\n",
       "0       AA-NTSP-P-80-1604 2016-02-09 14:22:57 2017-01-05 10:17:24\n",
       "1       AA-NTSP-P-80-1605 2016-02-25 14:01:11 2016-02-25 14:01:11\n",
       "2       AA-NTSP-P-80-1606 2016-03-02 10:50:27 2016-07-15 11:46:32\n",
       "3  G-TSCMIS-TSP-E-70-1308 2014-02-26 08:49:23 2017-03-07 11:07:18\n",
       "4     N04-NTSP-S-40-0301A 2014-04-23 13:55:28 2014-05-12 16:13:58"
      ]
     },
     "execution_count": 29,
     "metadata": {},
     "output_type": "execute_result"
    }
   ],
   "source": [
    "reviewDateMinDateMax = ntsp.groupby(['ntsp_no']).time_stamp.agg([np.min,np.max])\n",
    "reviewDateMinDateMax.rename(columns={'amin': 'StartDate', 'amax': 'EndDate'}, inplace = True)\n",
    "reviewDateMinDateMax = reviewDateMinDateMax.reset_index()\n",
    "reviewDateMinDateMax.head()"
   ]
  },
  {
   "cell_type": "code",
   "execution_count": 30,
   "metadata": {},
   "outputs": [
    {
     "data": {
      "text/html": [
       "<div>\n",
       "<style>\n",
       "    .dataframe thead tr:only-child th {\n",
       "        text-align: right;\n",
       "    }\n",
       "\n",
       "    .dataframe thead th {\n",
       "        text-align: left;\n",
       "    }\n",
       "\n",
       "    .dataframe tbody tr th {\n",
       "        vertical-align: top;\n",
       "    }\n",
       "</style>\n",
       "<table border=\"1\" class=\"dataframe\">\n",
       "  <thead>\n",
       "    <tr style=\"text-align: right;\">\n",
       "      <th></th>\n",
       "      <th>ntsp_no</th>\n",
       "      <th>StartDate</th>\n",
       "      <th>EndDate</th>\n",
       "      <th>WFstep</th>\n",
       "      <th>_merge</th>\n",
       "    </tr>\n",
       "  </thead>\n",
       "  <tbody>\n",
       "    <tr>\n",
       "      <th>0</th>\n",
       "      <td>AA-NTSP-P-80-1604</td>\n",
       "      <td>2016-02-09 14:22:57</td>\n",
       "      <td>2017-01-05 10:17:24</td>\n",
       "      <td>NTSP QA, Concurrence Validation, Requirements ...</td>\n",
       "      <td>both</td>\n",
       "    </tr>\n",
       "    <tr>\n",
       "      <th>1</th>\n",
       "      <td>AA-NTSP-P-80-1605</td>\n",
       "      <td>2016-02-25 14:01:11</td>\n",
       "      <td>2016-02-25 14:01:11</td>\n",
       "      <td>TRP Implementation</td>\n",
       "      <td>both</td>\n",
       "    </tr>\n",
       "    <tr>\n",
       "      <th>2</th>\n",
       "      <td>AA-NTSP-P-80-1606</td>\n",
       "      <td>2016-03-02 10:50:27</td>\n",
       "      <td>2016-07-15 11:46:32</td>\n",
       "      <td>N1 Concurrence, TRP Implementation, Concurrenc...</td>\n",
       "      <td>both</td>\n",
       "    </tr>\n",
       "    <tr>\n",
       "      <th>3</th>\n",
       "      <td>G-TSCMIS-TSP-E-70-1308</td>\n",
       "      <td>2014-02-26 08:49:23</td>\n",
       "      <td>2017-03-07 11:07:18</td>\n",
       "      <td>Approved, Annual Review</td>\n",
       "      <td>both</td>\n",
       "    </tr>\n",
       "    <tr>\n",
       "      <th>4</th>\n",
       "      <td>N04-NTSP-S-40-0301A</td>\n",
       "      <td>2014-04-23 13:55:28</td>\n",
       "      <td>2014-05-12 16:13:58</td>\n",
       "      <td>Approved, Annual Review</td>\n",
       "      <td>both</td>\n",
       "    </tr>\n",
       "  </tbody>\n",
       "</table>\n",
       "</div>"
      ],
      "text/plain": [
       "                  ntsp_no           StartDate             EndDate  \\\n",
       "0       AA-NTSP-P-80-1604 2016-02-09 14:22:57 2017-01-05 10:17:24   \n",
       "1       AA-NTSP-P-80-1605 2016-02-25 14:01:11 2016-02-25 14:01:11   \n",
       "2       AA-NTSP-P-80-1606 2016-03-02 10:50:27 2016-07-15 11:46:32   \n",
       "3  G-TSCMIS-TSP-E-70-1308 2014-02-26 08:49:23 2017-03-07 11:07:18   \n",
       "4     N04-NTSP-S-40-0301A 2014-04-23 13:55:28 2014-05-12 16:13:58   \n",
       "\n",
       "                                              WFstep _merge  \n",
       "0  NTSP QA, Concurrence Validation, Requirements ...   both  \n",
       "1                                 TRP Implementation   both  \n",
       "2  N1 Concurrence, TRP Implementation, Concurrenc...   both  \n",
       "3                            Approved, Annual Review   both  \n",
       "4                            Approved, Annual Review   both  "
      ]
     },
     "execution_count": 30,
     "metadata": {},
     "output_type": "execute_result"
    }
   ],
   "source": [
    "#pd.merge?\n",
    "mergedData = pd.merge(reviewDateMinDateMax, ntspWFperdoc, how='outer', on='ntsp_no', sort=False, suffixes=('_x', '_y'), copy=True, indicator=True)\n",
    "mergedData.head()"
   ]
  },
  {
   "cell_type": "code",
   "execution_count": 31,
   "metadata": {},
   "outputs": [
    {
     "data": {
      "text/plain": [
       "both          211\n",
       "right_only      0\n",
       "left_only       0\n",
       "Name: _merge, dtype: int64"
      ]
     },
     "execution_count": 31,
     "metadata": {},
     "output_type": "execute_result"
    }
   ],
   "source": [
    "mergedData._merge.value_counts()"
   ]
  },
  {
   "cell_type": "markdown",
   "metadata": {},
   "source": [
    "#### Find time difference between the two dataframes"
   ]
  },
  {
   "cell_type": "code",
   "execution_count": 32,
   "metadata": {},
   "outputs": [
    {
     "data": {
      "text/plain": [
       "count     211.000000\n",
       "mean      551.616114\n",
       "std       480.847604\n",
       "min         0.000000\n",
       "25%         0.000000\n",
       "50%       590.000000\n",
       "75%       951.500000\n",
       "max      1449.000000\n",
       "Name: ntspduration, dtype: float64"
      ]
     },
     "execution_count": 32,
     "metadata": {},
     "output_type": "execute_result"
    }
   ],
   "source": [
    "mergedData['ntspduration'] = mergedData['EndDate'] - mergedData['StartDate']\n",
    "mergedData['ntspduration'] = mergedData.ntspduration.astype('timedelta64[D]')\n",
    "mergedData.ntspduration.describe()"
   ]
  },
  {
   "cell_type": "code",
   "execution_count": 33,
   "metadata": {},
   "outputs": [
    {
     "data": {
      "text/plain": [
       "ntsp_no                 object\n",
       "StartDate       datetime64[ns]\n",
       "EndDate         datetime64[ns]\n",
       "WFstep                  object\n",
       "_merge                category\n",
       "ntspduration           float64\n",
       "dtype: object"
      ]
     },
     "execution_count": 33,
     "metadata": {},
     "output_type": "execute_result"
    }
   ],
   "source": [
    "mergedData.dtypes"
   ]
  },
  {
   "cell_type": "code",
   "execution_count": 34,
   "metadata": {},
   "outputs": [
    {
     "data": {
      "text/html": [
       "<div>\n",
       "<style>\n",
       "    .dataframe thead tr:only-child th {\n",
       "        text-align: right;\n",
       "    }\n",
       "\n",
       "    .dataframe thead th {\n",
       "        text-align: left;\n",
       "    }\n",
       "\n",
       "    .dataframe tbody tr th {\n",
       "        vertical-align: top;\n",
       "    }\n",
       "</style>\n",
       "<table border=\"1\" class=\"dataframe\">\n",
       "  <thead>\n",
       "    <tr style=\"text-align: right;\">\n",
       "      <th></th>\n",
       "      <th>count</th>\n",
       "      <th>mean</th>\n",
       "    </tr>\n",
       "    <tr>\n",
       "      <th>ntsp_no</th>\n",
       "      <th></th>\n",
       "      <th></th>\n",
       "    </tr>\n",
       "  </thead>\n",
       "  <tbody>\n",
       "    <tr>\n",
       "      <th>AA-NTSP-P-80-1604</th>\n",
       "      <td>1</td>\n",
       "      <td>330.0</td>\n",
       "    </tr>\n",
       "    <tr>\n",
       "      <th>AA-NTSP-P-80-1605</th>\n",
       "      <td>1</td>\n",
       "      <td>0.0</td>\n",
       "    </tr>\n",
       "    <tr>\n",
       "      <th>AA-NTSP-P-80-1606</th>\n",
       "      <td>1</td>\n",
       "      <td>135.0</td>\n",
       "    </tr>\n",
       "    <tr>\n",
       "      <th>G-TSCMIS-TSP-E-70-1308</th>\n",
       "      <td>1</td>\n",
       "      <td>1105.0</td>\n",
       "    </tr>\n",
       "    <tr>\n",
       "      <th>N04-NTSP-S-40-0301A</th>\n",
       "      <td>1</td>\n",
       "      <td>19.0</td>\n",
       "    </tr>\n",
       "    <tr>\n",
       "      <th>N093-NTSP-E-70-1304</th>\n",
       "      <td>1</td>\n",
       "      <td>719.0</td>\n",
       "    </tr>\n",
       "    <tr>\n",
       "      <th>N09I-NTSP-E-70-1203</th>\n",
       "      <td>1</td>\n",
       "      <td>905.0</td>\n",
       "    </tr>\n",
       "    <tr>\n",
       "      <th>N1-NTSP-E-80-0901E</th>\n",
       "      <td>1</td>\n",
       "      <td>0.0</td>\n",
       "    </tr>\n",
       "    <tr>\n",
       "      <th>N10-NTSP-P-80-1607</th>\n",
       "      <td>1</td>\n",
       "      <td>0.0</td>\n",
       "    </tr>\n",
       "    <tr>\n",
       "      <th>N10-NTSP-P-80-1608</th>\n",
       "      <td>1</td>\n",
       "      <td>139.0</td>\n",
       "    </tr>\n",
       "    <tr>\n",
       "      <th>N156-NTSP-P-80-1609</th>\n",
       "      <td>1</td>\n",
       "      <td>0.0</td>\n",
       "    </tr>\n",
       "    <tr>\n",
       "      <th>N16-NTSP-P-80-1701</th>\n",
       "      <td>1</td>\n",
       "      <td>111.0</td>\n",
       "    </tr>\n",
       "    <tr>\n",
       "      <th>N2N6-NTSP-E-70-0013</th>\n",
       "      <td>1</td>\n",
       "      <td>637.0</td>\n",
       "    </tr>\n",
       "    <tr>\n",
       "      <th>N2N6-NTSP-E-70-0013A</th>\n",
       "      <td>1</td>\n",
       "      <td>773.0</td>\n",
       "    </tr>\n",
       "    <tr>\n",
       "      <th>N2N6-NTSP-E-70-0014C</th>\n",
       "      <td>1</td>\n",
       "      <td>741.0</td>\n",
       "    </tr>\n",
       "    <tr>\n",
       "      <th>N2N6-NTSP-E-70-0015</th>\n",
       "      <td>1</td>\n",
       "      <td>823.0</td>\n",
       "    </tr>\n",
       "    <tr>\n",
       "      <th>N2N6-NTSP-E-70-0203D</th>\n",
       "      <td>1</td>\n",
       "      <td>318.0</td>\n",
       "    </tr>\n",
       "    <tr>\n",
       "      <th>N2N6-NTSP-E-70-0204</th>\n",
       "      <td>1</td>\n",
       "      <td>524.0</td>\n",
       "    </tr>\n",
       "    <tr>\n",
       "      <th>N2N6-NTSP-E-70-0207B</th>\n",
       "      <td>1</td>\n",
       "      <td>1082.0</td>\n",
       "    </tr>\n",
       "    <tr>\n",
       "      <th>N2N6-NTSP-E-70-0406B</th>\n",
       "      <td>1</td>\n",
       "      <td>604.0</td>\n",
       "    </tr>\n",
       "    <tr>\n",
       "      <th>N2N6-NTSP-E-70-0406C</th>\n",
       "      <td>1</td>\n",
       "      <td>107.0</td>\n",
       "    </tr>\n",
       "    <tr>\n",
       "      <th>N2N6-NTSP-E-70-0406D</th>\n",
       "      <td>1</td>\n",
       "      <td>1068.0</td>\n",
       "    </tr>\n",
       "    <tr>\n",
       "      <th>N2N6-NTSP-E-70-0407A</th>\n",
       "      <td>1</td>\n",
       "      <td>691.0</td>\n",
       "    </tr>\n",
       "    <tr>\n",
       "      <th>N2N6-NTSP-E-70-0407B</th>\n",
       "      <td>1</td>\n",
       "      <td>667.0</td>\n",
       "    </tr>\n",
       "    <tr>\n",
       "      <th>N2N6-NTSP-E-70-0601A</th>\n",
       "      <td>1</td>\n",
       "      <td>737.0</td>\n",
       "    </tr>\n",
       "    <tr>\n",
       "      <th>N2N6-NTSP-E-70-0601B</th>\n",
       "      <td>1</td>\n",
       "      <td>628.0</td>\n",
       "    </tr>\n",
       "    <tr>\n",
       "      <th>N2N6-NTSP-E-70-0611A</th>\n",
       "      <td>1</td>\n",
       "      <td>0.0</td>\n",
       "    </tr>\n",
       "    <tr>\n",
       "      <th>N2N6-NTSP-E-70-0611B</th>\n",
       "      <td>1</td>\n",
       "      <td>1086.0</td>\n",
       "    </tr>\n",
       "    <tr>\n",
       "      <th>N2N6-NTSP-E-70-0616A</th>\n",
       "      <td>1</td>\n",
       "      <td>417.0</td>\n",
       "    </tr>\n",
       "    <tr>\n",
       "      <th>N2N6-NTSP-E-70-0706A</th>\n",
       "      <td>1</td>\n",
       "      <td>1338.0</td>\n",
       "    </tr>\n",
       "    <tr>\n",
       "      <th>...</th>\n",
       "      <td>...</td>\n",
       "      <td>...</td>\n",
       "    </tr>\n",
       "    <tr>\n",
       "      <th>N95-NTSP-E-70-1503</th>\n",
       "      <td>1</td>\n",
       "      <td>865.0</td>\n",
       "    </tr>\n",
       "    <tr>\n",
       "      <th>N95-NTSP-F-00-1201</th>\n",
       "      <td>1</td>\n",
       "      <td>316.0</td>\n",
       "    </tr>\n",
       "    <tr>\n",
       "      <th>N95-NTSP-F-00-1201A</th>\n",
       "      <td>1</td>\n",
       "      <td>432.0</td>\n",
       "    </tr>\n",
       "    <tr>\n",
       "      <th>N95-NTSP-F-80-1201</th>\n",
       "      <td>1</td>\n",
       "      <td>666.0</td>\n",
       "    </tr>\n",
       "    <tr>\n",
       "      <th>N95-NTSP-F-80-1202</th>\n",
       "      <td>1</td>\n",
       "      <td>756.0</td>\n",
       "    </tr>\n",
       "    <tr>\n",
       "      <th>N95-NTSP-F-80-1203</th>\n",
       "      <td>1</td>\n",
       "      <td>1296.0</td>\n",
       "    </tr>\n",
       "    <tr>\n",
       "      <th>N95-NTSP-F-80-1204</th>\n",
       "      <td>1</td>\n",
       "      <td>1289.0</td>\n",
       "    </tr>\n",
       "    <tr>\n",
       "      <th>N95-NTSP-F-80-1204A</th>\n",
       "      <td>1</td>\n",
       "      <td>349.0</td>\n",
       "    </tr>\n",
       "    <tr>\n",
       "      <th>N95-NTSP-F-80-1205</th>\n",
       "      <td>1</td>\n",
       "      <td>817.0</td>\n",
       "    </tr>\n",
       "    <tr>\n",
       "      <th>N95-NTSP-F-80-1206</th>\n",
       "      <td>1</td>\n",
       "      <td>1289.0</td>\n",
       "    </tr>\n",
       "    <tr>\n",
       "      <th>N95-NTSP-F-80-1206A</th>\n",
       "      <td>1</td>\n",
       "      <td>349.0</td>\n",
       "    </tr>\n",
       "    <tr>\n",
       "      <th>N95-NTSP-F-80-1207</th>\n",
       "      <td>1</td>\n",
       "      <td>1302.0</td>\n",
       "    </tr>\n",
       "    <tr>\n",
       "      <th>N95-NTSP-F-80-1207A</th>\n",
       "      <td>1</td>\n",
       "      <td>349.0</td>\n",
       "    </tr>\n",
       "    <tr>\n",
       "      <th>N95-NTSP-F-80-1301</th>\n",
       "      <td>1</td>\n",
       "      <td>1295.0</td>\n",
       "    </tr>\n",
       "    <tr>\n",
       "      <th>N95-NTSP-F-80-1301A</th>\n",
       "      <td>1</td>\n",
       "      <td>349.0</td>\n",
       "    </tr>\n",
       "    <tr>\n",
       "      <th>N95-NTSP-F-80-1401</th>\n",
       "      <td>1</td>\n",
       "      <td>1238.0</td>\n",
       "    </tr>\n",
       "    <tr>\n",
       "      <th>N95-NTSP-F-80-1402</th>\n",
       "      <td>1</td>\n",
       "      <td>1238.0</td>\n",
       "    </tr>\n",
       "    <tr>\n",
       "      <th>N95-NTSP-F-80-1501</th>\n",
       "      <td>1</td>\n",
       "      <td>951.0</td>\n",
       "    </tr>\n",
       "    <tr>\n",
       "      <th>N95-NTSP-F-80-1502</th>\n",
       "      <td>1</td>\n",
       "      <td>718.0</td>\n",
       "    </tr>\n",
       "    <tr>\n",
       "      <th>N95-NTSP-F-80-1503</th>\n",
       "      <td>1</td>\n",
       "      <td>729.0</td>\n",
       "    </tr>\n",
       "    <tr>\n",
       "      <th>N95-NTSP-F-80-1504</th>\n",
       "      <td>1</td>\n",
       "      <td>753.0</td>\n",
       "    </tr>\n",
       "    <tr>\n",
       "      <th>N95-NTSP-F-80-1601</th>\n",
       "      <td>1</td>\n",
       "      <td>0.0</td>\n",
       "    </tr>\n",
       "    <tr>\n",
       "      <th>N95-NTSP-F-80-1602</th>\n",
       "      <td>1</td>\n",
       "      <td>0.0</td>\n",
       "    </tr>\n",
       "    <tr>\n",
       "      <th>N95-NTSP-F-80-1603</th>\n",
       "      <td>1</td>\n",
       "      <td>0.0</td>\n",
       "    </tr>\n",
       "    <tr>\n",
       "      <th>N95-NTSP-X-00-8301B</th>\n",
       "      <td>1</td>\n",
       "      <td>870.0</td>\n",
       "    </tr>\n",
       "    <tr>\n",
       "      <th>N95-NTSP-X-00-8301C</th>\n",
       "      <td>1</td>\n",
       "      <td>350.0</td>\n",
       "    </tr>\n",
       "    <tr>\n",
       "      <th>N96-NTSP-E-70-1203A</th>\n",
       "      <td>1</td>\n",
       "      <td>284.0</td>\n",
       "    </tr>\n",
       "    <tr>\n",
       "      <th>N96-NTSP-S-30-7624F</th>\n",
       "      <td>1</td>\n",
       "      <td>1000.0</td>\n",
       "    </tr>\n",
       "    <tr>\n",
       "      <th>N98-NTSP-P-40-1601</th>\n",
       "      <td>1</td>\n",
       "      <td>0.0</td>\n",
       "    </tr>\n",
       "    <tr>\n",
       "      <th>NTP-E-70-9502</th>\n",
       "      <td>1</td>\n",
       "      <td>261.0</td>\n",
       "    </tr>\n",
       "  </tbody>\n",
       "</table>\n",
       "<p>211 rows × 2 columns</p>\n",
       "</div>"
      ],
      "text/plain": [
       "                        count    mean\n",
       "ntsp_no                              \n",
       "AA-NTSP-P-80-1604           1   330.0\n",
       "AA-NTSP-P-80-1605           1     0.0\n",
       "AA-NTSP-P-80-1606           1   135.0\n",
       "G-TSCMIS-TSP-E-70-1308      1  1105.0\n",
       "N04-NTSP-S-40-0301A         1    19.0\n",
       "N093-NTSP-E-70-1304         1   719.0\n",
       "N09I-NTSP-E-70-1203         1   905.0\n",
       "N1-NTSP-E-80-0901E          1     0.0\n",
       "N10-NTSP-P-80-1607          1     0.0\n",
       "N10-NTSP-P-80-1608          1   139.0\n",
       "N156-NTSP-P-80-1609         1     0.0\n",
       "N16-NTSP-P-80-1701          1   111.0\n",
       "N2N6-NTSP-E-70-0013         1   637.0\n",
       "N2N6-NTSP-E-70-0013A        1   773.0\n",
       "N2N6-NTSP-E-70-0014C        1   741.0\n",
       "N2N6-NTSP-E-70-0015         1   823.0\n",
       "N2N6-NTSP-E-70-0203D        1   318.0\n",
       "N2N6-NTSP-E-70-0204         1   524.0\n",
       "N2N6-NTSP-E-70-0207B        1  1082.0\n",
       "N2N6-NTSP-E-70-0406B        1   604.0\n",
       "N2N6-NTSP-E-70-0406C        1   107.0\n",
       "N2N6-NTSP-E-70-0406D        1  1068.0\n",
       "N2N6-NTSP-E-70-0407A        1   691.0\n",
       "N2N6-NTSP-E-70-0407B        1   667.0\n",
       "N2N6-NTSP-E-70-0601A        1   737.0\n",
       "N2N6-NTSP-E-70-0601B        1   628.0\n",
       "N2N6-NTSP-E-70-0611A        1     0.0\n",
       "N2N6-NTSP-E-70-0611B        1  1086.0\n",
       "N2N6-NTSP-E-70-0616A        1   417.0\n",
       "N2N6-NTSP-E-70-0706A        1  1338.0\n",
       "...                       ...     ...\n",
       "N95-NTSP-E-70-1503          1   865.0\n",
       "N95-NTSP-F-00-1201          1   316.0\n",
       "N95-NTSP-F-00-1201A         1   432.0\n",
       "N95-NTSP-F-80-1201          1   666.0\n",
       "N95-NTSP-F-80-1202          1   756.0\n",
       "N95-NTSP-F-80-1203          1  1296.0\n",
       "N95-NTSP-F-80-1204          1  1289.0\n",
       "N95-NTSP-F-80-1204A         1   349.0\n",
       "N95-NTSP-F-80-1205          1   817.0\n",
       "N95-NTSP-F-80-1206          1  1289.0\n",
       "N95-NTSP-F-80-1206A         1   349.0\n",
       "N95-NTSP-F-80-1207          1  1302.0\n",
       "N95-NTSP-F-80-1207A         1   349.0\n",
       "N95-NTSP-F-80-1301          1  1295.0\n",
       "N95-NTSP-F-80-1301A         1   349.0\n",
       "N95-NTSP-F-80-1401          1  1238.0\n",
       "N95-NTSP-F-80-1402          1  1238.0\n",
       "N95-NTSP-F-80-1501          1   951.0\n",
       "N95-NTSP-F-80-1502          1   718.0\n",
       "N95-NTSP-F-80-1503          1   729.0\n",
       "N95-NTSP-F-80-1504          1   753.0\n",
       "N95-NTSP-F-80-1601          1     0.0\n",
       "N95-NTSP-F-80-1602          1     0.0\n",
       "N95-NTSP-F-80-1603          1     0.0\n",
       "N95-NTSP-X-00-8301B         1   870.0\n",
       "N95-NTSP-X-00-8301C         1   350.0\n",
       "N96-NTSP-E-70-1203A         1   284.0\n",
       "N96-NTSP-S-30-7624F         1  1000.0\n",
       "N98-NTSP-P-40-1601          1     0.0\n",
       "NTP-E-70-9502               1   261.0\n",
       "\n",
       "[211 rows x 2 columns]"
      ]
     },
     "execution_count": 34,
     "metadata": {},
     "output_type": "execute_result"
    }
   ],
   "source": [
    "#drinks.groupby('continent').beer.agg(['count', 'mean', 'min', 'max'])\n",
    "mergedData.groupby('ntsp_no').ntspduration.agg(['count','mean'])"
   ]
  },
  {
   "cell_type": "code",
   "execution_count": 35,
   "metadata": {},
   "outputs": [
    {
     "data": {
      "text/plain": [
       "count     211.000000\n",
       "mean      551.616114\n",
       "std       480.847604\n",
       "min         0.000000\n",
       "25%         0.000000\n",
       "50%       590.000000\n",
       "75%       951.500000\n",
       "max      1449.000000\n",
       "Name: ntspduration, dtype: float64"
      ]
     },
     "execution_count": 35,
     "metadata": {},
     "output_type": "execute_result"
    }
   ],
   "source": [
    "mergedData.ntspduration.describe()"
   ]
  },
  {
   "cell_type": "code",
   "execution_count": 36,
   "metadata": {},
   "outputs": [
    {
     "data": {
      "image/png": "[encoded data removed]",
      "text/plain": [
       "<matplotlib.figure.Figure at 0xd22d470>"
      ]
     },
     "metadata": {},
     "output_type": "display_data"
    }
   ],
   "source": [
    "ax = mergedData.ntspduration.plot(kind='hist', bins=20);"
   ]
  },
  {
   "cell_type": "markdown",
   "metadata": {},
   "source": [
    "#### Drop NTSPs with development duration = 0. \n",
    "##### Note: Further cleaning is required here to make sure all documents in dataset went through the same number of workflow steps.  If not, then we need to either delete them or group by number of workflow steps achieved."
   ]
  },
  {
   "cell_type": "code",
   "execution_count": 37,
   "metadata": {},
   "outputs": [
    {
     "data": {
      "text/plain": [
       "count     157.000000\n",
       "mean      741.343949\n",
       "std       411.940494\n",
       "min        19.000000\n",
       "25%       381.000000\n",
       "50%       758.000000\n",
       "75%      1060.000000\n",
       "max      1449.000000\n",
       "Name: ntspduration, dtype: float64"
      ]
     },
     "execution_count": 37,
     "metadata": {},
     "output_type": "execute_result"
    }
   ],
   "source": [
    "mergedData = mergedData[mergedData.ntspduration!=0]\n",
    "mergedData.ntspduration.describe()"
   ]
  },
  {
   "cell_type": "markdown",
   "metadata": {},
   "source": [
    "#### New histogram with NTSPs with development duration == 0 dropped"
   ]
  },
  {
   "cell_type": "code",
   "execution_count": 38,
   "metadata": {},
   "outputs": [
    {
     "data": {
      "image/png": "[encoded data removed]",
      "text/plain": [
       "<matplotlib.figure.Figure at 0xab13668>"
      ]
     },
     "metadata": {},
     "output_type": "display_data"
    }
   ],
   "source": [
    "ax = mergedData.ntspduration.plot(kind='hist', bins=20);\n",
    "ax.set_ylabel('Count', fontsize=14);\n",
    "ax.set_xlabel('Document Development Time (Days)', fontsize=14);\n",
    "ax.set_title('Histogram of Document Development Time', fontsize=15, y=1.01);\n"
   ]
  },
  {
   "cell_type": "markdown",
   "metadata": {},
   "source": [
    "#### Read in data from Sponsor tab to get sponsors, Sponsor type (User_Status1) , and Organization"
   ]
  },
  {
   "cell_type": "code",
   "execution_count": 39,
   "metadata": {},
   "outputs": [
    {
     "data": {
      "text/plain": [
       "Index([u'NTSP_NO', u'FIRST', u'LAST', u'User_Status1', u'DELETED'], dtype='object')"
      ]
     },
     "execution_count": 39,
     "metadata": {},
     "output_type": "execute_result"
    }
   ],
   "source": [
    "sponsors=pd.read_csv('Sponsors1.csv')\n",
    "sponsors.columns\n",
    "#notcolumns=['ID','EMAIL','ROLE']"
   ]
  },
  {
   "cell_type": "code",
   "execution_count": 40,
   "metadata": {},
   "outputs": [
    {
     "data": {
      "text/plain": [
       "(321, 5)"
      ]
     },
     "execution_count": 40,
     "metadata": {},
     "output_type": "execute_result"
    }
   ],
   "source": [
    "sponsors.shape"
   ]
  },
  {
   "cell_type": "code",
   "execution_count": 41,
   "metadata": {
    "collapsed": true
   },
   "outputs": [],
   "source": [
    "sponsors.rename(columns={'NTSP_NO':'ntsp_no','FIRST':'firstName','LAST':'lastName','ORGANIZATION':'organization','USER_STATUS':'user_status','DELETED':'deleted'}, inplace=True)\n"
   ]
  },
  {
   "cell_type": "code",
   "execution_count": 42,
   "metadata": {},
   "outputs": [
    {
     "data": {
      "text/html": [
       "<div>\n",
       "<style>\n",
       "    .dataframe thead tr:only-child th {\n",
       "        text-align: right;\n",
       "    }\n",
       "\n",
       "    .dataframe thead th {\n",
       "        text-align: left;\n",
       "    }\n",
       "\n",
       "    .dataframe tbody tr th {\n",
       "        vertical-align: top;\n",
       "    }\n",
       "</style>\n",
       "<table border=\"1\" class=\"dataframe\">\n",
       "  <thead>\n",
       "    <tr style=\"text-align: right;\">\n",
       "      <th></th>\n",
       "      <th>ntsp_no</th>\n",
       "      <th>firstName</th>\n",
       "      <th>lastName</th>\n",
       "      <th>User_Status1</th>\n",
       "      <th>deleted</th>\n",
       "    </tr>\n",
       "  </thead>\n",
       "  <tbody>\n",
       "    <tr>\n",
       "      <th>0</th>\n",
       "      <td>434-NTSP-X-00-TEST</td>\n",
       "      <td>David</td>\n",
       "      <td>Bowie</td>\n",
       "      <td>B</td>\n",
       "      <td>N</td>\n",
       "    </tr>\n",
       "    <tr>\n",
       "      <th>1</th>\n",
       "      <td>N04-NTSP-S-40-0301</td>\n",
       "      <td>mark</td>\n",
       "      <td>Washington</td>\n",
       "      <td>C</td>\n",
       "      <td>Y</td>\n",
       "    </tr>\n",
       "    <tr>\n",
       "      <th>2</th>\n",
       "      <td>N04-NTSP-S-40-0301A</td>\n",
       "      <td>James</td>\n",
       "      <td>Huey</td>\n",
       "      <td>C</td>\n",
       "      <td>N</td>\n",
       "    </tr>\n",
       "    <tr>\n",
       "      <th>3</th>\n",
       "      <td>N093-NTSP-E-70-1304</td>\n",
       "      <td>David</td>\n",
       "      <td>Billings</td>\n",
       "      <td>B</td>\n",
       "      <td>N</td>\n",
       "    </tr>\n",
       "    <tr>\n",
       "      <th>4</th>\n",
       "      <td>N096-NTSP-E-80-0101</td>\n",
       "      <td>Don</td>\n",
       "      <td>Hawthorne</td>\n",
       "      <td>B</td>\n",
       "      <td>N</td>\n",
       "    </tr>\n",
       "  </tbody>\n",
       "</table>\n",
       "</div>"
      ],
      "text/plain": [
       "               ntsp_no firstName    lastName User_Status1 deleted\n",
       "0   434-NTSP-X-00-TEST     David       Bowie            B       N\n",
       "1   N04-NTSP-S-40-0301      mark  Washington            C       Y\n",
       "2  N04-NTSP-S-40-0301A     James        Huey            C       N\n",
       "3  N093-NTSP-E-70-1304     David    Billings            B       N\n",
       "4  N096-NTSP-E-80-0101       Don   Hawthorne            B       N"
      ]
     },
     "execution_count": 42,
     "metadata": {},
     "output_type": "execute_result"
    }
   ],
   "source": [
    "sponsors.head()"
   ]
  },
  {
   "cell_type": "code",
   "execution_count": 43,
   "metadata": {},
   "outputs": [
    {
     "data": {
      "text/plain": [
       "Index([u'ntsp_no', u'firstName', u'lastName', u'User_Status1', u'deleted'], dtype='object')"
      ]
     },
     "execution_count": 43,
     "metadata": {},
     "output_type": "execute_result"
    }
   ],
   "source": [
    "#sponsors.drop(notcolumns, axis=1, inplace=True)\n",
    "sponsors.columns"
   ]
  },
  {
   "cell_type": "code",
   "execution_count": 44,
   "metadata": {},
   "outputs": [
    {
     "data": {
      "text/html": [
       "<div>\n",
       "<style>\n",
       "    .dataframe thead tr:only-child th {\n",
       "        text-align: right;\n",
       "    }\n",
       "\n",
       "    .dataframe thead th {\n",
       "        text-align: left;\n",
       "    }\n",
       "\n",
       "    .dataframe tbody tr th {\n",
       "        vertical-align: top;\n",
       "    }\n",
       "</style>\n",
       "<table border=\"1\" class=\"dataframe\">\n",
       "  <thead>\n",
       "    <tr style=\"text-align: right;\">\n",
       "      <th></th>\n",
       "      <th>ntsp_no</th>\n",
       "      <th>firstName</th>\n",
       "      <th>lastName</th>\n",
       "      <th>User_Status1</th>\n",
       "      <th>deleted</th>\n",
       "    </tr>\n",
       "  </thead>\n",
       "  <tbody>\n",
       "    <tr>\n",
       "      <th>0</th>\n",
       "      <td>434-NTSP-X-00-TEST</td>\n",
       "      <td>David</td>\n",
       "      <td>Bowie</td>\n",
       "      <td>B</td>\n",
       "      <td>N</td>\n",
       "    </tr>\n",
       "    <tr>\n",
       "      <th>1</th>\n",
       "      <td>N04-NTSP-S-40-0301</td>\n",
       "      <td>mark</td>\n",
       "      <td>Washington</td>\n",
       "      <td>C</td>\n",
       "      <td>Y</td>\n",
       "    </tr>\n",
       "    <tr>\n",
       "      <th>2</th>\n",
       "      <td>N04-NTSP-S-40-0301A</td>\n",
       "      <td>James</td>\n",
       "      <td>Huey</td>\n",
       "      <td>C</td>\n",
       "      <td>N</td>\n",
       "    </tr>\n",
       "    <tr>\n",
       "      <th>3</th>\n",
       "      <td>N093-NTSP-E-70-1304</td>\n",
       "      <td>David</td>\n",
       "      <td>Billings</td>\n",
       "      <td>B</td>\n",
       "      <td>N</td>\n",
       "    </tr>\n",
       "    <tr>\n",
       "      <th>4</th>\n",
       "      <td>N096-NTSP-E-80-0101</td>\n",
       "      <td>Don</td>\n",
       "      <td>Hawthorne</td>\n",
       "      <td>B</td>\n",
       "      <td>N</td>\n",
       "    </tr>\n",
       "  </tbody>\n",
       "</table>\n",
       "</div>"
      ],
      "text/plain": [
       "               ntsp_no firstName    lastName User_Status1 deleted\n",
       "0   434-NTSP-X-00-TEST     David       Bowie            B       N\n",
       "1   N04-NTSP-S-40-0301      mark  Washington            C       Y\n",
       "2  N04-NTSP-S-40-0301A     James        Huey            C       N\n",
       "3  N093-NTSP-E-70-1304     David    Billings            B       N\n",
       "4  N096-NTSP-E-80-0101       Don   Hawthorne            B       N"
      ]
     },
     "execution_count": 44,
     "metadata": {},
     "output_type": "execute_result"
    }
   ],
   "source": [
    "sponsors.head(5)"
   ]
  },
  {
   "cell_type": "code",
   "execution_count": 45,
   "metadata": {},
   "outputs": [
    {
     "data": {
      "text/plain": [
       "(321, 5)"
      ]
     },
     "execution_count": 45,
     "metadata": {},
     "output_type": "execute_result"
    }
   ],
   "source": [
    "sponsors.shape"
   ]
  },
  {
   "cell_type": "markdown",
   "metadata": {},
   "source": [
    "## Merging our data (left join/VLookup)"
   ]
  },
  {
   "cell_type": "code",
   "execution_count": 46,
   "metadata": {},
   "outputs": [
    {
     "data": {
      "text/plain": [
       "(157, 6)"
      ]
     },
     "execution_count": 46,
     "metadata": {},
     "output_type": "execute_result"
    }
   ],
   "source": [
    "mergedData.shape"
   ]
  },
  {
   "cell_type": "code",
   "execution_count": 47,
   "metadata": {},
   "outputs": [
    {
     "data": {
      "text/html": [
       "<div>\n",
       "<style>\n",
       "    .dataframe thead tr:only-child th {\n",
       "        text-align: right;\n",
       "    }\n",
       "\n",
       "    .dataframe thead th {\n",
       "        text-align: left;\n",
       "    }\n",
       "\n",
       "    .dataframe tbody tr th {\n",
       "        vertical-align: top;\n",
       "    }\n",
       "</style>\n",
       "<table border=\"1\" class=\"dataframe\">\n",
       "  <thead>\n",
       "    <tr style=\"text-align: right;\">\n",
       "      <th></th>\n",
       "      <th>ntsp_no</th>\n",
       "      <th>StartDate</th>\n",
       "      <th>EndDate</th>\n",
       "      <th>WFstep</th>\n",
       "      <th>_merge</th>\n",
       "      <th>ntspduration</th>\n",
       "    </tr>\n",
       "  </thead>\n",
       "  <tbody>\n",
       "    <tr>\n",
       "      <th>0</th>\n",
       "      <td>AA-NTSP-P-80-1604</td>\n",
       "      <td>2016-02-09 14:22:57</td>\n",
       "      <td>2017-01-05 10:17:24</td>\n",
       "      <td>NTSP QA, Concurrence Validation, Requirements ...</td>\n",
       "      <td>both</td>\n",
       "      <td>330.0</td>\n",
       "    </tr>\n",
       "    <tr>\n",
       "      <th>2</th>\n",
       "      <td>AA-NTSP-P-80-1606</td>\n",
       "      <td>2016-03-02 10:50:27</td>\n",
       "      <td>2016-07-15 11:46:32</td>\n",
       "      <td>N1 Concurrence, TRP Implementation, Concurrenc...</td>\n",
       "      <td>both</td>\n",
       "      <td>135.0</td>\n",
       "    </tr>\n",
       "    <tr>\n",
       "      <th>3</th>\n",
       "      <td>G-TSCMIS-TSP-E-70-1308</td>\n",
       "      <td>2014-02-26 08:49:23</td>\n",
       "      <td>2017-03-07 11:07:18</td>\n",
       "      <td>Approved, Annual Review</td>\n",
       "      <td>both</td>\n",
       "      <td>1105.0</td>\n",
       "    </tr>\n",
       "    <tr>\n",
       "      <th>4</th>\n",
       "      <td>N04-NTSP-S-40-0301A</td>\n",
       "      <td>2014-04-23 13:55:28</td>\n",
       "      <td>2014-05-12 16:13:58</td>\n",
       "      <td>Approved, Annual Review</td>\n",
       "      <td>both</td>\n",
       "      <td>19.0</td>\n",
       "    </tr>\n",
       "    <tr>\n",
       "      <th>5</th>\n",
       "      <td>N093-NTSP-E-70-1304</td>\n",
       "      <td>2013-12-20 09:02:29</td>\n",
       "      <td>2015-12-09 10:50:14</td>\n",
       "      <td>Concurrence Validation, Requirements Validatio...</td>\n",
       "      <td>both</td>\n",
       "      <td>719.0</td>\n",
       "    </tr>\n",
       "  </tbody>\n",
       "</table>\n",
       "</div>"
      ],
      "text/plain": [
       "                  ntsp_no           StartDate             EndDate  \\\n",
       "0       AA-NTSP-P-80-1604 2016-02-09 14:22:57 2017-01-05 10:17:24   \n",
       "2       AA-NTSP-P-80-1606 2016-03-02 10:50:27 2016-07-15 11:46:32   \n",
       "3  G-TSCMIS-TSP-E-70-1308 2014-02-26 08:49:23 2017-03-07 11:07:18   \n",
       "4     N04-NTSP-S-40-0301A 2014-04-23 13:55:28 2014-05-12 16:13:58   \n",
       "5     N093-NTSP-E-70-1304 2013-12-20 09:02:29 2015-12-09 10:50:14   \n",
       "\n",
       "                                              WFstep _merge  ntspduration  \n",
       "0  NTSP QA, Concurrence Validation, Requirements ...   both         330.0  \n",
       "2  N1 Concurrence, TRP Implementation, Concurrenc...   both         135.0  \n",
       "3                            Approved, Annual Review   both        1105.0  \n",
       "4                            Approved, Annual Review   both          19.0  \n",
       "5  Concurrence Validation, Requirements Validatio...   both         719.0  "
      ]
     },
     "execution_count": 47,
     "metadata": {},
     "output_type": "execute_result"
    }
   ],
   "source": [
    "mergedData.head()"
   ]
  },
  {
   "cell_type": "code",
   "execution_count": 48,
   "metadata": {
    "collapsed": true
   },
   "outputs": [],
   "source": [
    "#drop _merge so we can have _merge available for next merge\n",
    "mergedData.drop('_merge', axis=1, inplace=True)"
   ]
  },
  {
   "cell_type": "markdown",
   "metadata": {},
   "source": [
    "#### Second merge:  mergedData with Sponsors1.csv"
   ]
  },
  {
   "cell_type": "code",
   "execution_count": 49,
   "metadata": {
    "scrolled": false
   },
   "outputs": [
    {
     "data": {
      "text/html": [
       "<div>\n",
       "<style>\n",
       "    .dataframe thead tr:only-child th {\n",
       "        text-align: right;\n",
       "    }\n",
       "\n",
       "    .dataframe thead th {\n",
       "        text-align: left;\n",
       "    }\n",
       "\n",
       "    .dataframe tbody tr th {\n",
       "        vertical-align: top;\n",
       "    }\n",
       "</style>\n",
       "<table border=\"1\" class=\"dataframe\">\n",
       "  <thead>\n",
       "    <tr style=\"text-align: right;\">\n",
       "      <th></th>\n",
       "      <th>ntsp_no</th>\n",
       "      <th>StartDate</th>\n",
       "      <th>EndDate</th>\n",
       "      <th>WFstep</th>\n",
       "      <th>ntspduration</th>\n",
       "      <th>firstName</th>\n",
       "      <th>lastName</th>\n",
       "      <th>User_Status1</th>\n",
       "      <th>deleted</th>\n",
       "    </tr>\n",
       "  </thead>\n",
       "  <tbody>\n",
       "    <tr>\n",
       "      <th>0</th>\n",
       "      <td>AA-NTSP-P-80-1604</td>\n",
       "      <td>2016-02-09 14:22:57</td>\n",
       "      <td>2017-01-05 10:17:24</td>\n",
       "      <td>NTSP QA, Concurrence Validation, Requirements ...</td>\n",
       "      <td>330.0</td>\n",
       "      <td>NaN</td>\n",
       "      <td>NaN</td>\n",
       "      <td>NaN</td>\n",
       "      <td>NaN</td>\n",
       "    </tr>\n",
       "    <tr>\n",
       "      <th>1</th>\n",
       "      <td>AA-NTSP-P-80-1606</td>\n",
       "      <td>2016-03-02 10:50:27</td>\n",
       "      <td>2016-07-15 11:46:32</td>\n",
       "      <td>N1 Concurrence, TRP Implementation, Concurrenc...</td>\n",
       "      <td>135.0</td>\n",
       "      <td>NaN</td>\n",
       "      <td>NaN</td>\n",
       "      <td>NaN</td>\n",
       "      <td>NaN</td>\n",
       "    </tr>\n",
       "    <tr>\n",
       "      <th>2</th>\n",
       "      <td>G-TSCMIS-TSP-E-70-1308</td>\n",
       "      <td>2014-02-26 08:49:23</td>\n",
       "      <td>2017-03-07 11:07:18</td>\n",
       "      <td>Approved, Annual Review</td>\n",
       "      <td>1105.0</td>\n",
       "      <td>NaN</td>\n",
       "      <td>NaN</td>\n",
       "      <td>NaN</td>\n",
       "      <td>NaN</td>\n",
       "    </tr>\n",
       "    <tr>\n",
       "      <th>3</th>\n",
       "      <td>N04-NTSP-S-40-0301A</td>\n",
       "      <td>2014-04-23 13:55:28</td>\n",
       "      <td>2014-05-12 16:13:58</td>\n",
       "      <td>Approved, Annual Review</td>\n",
       "      <td>19.0</td>\n",
       "      <td>James</td>\n",
       "      <td>Huey</td>\n",
       "      <td>C</td>\n",
       "      <td>N</td>\n",
       "    </tr>\n",
       "    <tr>\n",
       "      <th>4</th>\n",
       "      <td>N093-NTSP-E-70-1304</td>\n",
       "      <td>2013-12-20 09:02:29</td>\n",
       "      <td>2015-12-09 10:50:14</td>\n",
       "      <td>Concurrence Validation, Requirements Validatio...</td>\n",
       "      <td>719.0</td>\n",
       "      <td>David</td>\n",
       "      <td>Billings</td>\n",
       "      <td>B</td>\n",
       "      <td>N</td>\n",
       "    </tr>\n",
       "  </tbody>\n",
       "</table>\n",
       "</div>"
      ],
      "text/plain": [
       "                  ntsp_no           StartDate             EndDate  \\\n",
       "0       AA-NTSP-P-80-1604 2016-02-09 14:22:57 2017-01-05 10:17:24   \n",
       "1       AA-NTSP-P-80-1606 2016-03-02 10:50:27 2016-07-15 11:46:32   \n",
       "2  G-TSCMIS-TSP-E-70-1308 2014-02-26 08:49:23 2017-03-07 11:07:18   \n",
       "3     N04-NTSP-S-40-0301A 2014-04-23 13:55:28 2014-05-12 16:13:58   \n",
       "4     N093-NTSP-E-70-1304 2013-12-20 09:02:29 2015-12-09 10:50:14   \n",
       "\n",
       "                                              WFstep  ntspduration firstName  \\\n",
       "0  NTSP QA, Concurrence Validation, Requirements ...         330.0       NaN   \n",
       "1  N1 Concurrence, TRP Implementation, Concurrenc...         135.0       NaN   \n",
       "2                            Approved, Annual Review        1105.0       NaN   \n",
       "3                            Approved, Annual Review          19.0     James   \n",
       "4  Concurrence Validation, Requirements Validatio...         719.0     David   \n",
       "\n",
       "   lastName User_Status1 deleted  \n",
       "0       NaN          NaN     NaN  \n",
       "1       NaN          NaN     NaN  \n",
       "2       NaN          NaN     NaN  \n",
       "3      Huey            C       N  \n",
       "4  Billings            B       N  "
      ]
     },
     "execution_count": 49,
     "metadata": {},
     "output_type": "execute_result"
    }
   ],
   "source": [
    "#pd.merge?\n",
    "mergdf = pd.merge(mergedData, sponsors, how='left', on='ntsp_no')\n",
    "mergdf.head()"
   ]
  },
  {
   "cell_type": "code",
   "execution_count": 50,
   "metadata": {},
   "outputs": [
    {
     "data": {
      "text/plain": [
       "(157, 9)"
      ]
     },
     "execution_count": 50,
     "metadata": {},
     "output_type": "execute_result"
    }
   ],
   "source": [
    "mergdf.shape"
   ]
  },
  {
   "cell_type": "code",
   "execution_count": 51,
   "metadata": {},
   "outputs": [
    {
     "data": {
      "text/plain": [
       "(157, 5)"
      ]
     },
     "execution_count": 51,
     "metadata": {},
     "output_type": "execute_result"
    }
   ],
   "source": [
    "mergedData.shape"
   ]
  },
  {
   "cell_type": "markdown",
   "metadata": {},
   "source": [
    "#### Replace sponsor names with \"John Doe\" and UserStatus1==D if no sponsor name merged"
   ]
  },
  {
   "cell_type": "code",
   "execution_count": 52,
   "metadata": {
    "collapsed": true
   },
   "outputs": [],
   "source": [
    "mergdf.lastName.fillna(value='Doe', inplace=True)\n",
    "mergdf.firstName.fillna(value='John', inplace=True)\n",
    "mergdf.User_Status1.fillna(value='D', inplace=True)"
   ]
  },
  {
   "cell_type": "code",
   "execution_count": 53,
   "metadata": {},
   "outputs": [
    {
     "data": {
      "text/html": [
       "<div>\n",
       "<style>\n",
       "    .dataframe thead tr:only-child th {\n",
       "        text-align: right;\n",
       "    }\n",
       "\n",
       "    .dataframe thead th {\n",
       "        text-align: left;\n",
       "    }\n",
       "\n",
       "    .dataframe tbody tr th {\n",
       "        vertical-align: top;\n",
       "    }\n",
       "</style>\n",
       "<table border=\"1\" class=\"dataframe\">\n",
       "  <thead>\n",
       "    <tr style=\"text-align: right;\">\n",
       "      <th></th>\n",
       "      <th>ntsp_no</th>\n",
       "      <th>StartDate</th>\n",
       "      <th>EndDate</th>\n",
       "      <th>WFstep</th>\n",
       "      <th>ntspduration</th>\n",
       "      <th>firstName</th>\n",
       "      <th>lastName</th>\n",
       "      <th>User_Status1</th>\n",
       "      <th>deleted</th>\n",
       "    </tr>\n",
       "  </thead>\n",
       "  <tbody>\n",
       "    <tr>\n",
       "      <th>0</th>\n",
       "      <td>AA-NTSP-P-80-1604</td>\n",
       "      <td>2016-02-09 14:22:57</td>\n",
       "      <td>2017-01-05 10:17:24</td>\n",
       "      <td>NTSP QA, Concurrence Validation, Requirements ...</td>\n",
       "      <td>330.0</td>\n",
       "      <td>John</td>\n",
       "      <td>Doe</td>\n",
       "      <td>D</td>\n",
       "      <td>NaN</td>\n",
       "    </tr>\n",
       "    <tr>\n",
       "      <th>1</th>\n",
       "      <td>AA-NTSP-P-80-1606</td>\n",
       "      <td>2016-03-02 10:50:27</td>\n",
       "      <td>2016-07-15 11:46:32</td>\n",
       "      <td>N1 Concurrence, TRP Implementation, Concurrenc...</td>\n",
       "      <td>135.0</td>\n",
       "      <td>John</td>\n",
       "      <td>Doe</td>\n",
       "      <td>D</td>\n",
       "      <td>NaN</td>\n",
       "    </tr>\n",
       "    <tr>\n",
       "      <th>2</th>\n",
       "      <td>G-TSCMIS-TSP-E-70-1308</td>\n",
       "      <td>2014-02-26 08:49:23</td>\n",
       "      <td>2017-03-07 11:07:18</td>\n",
       "      <td>Approved, Annual Review</td>\n",
       "      <td>1105.0</td>\n",
       "      <td>John</td>\n",
       "      <td>Doe</td>\n",
       "      <td>D</td>\n",
       "      <td>NaN</td>\n",
       "    </tr>\n",
       "    <tr>\n",
       "      <th>3</th>\n",
       "      <td>N04-NTSP-S-40-0301A</td>\n",
       "      <td>2014-04-23 13:55:28</td>\n",
       "      <td>2014-05-12 16:13:58</td>\n",
       "      <td>Approved, Annual Review</td>\n",
       "      <td>19.0</td>\n",
       "      <td>James</td>\n",
       "      <td>Huey</td>\n",
       "      <td>C</td>\n",
       "      <td>N</td>\n",
       "    </tr>\n",
       "    <tr>\n",
       "      <th>4</th>\n",
       "      <td>N093-NTSP-E-70-1304</td>\n",
       "      <td>2013-12-20 09:02:29</td>\n",
       "      <td>2015-12-09 10:50:14</td>\n",
       "      <td>Concurrence Validation, Requirements Validatio...</td>\n",
       "      <td>719.0</td>\n",
       "      <td>David</td>\n",
       "      <td>Billings</td>\n",
       "      <td>B</td>\n",
       "      <td>N</td>\n",
       "    </tr>\n",
       "    <tr>\n",
       "      <th>5</th>\n",
       "      <td>N09I-NTSP-E-70-1203</td>\n",
       "      <td>2013-08-13 12:04:58</td>\n",
       "      <td>2016-02-04 12:09:35</td>\n",
       "      <td>Annual Review, Concurrence Validation, Require...</td>\n",
       "      <td>905.0</td>\n",
       "      <td>Mauricio</td>\n",
       "      <td>Adams</td>\n",
       "      <td>B</td>\n",
       "      <td>N</td>\n",
       "    </tr>\n",
       "    <tr>\n",
       "      <th>6</th>\n",
       "      <td>N10-NTSP-P-80-1608</td>\n",
       "      <td>2016-05-19 09:09:09</td>\n",
       "      <td>2016-10-05 10:27:59</td>\n",
       "      <td>TRP Implementation, N1 Concurrence</td>\n",
       "      <td>139.0</td>\n",
       "      <td>John</td>\n",
       "      <td>Doe</td>\n",
       "      <td>D</td>\n",
       "      <td>NaN</td>\n",
       "    </tr>\n",
       "    <tr>\n",
       "      <th>7</th>\n",
       "      <td>N16-NTSP-P-80-1701</td>\n",
       "      <td>2017-03-09 13:31:50</td>\n",
       "      <td>2017-06-29 12:21:42</td>\n",
       "      <td>N1 Concurrence</td>\n",
       "      <td>111.0</td>\n",
       "      <td>John</td>\n",
       "      <td>Doe</td>\n",
       "      <td>D</td>\n",
       "      <td>NaN</td>\n",
       "    </tr>\n",
       "    <tr>\n",
       "      <th>8</th>\n",
       "      <td>N2N6-NTSP-E-70-0013</td>\n",
       "      <td>2013-07-24 10:25:35</td>\n",
       "      <td>2015-04-23 10:17:10</td>\n",
       "      <td>N1 Concurrence, Annual Review, Concurrence Val...</td>\n",
       "      <td>637.0</td>\n",
       "      <td>Andrew</td>\n",
       "      <td>Louisville</td>\n",
       "      <td>C</td>\n",
       "      <td>N</td>\n",
       "    </tr>\n",
       "    <tr>\n",
       "      <th>9</th>\n",
       "      <td>N2N6-NTSP-E-70-0013A</td>\n",
       "      <td>2015-04-23 10:17:06</td>\n",
       "      <td>2017-06-05 07:28:26</td>\n",
       "      <td>Preliminary NTSP QA, TRP Implementation, Preli...</td>\n",
       "      <td>773.0</td>\n",
       "      <td>James</td>\n",
       "      <td>Smith</td>\n",
       "      <td>C</td>\n",
       "      <td>N</td>\n",
       "    </tr>\n",
       "    <tr>\n",
       "      <th>10</th>\n",
       "      <td>N2N6-NTSP-E-70-0014C</td>\n",
       "      <td>2015-04-24 10:21:11</td>\n",
       "      <td>2017-05-04 11:58:55</td>\n",
       "      <td>Annual Review, Concurrence Validation, Require...</td>\n",
       "      <td>741.0</td>\n",
       "      <td>Don</td>\n",
       "      <td>Hawthorne</td>\n",
       "      <td>B</td>\n",
       "      <td>N</td>\n",
       "    </tr>\n",
       "    <tr>\n",
       "      <th>11</th>\n",
       "      <td>N2N6-NTSP-E-70-0015</td>\n",
       "      <td>2014-09-12 14:45:49</td>\n",
       "      <td>2016-12-14 11:47:56</td>\n",
       "      <td>Annual Review, Concurrence Validation, Require...</td>\n",
       "      <td>823.0</td>\n",
       "      <td>Don</td>\n",
       "      <td>Hawthorne</td>\n",
       "      <td>B</td>\n",
       "      <td>N</td>\n",
       "    </tr>\n",
       "    <tr>\n",
       "      <th>12</th>\n",
       "      <td>N2N6-NTSP-E-70-0203D</td>\n",
       "      <td>2016-08-12 08:56:00</td>\n",
       "      <td>2017-06-26 10:59:30</td>\n",
       "      <td>Concurrence Validation, Requirements Validation</td>\n",
       "      <td>318.0</td>\n",
       "      <td>Don</td>\n",
       "      <td>Hawthorne</td>\n",
       "      <td>B</td>\n",
       "      <td>N</td>\n",
       "    </tr>\n",
       "    <tr>\n",
       "      <th>13</th>\n",
       "      <td>N2N6-NTSP-E-70-0204</td>\n",
       "      <td>2014-05-02 16:10:36</td>\n",
       "      <td>2015-10-08 18:33:26</td>\n",
       "      <td>NTSP QA, NTSP Development, Preliminary NTSP Va...</td>\n",
       "      <td>524.0</td>\n",
       "      <td>Don</td>\n",
       "      <td>Hawthorne</td>\n",
       "      <td>B</td>\n",
       "      <td>N</td>\n",
       "    </tr>\n",
       "    <tr>\n",
       "      <th>14</th>\n",
       "      <td>N2N6-NTSP-E-70-0207B</td>\n",
       "      <td>2014-07-24 11:12:05</td>\n",
       "      <td>2017-07-10 14:59:51</td>\n",
       "      <td>Annual Review, Concurrence Validation, Require...</td>\n",
       "      <td>1082.0</td>\n",
       "      <td>Don</td>\n",
       "      <td>Hawthorne</td>\n",
       "      <td>B</td>\n",
       "      <td>N</td>\n",
       "    </tr>\n",
       "    <tr>\n",
       "      <th>15</th>\n",
       "      <td>N2N6-NTSP-E-70-0406B</td>\n",
       "      <td>2014-02-11 14:47:50</td>\n",
       "      <td>2015-10-08 18:33:26</td>\n",
       "      <td>Preliminary NTSP Validation, Approved</td>\n",
       "      <td>604.0</td>\n",
       "      <td>Don</td>\n",
       "      <td>Hawthorne</td>\n",
       "      <td>B</td>\n",
       "      <td>N</td>\n",
       "    </tr>\n",
       "    <tr>\n",
       "      <th>16</th>\n",
       "      <td>N2N6-NTSP-E-70-0406C</td>\n",
       "      <td>2014-02-05 06:10:13</td>\n",
       "      <td>2014-05-23 07:10:45</td>\n",
       "      <td>Approved, Annual Review</td>\n",
       "      <td>107.0</td>\n",
       "      <td>Don</td>\n",
       "      <td>Hawthorne</td>\n",
       "      <td>B</td>\n",
       "      <td>N</td>\n",
       "    </tr>\n",
       "    <tr>\n",
       "      <th>17</th>\n",
       "      <td>N2N6-NTSP-E-70-0406D</td>\n",
       "      <td>2014-05-23 07:10:23</td>\n",
       "      <td>2017-04-25 08:26:28</td>\n",
       "      <td>N1 Concurrence, Concurrence Validation, Resour...</td>\n",
       "      <td>1068.0</td>\n",
       "      <td>Don</td>\n",
       "      <td>Hawthorne</td>\n",
       "      <td>B</td>\n",
       "      <td>N</td>\n",
       "    </tr>\n",
       "    <tr>\n",
       "      <th>18</th>\n",
       "      <td>N2N6-NTSP-E-70-0407A</td>\n",
       "      <td>2013-10-18 08:11:11</td>\n",
       "      <td>2015-09-09 09:39:57</td>\n",
       "      <td>Approved, Annual Review</td>\n",
       "      <td>691.0</td>\n",
       "      <td>Don</td>\n",
       "      <td>Hawthorne</td>\n",
       "      <td>B</td>\n",
       "      <td>N</td>\n",
       "    </tr>\n",
       "    <tr>\n",
       "      <th>19</th>\n",
       "      <td>N2N6-NTSP-E-70-0407B</td>\n",
       "      <td>2015-09-09 09:39:50</td>\n",
       "      <td>2017-07-07 11:21:05</td>\n",
       "      <td>Preliminary NTSP QA, NTSP Development, TRP Imp...</td>\n",
       "      <td>667.0</td>\n",
       "      <td>Don</td>\n",
       "      <td>Hawthorne</td>\n",
       "      <td>B</td>\n",
       "      <td>N</td>\n",
       "    </tr>\n",
       "    <tr>\n",
       "      <th>20</th>\n",
       "      <td>N2N6-NTSP-E-70-0601A</td>\n",
       "      <td>2013-10-01 07:06:52</td>\n",
       "      <td>2015-10-08 18:33:26</td>\n",
       "      <td>Preliminary NTSP Validation, Approved, Annual ...</td>\n",
       "      <td>737.0</td>\n",
       "      <td>Don</td>\n",
       "      <td>Hawthorne</td>\n",
       "      <td>B</td>\n",
       "      <td>N</td>\n",
       "    </tr>\n",
       "    <tr>\n",
       "      <th>21</th>\n",
       "      <td>N2N6-NTSP-E-70-0601B</td>\n",
       "      <td>2014-01-31 07:09:46</td>\n",
       "      <td>2015-10-21 10:29:50</td>\n",
       "      <td>Preliminary NTSP QA, TRP Implementation, Preli...</td>\n",
       "      <td>628.0</td>\n",
       "      <td>John</td>\n",
       "      <td>Doe</td>\n",
       "      <td>D</td>\n",
       "      <td>NaN</td>\n",
       "    </tr>\n",
       "    <tr>\n",
       "      <th>22</th>\n",
       "      <td>N2N6-NTSP-E-70-0611B</td>\n",
       "      <td>2014-04-30 18:05:09</td>\n",
       "      <td>2017-04-21 08:05:17</td>\n",
       "      <td>Annual Review, Concurrence Validation, Require...</td>\n",
       "      <td>1086.0</td>\n",
       "      <td>James</td>\n",
       "      <td>Longbottom</td>\n",
       "      <td>C</td>\n",
       "      <td>N</td>\n",
       "    </tr>\n",
       "    <tr>\n",
       "      <th>23</th>\n",
       "      <td>N2N6-NTSP-E-70-0616A</td>\n",
       "      <td>2015-09-09 09:44:07</td>\n",
       "      <td>2016-10-31 08:09:28</td>\n",
       "      <td>N1 Concurrence, Concurrence Validation, Resour...</td>\n",
       "      <td>417.0</td>\n",
       "      <td>Don</td>\n",
       "      <td>Hawthorne</td>\n",
       "      <td>B</td>\n",
       "      <td>N</td>\n",
       "    </tr>\n",
       "    <tr>\n",
       "      <th>24</th>\n",
       "      <td>N2N6-NTSP-E-70-0706A</td>\n",
       "      <td>2013-08-26 09:44:25</td>\n",
       "      <td>2017-04-26 09:00:44</td>\n",
       "      <td>Approved, Annual Review</td>\n",
       "      <td>1338.0</td>\n",
       "      <td>Mark</td>\n",
       "      <td>Kim</td>\n",
       "      <td>C</td>\n",
       "      <td>N</td>\n",
       "    </tr>\n",
       "    <tr>\n",
       "      <th>25</th>\n",
       "      <td>N2N6-NTSP-E-70-0712A</td>\n",
       "      <td>2014-10-22 16:22:45</td>\n",
       "      <td>2017-06-20 12:37:12</td>\n",
       "      <td>Concurrence Validation, Requirements Validatio...</td>\n",
       "      <td>971.0</td>\n",
       "      <td>Don</td>\n",
       "      <td>Hawthorne</td>\n",
       "      <td>B</td>\n",
       "      <td>N</td>\n",
       "    </tr>\n",
       "    <tr>\n",
       "      <th>26</th>\n",
       "      <td>N2N6-NTSP-E-70-0804A</td>\n",
       "      <td>2013-08-14 12:46:26</td>\n",
       "      <td>2017-07-11 14:31:19</td>\n",
       "      <td>N1 Concurrence, Concurrence Validation, Requir...</td>\n",
       "      <td>1427.0</td>\n",
       "      <td>Don</td>\n",
       "      <td>Hawthorne</td>\n",
       "      <td>B</td>\n",
       "      <td>N</td>\n",
       "    </tr>\n",
       "    <tr>\n",
       "      <th>27</th>\n",
       "      <td>N2N6-NTSP-E-70-0805</td>\n",
       "      <td>2014-09-02 16:12:13</td>\n",
       "      <td>2017-02-06 08:14:50</td>\n",
       "      <td>NTSP QA, Concurrence Validation, Requirements ...</td>\n",
       "      <td>887.0</td>\n",
       "      <td>Joseph</td>\n",
       "      <td>Hemingway</td>\n",
       "      <td>C</td>\n",
       "      <td>N</td>\n",
       "    </tr>\n",
       "    <tr>\n",
       "      <th>28</th>\n",
       "      <td>N2N6-NTSP-E-70-0808</td>\n",
       "      <td>2013-10-18 08:11:33</td>\n",
       "      <td>2015-05-20 09:36:15</td>\n",
       "      <td>Approved, Annual Review</td>\n",
       "      <td>579.0</td>\n",
       "      <td>Don</td>\n",
       "      <td>Hawthorne</td>\n",
       "      <td>B</td>\n",
       "      <td>N</td>\n",
       "    </tr>\n",
       "    <tr>\n",
       "      <th>29</th>\n",
       "      <td>N2N6-NTSP-E-70-0810</td>\n",
       "      <td>2015-10-08 18:33:26</td>\n",
       "      <td>2017-02-21 10:07:16</td>\n",
       "      <td>Concurrence Validation, Requirements Validatio...</td>\n",
       "      <td>501.0</td>\n",
       "      <td>Dave</td>\n",
       "      <td>Giddings</td>\n",
       "      <td>B</td>\n",
       "      <td>N</td>\n",
       "    </tr>\n",
       "    <tr>\n",
       "      <th>...</th>\n",
       "      <td>...</td>\n",
       "      <td>...</td>\n",
       "      <td>...</td>\n",
       "      <td>...</td>\n",
       "      <td>...</td>\n",
       "      <td>...</td>\n",
       "      <td>...</td>\n",
       "      <td>...</td>\n",
       "      <td>...</td>\n",
       "    </tr>\n",
       "    <tr>\n",
       "      <th>127</th>\n",
       "      <td>N6-NTSP-P-70-0822A</td>\n",
       "      <td>2015-07-06 14:26:42</td>\n",
       "      <td>2016-08-10 12:00:14</td>\n",
       "      <td>Approved, Annual Review</td>\n",
       "      <td>400.0</td>\n",
       "      <td>Don</td>\n",
       "      <td>Hawthorne</td>\n",
       "      <td>B</td>\n",
       "      <td>N</td>\n",
       "    </tr>\n",
       "    <tr>\n",
       "      <th>128</th>\n",
       "      <td>N77-NTSP-E-70-9703A</td>\n",
       "      <td>2015-07-21 14:31:29</td>\n",
       "      <td>2015-09-11 08:21:13</td>\n",
       "      <td>Approved, Annual Review</td>\n",
       "      <td>51.0</td>\n",
       "      <td>Don</td>\n",
       "      <td>Hawthorne</td>\n",
       "      <td>B</td>\n",
       "      <td>N</td>\n",
       "    </tr>\n",
       "    <tr>\n",
       "      <th>129</th>\n",
       "      <td>N85-NTSP-E-70-1003</td>\n",
       "      <td>2013-08-19 15:48:45</td>\n",
       "      <td>2015-10-08 18:33:26</td>\n",
       "      <td>Preliminary NTSP Validation, Concurrence Valid...</td>\n",
       "      <td>780.0</td>\n",
       "      <td>John</td>\n",
       "      <td>Doe</td>\n",
       "      <td>D</td>\n",
       "      <td>NaN</td>\n",
       "    </tr>\n",
       "    <tr>\n",
       "      <th>130</th>\n",
       "      <td>N95-NTSP-E-70-1502</td>\n",
       "      <td>2015-01-29 10:00:54</td>\n",
       "      <td>2016-11-08 10:54:12</td>\n",
       "      <td>Preliminary NTSP QA, NTSP Development, TRP Imp...</td>\n",
       "      <td>649.0</td>\n",
       "      <td>Marvin</td>\n",
       "      <td>Madeye</td>\n",
       "      <td>A</td>\n",
       "      <td>N</td>\n",
       "    </tr>\n",
       "    <tr>\n",
       "      <th>131</th>\n",
       "      <td>N95-NTSP-E-70-1503</td>\n",
       "      <td>2015-02-25 13:26:54</td>\n",
       "      <td>2017-07-10 10:35:19</td>\n",
       "      <td>NTSP QA, Concurrence Validation, Requirements ...</td>\n",
       "      <td>865.0</td>\n",
       "      <td>Marvin</td>\n",
       "      <td>Madeye</td>\n",
       "      <td>A</td>\n",
       "      <td>N</td>\n",
       "    </tr>\n",
       "    <tr>\n",
       "      <th>132</th>\n",
       "      <td>N95-NTSP-F-00-1201</td>\n",
       "      <td>2015-04-22 10:55:36</td>\n",
       "      <td>2016-03-04 04:25:40</td>\n",
       "      <td>Approved, Annual Review</td>\n",
       "      <td>316.0</td>\n",
       "      <td>Singaram</td>\n",
       "      <td>Shoemaker</td>\n",
       "      <td>A</td>\n",
       "      <td>N</td>\n",
       "    </tr>\n",
       "    <tr>\n",
       "      <th>133</th>\n",
       "      <td>N95-NTSP-F-00-1201A</td>\n",
       "      <td>2016-03-04 04:25:36</td>\n",
       "      <td>2017-05-10 09:44:44</td>\n",
       "      <td>NTSP QA, Requirements Validation, Preliminary ...</td>\n",
       "      <td>432.0</td>\n",
       "      <td>Marvin</td>\n",
       "      <td>Madeye</td>\n",
       "      <td>A</td>\n",
       "      <td>N</td>\n",
       "    </tr>\n",
       "    <tr>\n",
       "      <th>134</th>\n",
       "      <td>N95-NTSP-F-80-1201</td>\n",
       "      <td>2013-12-11 09:07:10</td>\n",
       "      <td>2015-10-08 18:33:26</td>\n",
       "      <td>NTSP Development, NTSP QA, TRP Implementation,...</td>\n",
       "      <td>666.0</td>\n",
       "      <td>Daniel</td>\n",
       "      <td>Louisiana</td>\n",
       "      <td>A</td>\n",
       "      <td>Y</td>\n",
       "    </tr>\n",
       "    <tr>\n",
       "      <th>135</th>\n",
       "      <td>N95-NTSP-F-80-1202</td>\n",
       "      <td>2013-09-12 13:25:37</td>\n",
       "      <td>2015-10-08 18:33:26</td>\n",
       "      <td>NTSP Development, NTSP QA, Preliminary NTSP Va...</td>\n",
       "      <td>756.0</td>\n",
       "      <td>JESSICA</td>\n",
       "      <td>Batman</td>\n",
       "      <td>C</td>\n",
       "      <td>N</td>\n",
       "    </tr>\n",
       "    <tr>\n",
       "      <th>136</th>\n",
       "      <td>N95-NTSP-F-80-1203</td>\n",
       "      <td>2013-08-05 14:39:23</td>\n",
       "      <td>2017-02-22 10:49:41</td>\n",
       "      <td>Annual Review, Concurrence Validation, Require...</td>\n",
       "      <td>1296.0</td>\n",
       "      <td>William</td>\n",
       "      <td>Hall</td>\n",
       "      <td>C</td>\n",
       "      <td>N</td>\n",
       "    </tr>\n",
       "    <tr>\n",
       "      <th>137</th>\n",
       "      <td>N95-NTSP-F-80-1204</td>\n",
       "      <td>2013-08-06 12:24:02</td>\n",
       "      <td>2017-02-16 06:44:17</td>\n",
       "      <td>Annual Review, Concurrence Validation, Require...</td>\n",
       "      <td>1289.0</td>\n",
       "      <td>Singaram</td>\n",
       "      <td>Shoemaker</td>\n",
       "      <td>A</td>\n",
       "      <td>N</td>\n",
       "    </tr>\n",
       "    <tr>\n",
       "      <th>138</th>\n",
       "      <td>N95-NTSP-F-80-1204A</td>\n",
       "      <td>2016-03-04 04:24:42</td>\n",
       "      <td>2017-02-16 06:44:17</td>\n",
       "      <td>N1 Concurrence, Concurrence Validation, Resour...</td>\n",
       "      <td>349.0</td>\n",
       "      <td>Marvin</td>\n",
       "      <td>Madeye</td>\n",
       "      <td>A</td>\n",
       "      <td>N</td>\n",
       "    </tr>\n",
       "    <tr>\n",
       "      <th>139</th>\n",
       "      <td>N95-NTSP-F-80-1205</td>\n",
       "      <td>2013-08-06 12:23:26</td>\n",
       "      <td>2015-11-02 05:11:01</td>\n",
       "      <td>Annual Review, Concurrence Validation, Require...</td>\n",
       "      <td>817.0</td>\n",
       "      <td>Singaram</td>\n",
       "      <td>Shoemaker</td>\n",
       "      <td>A</td>\n",
       "      <td>N</td>\n",
       "    </tr>\n",
       "    <tr>\n",
       "      <th>140</th>\n",
       "      <td>N95-NTSP-F-80-1206</td>\n",
       "      <td>2013-08-06 12:24:39</td>\n",
       "      <td>2017-02-16 06:40:35</td>\n",
       "      <td>Annual Review, Concurrence Validation, Require...</td>\n",
       "      <td>1289.0</td>\n",
       "      <td>Singaram</td>\n",
       "      <td>Shoemaker</td>\n",
       "      <td>A</td>\n",
       "      <td>N</td>\n",
       "    </tr>\n",
       "    <tr>\n",
       "      <th>141</th>\n",
       "      <td>N95-NTSP-F-80-1206A</td>\n",
       "      <td>2016-03-04 04:23:59</td>\n",
       "      <td>2017-02-16 06:40:35</td>\n",
       "      <td>N1 Concurrence, Concurrence Validation, Resour...</td>\n",
       "      <td>349.0</td>\n",
       "      <td>Marvin</td>\n",
       "      <td>Madeye</td>\n",
       "      <td>A</td>\n",
       "      <td>N</td>\n",
       "    </tr>\n",
       "    <tr>\n",
       "      <th>142</th>\n",
       "      <td>N95-NTSP-F-80-1207</td>\n",
       "      <td>2013-07-24 13:49:55</td>\n",
       "      <td>2017-02-16 06:45:34</td>\n",
       "      <td>Annual Review, Concurrence Validation, Require...</td>\n",
       "      <td>1302.0</td>\n",
       "      <td>Singaram</td>\n",
       "      <td>Shoemaker</td>\n",
       "      <td>A</td>\n",
       "      <td>N</td>\n",
       "    </tr>\n",
       "    <tr>\n",
       "      <th>143</th>\n",
       "      <td>N95-NTSP-F-80-1207A</td>\n",
       "      <td>2016-03-04 04:22:21</td>\n",
       "      <td>2017-02-16 06:45:33</td>\n",
       "      <td>N1 Concurrence, Concurrence Validation, Resour...</td>\n",
       "      <td>349.0</td>\n",
       "      <td>Marvin</td>\n",
       "      <td>Madeye</td>\n",
       "      <td>A</td>\n",
       "      <td>N</td>\n",
       "    </tr>\n",
       "    <tr>\n",
       "      <th>144</th>\n",
       "      <td>N95-NTSP-F-80-1301</td>\n",
       "      <td>2013-07-31 11:10:12</td>\n",
       "      <td>2017-02-16 06:41:48</td>\n",
       "      <td>NTSP QA, Annual Review, Concurrence Validation...</td>\n",
       "      <td>1295.0</td>\n",
       "      <td>Singaram</td>\n",
       "      <td>Shoemaker</td>\n",
       "      <td>A</td>\n",
       "      <td>N</td>\n",
       "    </tr>\n",
       "    <tr>\n",
       "      <th>145</th>\n",
       "      <td>N95-NTSP-F-80-1301A</td>\n",
       "      <td>2016-03-04 04:21:18</td>\n",
       "      <td>2017-02-16 06:41:48</td>\n",
       "      <td>N1 Concurrence, Concurrence Validation, Resour...</td>\n",
       "      <td>349.0</td>\n",
       "      <td>Marvin</td>\n",
       "      <td>Madeye</td>\n",
       "      <td>A</td>\n",
       "      <td>N</td>\n",
       "    </tr>\n",
       "    <tr>\n",
       "      <th>146</th>\n",
       "      <td>N95-NTSP-F-80-1401</td>\n",
       "      <td>2013-10-02 11:04:10</td>\n",
       "      <td>2017-02-22 10:50:47</td>\n",
       "      <td>Annual Review, Concurrence Validation, Require...</td>\n",
       "      <td>1238.0</td>\n",
       "      <td>William</td>\n",
       "      <td>Hall</td>\n",
       "      <td>C</td>\n",
       "      <td>N</td>\n",
       "    </tr>\n",
       "    <tr>\n",
       "      <th>147</th>\n",
       "      <td>N95-NTSP-F-80-1402</td>\n",
       "      <td>2013-10-02 11:09:31</td>\n",
       "      <td>2017-02-22 10:50:27</td>\n",
       "      <td>NTSP QA, Annual Review, Concurrence Validation...</td>\n",
       "      <td>1238.0</td>\n",
       "      <td>William</td>\n",
       "      <td>Hall</td>\n",
       "      <td>C</td>\n",
       "      <td>N</td>\n",
       "    </tr>\n",
       "    <tr>\n",
       "      <th>148</th>\n",
       "      <td>N95-NTSP-F-80-1501</td>\n",
       "      <td>2015-01-29 09:54:06</td>\n",
       "      <td>2017-09-06 14:51:48</td>\n",
       "      <td>Preliminary NTSP QA, NTSP Development, TRP Imp...</td>\n",
       "      <td>951.0</td>\n",
       "      <td>William</td>\n",
       "      <td>Hall</td>\n",
       "      <td>C</td>\n",
       "      <td>N</td>\n",
       "    </tr>\n",
       "    <tr>\n",
       "      <th>149</th>\n",
       "      <td>N95-NTSP-F-80-1502</td>\n",
       "      <td>2015-04-22 10:51:33</td>\n",
       "      <td>2017-04-10 06:30:55</td>\n",
       "      <td>NTSP QA, Concurrence Validation, Requirements ...</td>\n",
       "      <td>718.0</td>\n",
       "      <td>Marvin</td>\n",
       "      <td>Madeye</td>\n",
       "      <td>A</td>\n",
       "      <td>N</td>\n",
       "    </tr>\n",
       "    <tr>\n",
       "      <th>150</th>\n",
       "      <td>N95-NTSP-F-80-1503</td>\n",
       "      <td>2015-04-22 10:28:29</td>\n",
       "      <td>2017-04-20 12:48:33</td>\n",
       "      <td>NTSP QA, Concurrence Validation, Requirements ...</td>\n",
       "      <td>729.0</td>\n",
       "      <td>Marvin</td>\n",
       "      <td>Madeye</td>\n",
       "      <td>A</td>\n",
       "      <td>N</td>\n",
       "    </tr>\n",
       "    <tr>\n",
       "      <th>151</th>\n",
       "      <td>N95-NTSP-F-80-1504</td>\n",
       "      <td>2015-04-22 10:31:19</td>\n",
       "      <td>2017-05-15 05:11:42</td>\n",
       "      <td>NTSP QA, Concurrence Validation, Requirements ...</td>\n",
       "      <td>753.0</td>\n",
       "      <td>Marvin</td>\n",
       "      <td>Madeye</td>\n",
       "      <td>A</td>\n",
       "      <td>N</td>\n",
       "    </tr>\n",
       "    <tr>\n",
       "      <th>152</th>\n",
       "      <td>N95-NTSP-X-00-8301B</td>\n",
       "      <td>2014-01-27 09:27:42</td>\n",
       "      <td>2016-06-16 07:42:11</td>\n",
       "      <td>Approved, Annual Review</td>\n",
       "      <td>870.0</td>\n",
       "      <td>Singaram</td>\n",
       "      <td>Shoemaker</td>\n",
       "      <td>A</td>\n",
       "      <td>N</td>\n",
       "    </tr>\n",
       "    <tr>\n",
       "      <th>153</th>\n",
       "      <td>N95-NTSP-X-00-8301C</td>\n",
       "      <td>2016-06-16 07:30:15</td>\n",
       "      <td>2017-06-01 10:53:31</td>\n",
       "      <td>NTSP QA, N1 Concurrence, TRP Implementation, C...</td>\n",
       "      <td>350.0</td>\n",
       "      <td>Marvin</td>\n",
       "      <td>Madeye</td>\n",
       "      <td>A</td>\n",
       "      <td>N</td>\n",
       "    </tr>\n",
       "    <tr>\n",
       "      <th>154</th>\n",
       "      <td>N96-NTSP-E-70-1203A</td>\n",
       "      <td>2016-02-04 12:09:24</td>\n",
       "      <td>2016-11-15 11:08:44</td>\n",
       "      <td>Concurrence Validation, Requirements Validation</td>\n",
       "      <td>284.0</td>\n",
       "      <td>John</td>\n",
       "      <td>Doe</td>\n",
       "      <td>D</td>\n",
       "      <td>NaN</td>\n",
       "    </tr>\n",
       "    <tr>\n",
       "      <th>155</th>\n",
       "      <td>N96-NTSP-S-30-7624F</td>\n",
       "      <td>2013-07-29 11:20:39</td>\n",
       "      <td>2016-04-25 10:13:24</td>\n",
       "      <td>Preliminary NTSP QA, NTSP QA, TRP Implementati...</td>\n",
       "      <td>1000.0</td>\n",
       "      <td>John</td>\n",
       "      <td>Doe</td>\n",
       "      <td>D</td>\n",
       "      <td>NaN</td>\n",
       "    </tr>\n",
       "    <tr>\n",
       "      <th>156</th>\n",
       "      <td>NTP-E-70-9502</td>\n",
       "      <td>2013-09-03 10:30:37</td>\n",
       "      <td>2014-05-23 06:52:23</td>\n",
       "      <td>Approved, Annual Review</td>\n",
       "      <td>261.0</td>\n",
       "      <td>Don</td>\n",
       "      <td>Hawthorne</td>\n",
       "      <td>B</td>\n",
       "      <td>N</td>\n",
       "    </tr>\n",
       "  </tbody>\n",
       "</table>\n",
       "<p>157 rows × 9 columns</p>\n",
       "</div>"
      ],
      "text/plain": [
       "                    ntsp_no           StartDate             EndDate  \\\n",
       "0         AA-NTSP-P-80-1604 2016-02-09 14:22:57 2017-01-05 10:17:24   \n",
       "1         AA-NTSP-P-80-1606 2016-03-02 10:50:27 2016-07-15 11:46:32   \n",
       "2    G-TSCMIS-TSP-E-70-1308 2014-02-26 08:49:23 2017-03-07 11:07:18   \n",
       "3       N04-NTSP-S-40-0301A 2014-04-23 13:55:28 2014-05-12 16:13:58   \n",
       "4       N093-NTSP-E-70-1304 2013-12-20 09:02:29 2015-12-09 10:50:14   \n",
       "5       N09I-NTSP-E-70-1203 2013-08-13 12:04:58 2016-02-04 12:09:35   \n",
       "6        N10-NTSP-P-80-1608 2016-05-19 09:09:09 2016-10-05 10:27:59   \n",
       "7        N16-NTSP-P-80-1701 2017-03-09 13:31:50 2017-06-29 12:21:42   \n",
       "8       N2N6-NTSP-E-70-0013 2013-07-24 10:25:35 2015-04-23 10:17:10   \n",
       "9      N2N6-NTSP-E-70-0013A 2015-04-23 10:17:06 2017-06-05 07:28:26   \n",
       "10     N2N6-NTSP-E-70-0014C 2015-04-24 10:21:11 2017-05-04 11:58:55   \n",
       "11      N2N6-NTSP-E-70-0015 2014-09-12 14:45:49 2016-12-14 11:47:56   \n",
       "12     N2N6-NTSP-E-70-0203D 2016-08-12 08:56:00 2017-06-26 10:59:30   \n",
       "13      N2N6-NTSP-E-70-0204 2014-05-02 16:10:36 2015-10-08 18:33:26   \n",
       "14     N2N6-NTSP-E-70-0207B 2014-07-24 11:12:05 2017-07-10 14:59:51   \n",
       "15     N2N6-NTSP-E-70-0406B 2014-02-11 14:47:50 2015-10-08 18:33:26   \n",
       "16     N2N6-NTSP-E-70-0406C 2014-02-05 06:10:13 2014-05-23 07:10:45   \n",
       "17     N2N6-NTSP-E-70-0406D 2014-05-23 07:10:23 2017-04-25 08:26:28   \n",
       "18     N2N6-NTSP-E-70-0407A 2013-10-18 08:11:11 2015-09-09 09:39:57   \n",
       "19     N2N6-NTSP-E-70-0407B 2015-09-09 09:39:50 2017-07-07 11:21:05   \n",
       "20     N2N6-NTSP-E-70-0601A 2013-10-01 07:06:52 2015-10-08 18:33:26   \n",
       "21     N2N6-NTSP-E-70-0601B 2014-01-31 07:09:46 2015-10-21 10:29:50   \n",
       "22     N2N6-NTSP-E-70-0611B 2014-04-30 18:05:09 2017-04-21 08:05:17   \n",
       "23     N2N6-NTSP-E-70-0616A 2015-09-09 09:44:07 2016-10-31 08:09:28   \n",
       "24     N2N6-NTSP-E-70-0706A 2013-08-26 09:44:25 2017-04-26 09:00:44   \n",
       "25     N2N6-NTSP-E-70-0712A 2014-10-22 16:22:45 2017-06-20 12:37:12   \n",
       "26     N2N6-NTSP-E-70-0804A 2013-08-14 12:46:26 2017-07-11 14:31:19   \n",
       "27      N2N6-NTSP-E-70-0805 2014-09-02 16:12:13 2017-02-06 08:14:50   \n",
       "28      N2N6-NTSP-E-70-0808 2013-10-18 08:11:33 2015-05-20 09:36:15   \n",
       "29      N2N6-NTSP-E-70-0810 2015-10-08 18:33:26 2017-02-21 10:07:16   \n",
       "..                      ...                 ...                 ...   \n",
       "127      N6-NTSP-P-70-0822A 2015-07-06 14:26:42 2016-08-10 12:00:14   \n",
       "128     N77-NTSP-E-70-9703A 2015-07-21 14:31:29 2015-09-11 08:21:13   \n",
       "129      N85-NTSP-E-70-1003 2013-08-19 15:48:45 2015-10-08 18:33:26   \n",
       "130      N95-NTSP-E-70-1502 2015-01-29 10:00:54 2016-11-08 10:54:12   \n",
       "131      N95-NTSP-E-70-1503 2015-02-25 13:26:54 2017-07-10 10:35:19   \n",
       "132      N95-NTSP-F-00-1201 2015-04-22 10:55:36 2016-03-04 04:25:40   \n",
       "133     N95-NTSP-F-00-1201A 2016-03-04 04:25:36 2017-05-10 09:44:44   \n",
       "134      N95-NTSP-F-80-1201 2013-12-11 09:07:10 2015-10-08 18:33:26   \n",
       "135      N95-NTSP-F-80-1202 2013-09-12 13:25:37 2015-10-08 18:33:26   \n",
       "136      N95-NTSP-F-80-1203 2013-08-05 14:39:23 2017-02-22 10:49:41   \n",
       "137      N95-NTSP-F-80-1204 2013-08-06 12:24:02 2017-02-16 06:44:17   \n",
       "138     N95-NTSP-F-80-1204A 2016-03-04 04:24:42 2017-02-16 06:44:17   \n",
       "139      N95-NTSP-F-80-1205 2013-08-06 12:23:26 2015-11-02 05:11:01   \n",
       "140      N95-NTSP-F-80-1206 2013-08-06 12:24:39 2017-02-16 06:40:35   \n",
       "141     N95-NTSP-F-80-1206A 2016-03-04 04:23:59 2017-02-16 06:40:35   \n",
       "142      N95-NTSP-F-80-1207 2013-07-24 13:49:55 2017-02-16 06:45:34   \n",
       "143     N95-NTSP-F-80-1207A 2016-03-04 04:22:21 2017-02-16 06:45:33   \n",
       "144      N95-NTSP-F-80-1301 2013-07-31 11:10:12 2017-02-16 06:41:48   \n",
       "145     N95-NTSP-F-80-1301A 2016-03-04 04:21:18 2017-02-16 06:41:48   \n",
       "146      N95-NTSP-F-80-1401 2013-10-02 11:04:10 2017-02-22 10:50:47   \n",
       "147      N95-NTSP-F-80-1402 2013-10-02 11:09:31 2017-02-22 10:50:27   \n",
       "148      N95-NTSP-F-80-1501 2015-01-29 09:54:06 2017-09-06 14:51:48   \n",
       "149      N95-NTSP-F-80-1502 2015-04-22 10:51:33 2017-04-10 06:30:55   \n",
       "150      N95-NTSP-F-80-1503 2015-04-22 10:28:29 2017-04-20 12:48:33   \n",
       "151      N95-NTSP-F-80-1504 2015-04-22 10:31:19 2017-05-15 05:11:42   \n",
       "152     N95-NTSP-X-00-8301B 2014-01-27 09:27:42 2016-06-16 07:42:11   \n",
       "153     N95-NTSP-X-00-8301C 2016-06-16 07:30:15 2017-06-01 10:53:31   \n",
       "154     N96-NTSP-E-70-1203A 2016-02-04 12:09:24 2016-11-15 11:08:44   \n",
       "155     N96-NTSP-S-30-7624F 2013-07-29 11:20:39 2016-04-25 10:13:24   \n",
       "156           NTP-E-70-9502 2013-09-03 10:30:37 2014-05-23 06:52:23   \n",
       "\n",
       "                                                WFstep  ntspduration  \\\n",
       "0    NTSP QA, Concurrence Validation, Requirements ...         330.0   \n",
       "1    N1 Concurrence, TRP Implementation, Concurrenc...         135.0   \n",
       "2                              Approved, Annual Review        1105.0   \n",
       "3                              Approved, Annual Review          19.0   \n",
       "4    Concurrence Validation, Requirements Validatio...         719.0   \n",
       "5    Annual Review, Concurrence Validation, Require...         905.0   \n",
       "6                   TRP Implementation, N1 Concurrence         139.0   \n",
       "7                                       N1 Concurrence         111.0   \n",
       "8    N1 Concurrence, Annual Review, Concurrence Val...         637.0   \n",
       "9    Preliminary NTSP QA, TRP Implementation, Preli...         773.0   \n",
       "10   Annual Review, Concurrence Validation, Require...         741.0   \n",
       "11   Annual Review, Concurrence Validation, Require...         823.0   \n",
       "12     Concurrence Validation, Requirements Validation         318.0   \n",
       "13   NTSP QA, NTSP Development, Preliminary NTSP Va...         524.0   \n",
       "14   Annual Review, Concurrence Validation, Require...        1082.0   \n",
       "15               Preliminary NTSP Validation, Approved         604.0   \n",
       "16                             Approved, Annual Review         107.0   \n",
       "17   N1 Concurrence, Concurrence Validation, Resour...        1068.0   \n",
       "18                             Approved, Annual Review         691.0   \n",
       "19   Preliminary NTSP QA, NTSP Development, TRP Imp...         667.0   \n",
       "20   Preliminary NTSP Validation, Approved, Annual ...         737.0   \n",
       "21   Preliminary NTSP QA, TRP Implementation, Preli...         628.0   \n",
       "22   Annual Review, Concurrence Validation, Require...        1086.0   \n",
       "23   N1 Concurrence, Concurrence Validation, Resour...         417.0   \n",
       "24                             Approved, Annual Review        1338.0   \n",
       "25   Concurrence Validation, Requirements Validatio...         971.0   \n",
       "26   N1 Concurrence, Concurrence Validation, Requir...        1427.0   \n",
       "27   NTSP QA, Concurrence Validation, Requirements ...         887.0   \n",
       "28                             Approved, Annual Review         579.0   \n",
       "29   Concurrence Validation, Requirements Validatio...         501.0   \n",
       "..                                                 ...           ...   \n",
       "127                            Approved, Annual Review         400.0   \n",
       "128                            Approved, Annual Review          51.0   \n",
       "129  Preliminary NTSP Validation, Concurrence Valid...         780.0   \n",
       "130  Preliminary NTSP QA, NTSP Development, TRP Imp...         649.0   \n",
       "131  NTSP QA, Concurrence Validation, Requirements ...         865.0   \n",
       "132                            Approved, Annual Review         316.0   \n",
       "133  NTSP QA, Requirements Validation, Preliminary ...         432.0   \n",
       "134  NTSP Development, NTSP QA, TRP Implementation,...         666.0   \n",
       "135  NTSP Development, NTSP QA, Preliminary NTSP Va...         756.0   \n",
       "136  Annual Review, Concurrence Validation, Require...        1296.0   \n",
       "137  Annual Review, Concurrence Validation, Require...        1289.0   \n",
       "138  N1 Concurrence, Concurrence Validation, Resour...         349.0   \n",
       "139  Annual Review, Concurrence Validation, Require...         817.0   \n",
       "140  Annual Review, Concurrence Validation, Require...        1289.0   \n",
       "141  N1 Concurrence, Concurrence Validation, Resour...         349.0   \n",
       "142  Annual Review, Concurrence Validation, Require...        1302.0   \n",
       "143  N1 Concurrence, Concurrence Validation, Resour...         349.0   \n",
       "144  NTSP QA, Annual Review, Concurrence Validation...        1295.0   \n",
       "145  N1 Concurrence, Concurrence Validation, Resour...         349.0   \n",
       "146  Annual Review, Concurrence Validation, Require...        1238.0   \n",
       "147  NTSP QA, Annual Review, Concurrence Validation...        1238.0   \n",
       "148  Preliminary NTSP QA, NTSP Development, TRP Imp...         951.0   \n",
       "149  NTSP QA, Concurrence Validation, Requirements ...         718.0   \n",
       "150  NTSP QA, Concurrence Validation, Requirements ...         729.0   \n",
       "151  NTSP QA, Concurrence Validation, Requirements ...         753.0   \n",
       "152                            Approved, Annual Review         870.0   \n",
       "153  NTSP QA, N1 Concurrence, TRP Implementation, C...         350.0   \n",
       "154    Concurrence Validation, Requirements Validation         284.0   \n",
       "155  Preliminary NTSP QA, NTSP QA, TRP Implementati...        1000.0   \n",
       "156                            Approved, Annual Review         261.0   \n",
       "\n",
       "    firstName    lastName User_Status1 deleted  \n",
       "0        John         Doe            D     NaN  \n",
       "1        John         Doe            D     NaN  \n",
       "2        John         Doe            D     NaN  \n",
       "3       James        Huey            C       N  \n",
       "4       David    Billings            B       N  \n",
       "5    Mauricio       Adams            B       N  \n",
       "6        John         Doe            D     NaN  \n",
       "7        John         Doe            D     NaN  \n",
       "8      Andrew  Louisville            C       N  \n",
       "9       James       Smith            C       N  \n",
       "10        Don   Hawthorne            B       N  \n",
       "11        Don   Hawthorne            B       N  \n",
       "12        Don   Hawthorne            B       N  \n",
       "13        Don   Hawthorne            B       N  \n",
       "14        Don   Hawthorne            B       N  \n",
       "15        Don   Hawthorne            B       N  \n",
       "16        Don   Hawthorne            B       N  \n",
       "17        Don   Hawthorne            B       N  \n",
       "18        Don   Hawthorne            B       N  \n",
       "19        Don   Hawthorne            B       N  \n",
       "20        Don   Hawthorne            B       N  \n",
       "21       John         Doe            D     NaN  \n",
       "22      James  Longbottom            C       N  \n",
       "23        Don   Hawthorne            B       N  \n",
       "24       Mark         Kim            C       N  \n",
       "25        Don   Hawthorne            B       N  \n",
       "26        Don   Hawthorne            B       N  \n",
       "27     Joseph   Hemingway            C       N  \n",
       "28        Don   Hawthorne            B       N  \n",
       "29       Dave    Giddings            B       N  \n",
       "..        ...         ...          ...     ...  \n",
       "127       Don   Hawthorne            B       N  \n",
       "128       Don   Hawthorne            B       N  \n",
       "129      John         Doe            D     NaN  \n",
       "130    Marvin      Madeye            A       N  \n",
       "131    Marvin      Madeye            A       N  \n",
       "132  Singaram   Shoemaker            A       N  \n",
       "133    Marvin      Madeye            A       N  \n",
       "134    Daniel   Louisiana            A       Y  \n",
       "135   JESSICA      Batman            C       N  \n",
       "136   William        Hall            C       N  \n",
       "137  Singaram   Shoemaker            A       N  \n",
       "138    Marvin      Madeye            A       N  \n",
       "139  Singaram   Shoemaker            A       N  \n",
       "140  Singaram   Shoemaker            A       N  \n",
       "141    Marvin      Madeye            A       N  \n",
       "142  Singaram   Shoemaker            A       N  \n",
       "143    Marvin      Madeye            A       N  \n",
       "144  Singaram   Shoemaker            A       N  \n",
       "145    Marvin      Madeye            A       N  \n",
       "146   William        Hall            C       N  \n",
       "147   William        Hall            C       N  \n",
       "148   William        Hall            C       N  \n",
       "149    Marvin      Madeye            A       N  \n",
       "150    Marvin      Madeye            A       N  \n",
       "151    Marvin      Madeye            A       N  \n",
       "152  Singaram   Shoemaker            A       N  \n",
       "153    Marvin      Madeye            A       N  \n",
       "154      John         Doe            D     NaN  \n",
       "155      John         Doe            D     NaN  \n",
       "156       Don   Hawthorne            B       N  \n",
       "\n",
       "[157 rows x 9 columns]"
      ]
     },
     "execution_count": 53,
     "metadata": {},
     "output_type": "execute_result"
    }
   ],
   "source": [
    "mergdf"
   ]
  },
  {
   "cell_type": "markdown",
   "metadata": {},
   "source": [
    "#### Read in data from CMATT-NTSP tab to get FY started, Community, ACAT, and Organization"
   ]
  },
  {
   "cell_type": "code",
   "execution_count": 54,
   "metadata": {},
   "outputs": [
    {
     "data": {
      "text/plain": [
       "Index([u'NTSP_NO', u'NTSP_ACRONYM', u'VERSION', u'LATEST_COPY', u'FISCAL_YEAR',\n",
       "       u'TOTAL_SHIP', u'JOINT', u'TOTAL_AIRCRAFT', u'COMMUNITY', u'ACAT',\n",
       "       u'DA', u'ORGANIZATION', u'NOMENCLATURE'],\n",
       "      dtype='object')"
      ]
     },
     "execution_count": 54,
     "metadata": {},
     "output_type": "execute_result"
    }
   ],
   "source": [
    "commyr=pd.read_csv('CMATT-NTSP3.csv')\n",
    "commyr.columns\n"
   ]
  },
  {
   "cell_type": "code",
   "execution_count": 55,
   "metadata": {},
   "outputs": [
    {
     "data": {
      "text/plain": [
       "California        253\n",
       "Georgia            92\n",
       "Oklahoma           35\n",
       "South Dakota       12\n",
       "Louisiana          10\n",
       "Arkansas            6\n",
       "New Hampshire       6\n",
       "South Carolina      3\n",
       "Ohio                3\n",
       "Name: COMMUNITY, dtype: int64"
      ]
     },
     "execution_count": 55,
     "metadata": {},
     "output_type": "execute_result"
    }
   ],
   "source": [
    "commyr.COMMUNITY.value_counts()"
   ]
  },
  {
   "cell_type": "code",
   "execution_count": 56,
   "metadata": {
    "collapsed": true
   },
   "outputs": [],
   "source": [
    "notcolumns=['DA','NOMENCLATURE','NTSP_ACRONYM']\n",
    "commyr.drop(notcolumns, axis=1, inplace=True)"
   ]
  },
  {
   "cell_type": "code",
   "execution_count": 57,
   "metadata": {},
   "outputs": [
    {
     "data": {
      "text/plain": [
       "Index([u'ntsp_no', u'version', u'l_copy', u'fy', u't_ship', u'joint',\n",
       "       u't_aircraft', u'comm', u'acat', u'org'],\n",
       "      dtype='object')"
      ]
     },
     "execution_count": 57,
     "metadata": {},
     "output_type": "execute_result"
    }
   ],
   "source": [
    "commyr.rename(columns={'NTSP_NO':'ntsp_no', 'NTSP_ACRONYM':'ntsp_short', 'VERSION':'version', 'LATEST_COPY':'l_copy', 'FISCAL_YEAR':'fy', 'TOTAL_SHIP':'t_ship','JOINT':'joint', 'TOTAL_AIRCRAFT':'t_aircraft', 'COMMUNITY':'comm', 'ACAT':'acat', 'ORGANIZATION':'org'}, inplace=True)\n",
    "commyr.columns\n"
   ]
  },
  {
   "cell_type": "markdown",
   "metadata": {},
   "source": [
    "#### Third merge (mergdf with commyr data) to merge FY, Community, ACAT, Organization"
   ]
  },
  {
   "cell_type": "code",
   "execution_count": 58,
   "metadata": {},
   "outputs": [
    {
     "data": {
      "text/html": [
       "<div>\n",
       "<style>\n",
       "    .dataframe thead tr:only-child th {\n",
       "        text-align: right;\n",
       "    }\n",
       "\n",
       "    .dataframe thead th {\n",
       "        text-align: left;\n",
       "    }\n",
       "\n",
       "    .dataframe tbody tr th {\n",
       "        vertical-align: top;\n",
       "    }\n",
       "</style>\n",
       "<table border=\"1\" class=\"dataframe\">\n",
       "  <thead>\n",
       "    <tr style=\"text-align: right;\">\n",
       "      <th></th>\n",
       "      <th>ntsp_no</th>\n",
       "      <th>StartDate</th>\n",
       "      <th>EndDate</th>\n",
       "      <th>WFstep</th>\n",
       "      <th>ntspduration</th>\n",
       "      <th>firstName</th>\n",
       "      <th>lastName</th>\n",
       "      <th>User_Status1</th>\n",
       "      <th>deleted</th>\n",
       "      <th>version</th>\n",
       "      <th>l_copy</th>\n",
       "      <th>fy</th>\n",
       "      <th>t_ship</th>\n",
       "      <th>joint</th>\n",
       "      <th>t_aircraft</th>\n",
       "      <th>comm</th>\n",
       "      <th>acat</th>\n",
       "      <th>org</th>\n",
       "    </tr>\n",
       "  </thead>\n",
       "  <tbody>\n",
       "    <tr>\n",
       "      <th>0</th>\n",
       "      <td>AA-NTSP-P-80-1604</td>\n",
       "      <td>2016-02-09 14:22:57</td>\n",
       "      <td>2017-01-05 10:17:24</td>\n",
       "      <td>NTSP QA, Concurrence Validation, Requirements ...</td>\n",
       "      <td>330.0</td>\n",
       "      <td>John</td>\n",
       "      <td>Doe</td>\n",
       "      <td>D</td>\n",
       "      <td>NaN</td>\n",
       "      <td>6</td>\n",
       "      <td>E</td>\n",
       "      <td>2016</td>\n",
       "      <td>N</td>\n",
       "      <td>N</td>\n",
       "      <td>N</td>\n",
       "      <td>Ohio</td>\n",
       "      <td>Yellow</td>\n",
       "      <td>White Sox</td>\n",
       "    </tr>\n",
       "    <tr>\n",
       "      <th>1</th>\n",
       "      <td>AA-NTSP-P-80-1606</td>\n",
       "      <td>2016-03-02 10:50:27</td>\n",
       "      <td>2016-07-15 11:46:32</td>\n",
       "      <td>N1 Concurrence, TRP Implementation, Concurrenc...</td>\n",
       "      <td>135.0</td>\n",
       "      <td>John</td>\n",
       "      <td>Doe</td>\n",
       "      <td>D</td>\n",
       "      <td>NaN</td>\n",
       "      <td>5</td>\n",
       "      <td>R</td>\n",
       "      <td>2016</td>\n",
       "      <td>N</td>\n",
       "      <td>N</td>\n",
       "      <td>N</td>\n",
       "      <td>Oklahoma</td>\n",
       "      <td>NaN</td>\n",
       "      <td>White Sox</td>\n",
       "    </tr>\n",
       "    <tr>\n",
       "      <th>2</th>\n",
       "      <td>G-TSCMIS-TSP-E-70-1308</td>\n",
       "      <td>2014-02-26 08:49:23</td>\n",
       "      <td>2017-03-07 11:07:18</td>\n",
       "      <td>Approved, Annual Review</td>\n",
       "      <td>1105.0</td>\n",
       "      <td>John</td>\n",
       "      <td>Doe</td>\n",
       "      <td>D</td>\n",
       "      <td>NaN</td>\n",
       "      <td>2</td>\n",
       "      <td>Y</td>\n",
       "      <td>2013</td>\n",
       "      <td>N</td>\n",
       "      <td>N</td>\n",
       "      <td>N</td>\n",
       "      <td>Georgia</td>\n",
       "      <td>NaN</td>\n",
       "      <td>Orioles</td>\n",
       "    </tr>\n",
       "    <tr>\n",
       "      <th>3</th>\n",
       "      <td>N04-NTSP-S-40-0301A</td>\n",
       "      <td>2014-04-23 13:55:28</td>\n",
       "      <td>2014-05-12 16:13:58</td>\n",
       "      <td>Approved, Annual Review</td>\n",
       "      <td>19.0</td>\n",
       "      <td>James</td>\n",
       "      <td>Huey</td>\n",
       "      <td>C</td>\n",
       "      <td>N</td>\n",
       "      <td>2</td>\n",
       "      <td>Y</td>\n",
       "      <td>2010</td>\n",
       "      <td>N</td>\n",
       "      <td>N</td>\n",
       "      <td>N</td>\n",
       "      <td>Louisiana</td>\n",
       "      <td>Blue</td>\n",
       "      <td>Ravens</td>\n",
       "    </tr>\n",
       "    <tr>\n",
       "      <th>4</th>\n",
       "      <td>N093-NTSP-E-70-1304</td>\n",
       "      <td>2013-12-20 09:02:29</td>\n",
       "      <td>2015-12-09 10:50:14</td>\n",
       "      <td>Concurrence Validation, Requirements Validatio...</td>\n",
       "      <td>719.0</td>\n",
       "      <td>David</td>\n",
       "      <td>Billings</td>\n",
       "      <td>B</td>\n",
       "      <td>N</td>\n",
       "      <td>5</td>\n",
       "      <td>E</td>\n",
       "      <td>2013</td>\n",
       "      <td>N</td>\n",
       "      <td>N</td>\n",
       "      <td>N</td>\n",
       "      <td>Georgia</td>\n",
       "      <td>NaN</td>\n",
       "      <td>Pirates</td>\n",
       "    </tr>\n",
       "  </tbody>\n",
       "</table>\n",
       "</div>"
      ],
      "text/plain": [
       "                  ntsp_no           StartDate             EndDate  \\\n",
       "0       AA-NTSP-P-80-1604 2016-02-09 14:22:57 2017-01-05 10:17:24   \n",
       "1       AA-NTSP-P-80-1606 2016-03-02 10:50:27 2016-07-15 11:46:32   \n",
       "2  G-TSCMIS-TSP-E-70-1308 2014-02-26 08:49:23 2017-03-07 11:07:18   \n",
       "3     N04-NTSP-S-40-0301A 2014-04-23 13:55:28 2014-05-12 16:13:58   \n",
       "4     N093-NTSP-E-70-1304 2013-12-20 09:02:29 2015-12-09 10:50:14   \n",
       "\n",
       "                                              WFstep  ntspduration firstName  \\\n",
       "0  NTSP QA, Concurrence Validation, Requirements ...         330.0      John   \n",
       "1  N1 Concurrence, TRP Implementation, Concurrenc...         135.0      John   \n",
       "2                            Approved, Annual Review        1105.0      John   \n",
       "3                            Approved, Annual Review          19.0     James   \n",
       "4  Concurrence Validation, Requirements Validatio...         719.0     David   \n",
       "\n",
       "   lastName User_Status1 deleted  version l_copy    fy t_ship joint  \\\n",
       "0       Doe            D     NaN        6      E  2016      N     N   \n",
       "1       Doe            D     NaN        5      R  2016      N     N   \n",
       "2       Doe            D     NaN        2      Y  2013      N     N   \n",
       "3      Huey            C       N        2      Y  2010      N     N   \n",
       "4  Billings            B       N        5      E  2013      N     N   \n",
       "\n",
       "  t_aircraft       comm    acat        org  \n",
       "0          N       Ohio  Yellow  White Sox  \n",
       "1          N   Oklahoma     NaN  White Sox  \n",
       "2          N    Georgia     NaN    Orioles  \n",
       "3          N  Louisiana    Blue     Ravens  \n",
       "4          N    Georgia     NaN    Pirates  "
      ]
     },
     "execution_count": 58,
     "metadata": {},
     "output_type": "execute_result"
    }
   ],
   "source": [
    "finaldf = pd.merge(mergdf, commyr, how='left', on='ntsp_no', sort=False, suffixes=('_x', '_y'), copy=True)\n",
    "finaldf.head(5)\n"
   ]
  },
  {
   "cell_type": "code",
   "execution_count": 59,
   "metadata": {},
   "outputs": [
    {
     "data": {
      "text/plain": [
       "(157, 18)"
      ]
     },
     "execution_count": 59,
     "metadata": {},
     "output_type": "execute_result"
    }
   ],
   "source": [
    "finaldf.shape"
   ]
  },
  {
   "cell_type": "code",
   "execution_count": 60,
   "metadata": {},
   "outputs": [
    {
     "data": {
      "text/plain": [
       "Index([u'ntsp_no', u'StartDate', u'EndDate', u'WFstep', u'ntspduration',\n",
       "       u'firstName', u'lastName', u'User_Status1', u'deleted', u'version',\n",
       "       u'l_copy', u'fy', u't_ship', u'joint', u't_aircraft', u'comm', u'acat',\n",
       "       u'org'],\n",
       "      dtype='object')"
      ]
     },
     "execution_count": 60,
     "metadata": {},
     "output_type": "execute_result"
    }
   ],
   "source": [
    "finaldf.columns"
   ]
  },
  {
   "cell_type": "code",
   "execution_count": 61,
   "metadata": {
    "collapsed": true
   },
   "outputs": [],
   "source": [
    "# it can ruin a model to have unknowns\n",
    "finaldf = finaldf.fillna(value = 'Unknown')"
   ]
  },
  {
   "cell_type": "code",
   "execution_count": 62,
   "metadata": {
    "collapsed": true
   },
   "outputs": [],
   "source": [
    "# Check the 4 features I will use (lastName, org, comm, fy, User_Status1) to see if 'Unknown' filled in any missing data."
   ]
  },
  {
   "cell_type": "code",
   "execution_count": 63,
   "metadata": {},
   "outputs": [
    {
     "data": {
      "text/plain": [
       "Hawthorne      63\n",
       "Doe            13\n",
       "Madeye         11\n",
       "Huey            8\n",
       "Shoemaker       7\n",
       "Giddings        7\n",
       "Collins         5\n",
       "Hall            4\n",
       "Smith           3\n",
       "Moon            3\n",
       "Longbottom      3\n",
       "Volkswagon      3\n",
       "Louisville      3\n",
       "Longfellow      3\n",
       "Isle            2\n",
       "Kim             2\n",
       "Pullman         2\n",
       "Sopwith         1\n",
       "Moore           1\n",
       "Adams           1\n",
       "Hempsey         1\n",
       "Benson          1\n",
       "Louisiana       1\n",
       "Williams        1\n",
       "Brahms          1\n",
       "Allmon          1\n",
       "Batman          1\n",
       "Hemingway       1\n",
       "Bach            1\n",
       "Stuyversant     1\n",
       "Billings        1\n",
       "Neville         1\n",
       "Name: lastName, dtype: int64"
      ]
     },
     "execution_count": 63,
     "metadata": {},
     "output_type": "execute_result"
    }
   ],
   "source": [
    "finaldf.lastName.value_counts()"
   ]
  },
  {
   "cell_type": "code",
   "execution_count": 64,
   "metadata": {},
   "outputs": [
    {
     "data": {
      "text/plain": [
       "Orioles       25\n",
       "Braves        17\n",
       "Spurs         15\n",
       "Falcons       13\n",
       "Rockies       13\n",
       "Dodgers       10\n",
       "Mariners       7\n",
       "Bengals        7\n",
       "Cubs           6\n",
       "Saints         6\n",
       "White Sox      4\n",
       "Broncos        4\n",
       "Cardinals      4\n",
       "Athletics      2\n",
       "Chargers       2\n",
       "Twins          2\n",
       "Rays           2\n",
       "Chiefs         2\n",
       "Padres         2\n",
       "Steelers       2\n",
       "Ravens         2\n",
       "Yankees        1\n",
       "Cowboys        1\n",
       "Packers        1\n",
       "Patriots1      1\n",
       "Indians        1\n",
       "Pirates        1\n",
       "Buccaneers     1\n",
       "Blue Jays      1\n",
       "Lions          1\n",
       "Titans         1\n",
       "Name: org, dtype: int64"
      ]
     },
     "execution_count": 64,
     "metadata": {},
     "output_type": "execute_result"
    }
   ],
   "source": [
    "finaldf.org.value_counts()"
   ]
  },
  {
   "cell_type": "code",
   "execution_count": 65,
   "metadata": {},
   "outputs": [
    {
     "data": {
      "text/plain": [
       "California       93\n",
       "Georgia          30\n",
       "Oklahoma         20\n",
       "Louisiana         5\n",
       "New Hampshire     3\n",
       "Ohio              2\n",
       "Arkansas          2\n",
       "South Dakota      1\n",
       "Unknown           1\n",
       "Name: comm, dtype: int64"
      ]
     },
     "execution_count": 65,
     "metadata": {},
     "output_type": "execute_result"
    }
   ],
   "source": [
    "finaldf.comm.value_counts()"
   ]
  },
  {
   "cell_type": "code",
   "execution_count": 66,
   "metadata": {},
   "outputs": [
    {
     "data": {
      "text/plain": [
       "B    80\n",
       "C    44\n",
       "A    20\n",
       "D    13\n",
       "Name: User_Status1, dtype: int64"
      ]
     },
     "execution_count": 66,
     "metadata": {},
     "output_type": "execute_result"
    }
   ],
   "source": [
    "finaldf.User_Status1.value_counts()"
   ]
  },
  {
   "cell_type": "code",
   "execution_count": 67,
   "metadata": {},
   "outputs": [
    {
     "data": {
      "text/plain": [
       "2000     1\n",
       "2001     3\n",
       "2002     2\n",
       "2005     1\n",
       "2006     1\n",
       "2007     3\n",
       "2008     7\n",
       "2009    14\n",
       "2010     9\n",
       "2011    12\n",
       "2012    23\n",
       "2013     8\n",
       "2014    14\n",
       "2015    18\n",
       "2016    26\n",
       "2017    15\n",
       "Name: fy, dtype: int64"
      ]
     },
     "execution_count": 67,
     "metadata": {},
     "output_type": "execute_result"
    }
   ],
   "source": [
    "finaldf.fy.value_counts().sort_index()"
   ]
  },
  {
   "cell_type": "markdown",
   "metadata": {},
   "source": [
    "#### Check to see if there are any Total_Ship or Total_Aircraft NTSPs; might be able to combine both into a feature/dummy variable"
   ]
  },
  {
   "cell_type": "code",
   "execution_count": 68,
   "metadata": {},
   "outputs": [
    {
     "data": {
      "text/plain": [
       "N          155\n",
       "Unknown      1\n",
       "Y            1\n",
       "Name: t_ship, dtype: int64"
      ]
     },
     "execution_count": 68,
     "metadata": {},
     "output_type": "execute_result"
    }
   ],
   "source": [
    "finaldf.t_ship.value_counts(dropna=False)"
   ]
  },
  {
   "cell_type": "code",
   "execution_count": 69,
   "metadata": {},
   "outputs": [
    {
     "data": {
      "text/plain": [
       "N          151\n",
       "Unknown      6\n",
       "Name: t_aircraft, dtype: int64"
      ]
     },
     "execution_count": 69,
     "metadata": {},
     "output_type": "execute_result"
    }
   ],
   "source": [
    "finaldf.t_aircraft.value_counts(dropna=False)\n",
    "#how to include blank values"
   ]
  },
  {
   "cell_type": "markdown",
   "metadata": {},
   "source": [
    "    #### Based on the above, there is probably not enough data to make this into a feature, with only one NTSP that is a t_ship and no t_aircraft identified."
   ]
  },
  {
   "cell_type": "markdown",
   "metadata": {
    "collapsed": true
   },
   "source": [
    "##### Check parent community ('comm') of organizations ('org')"
   ]
  },
  {
   "cell_type": "code",
   "execution_count": 70,
   "metadata": {},
   "outputs": [
    {
     "data": {
      "text/plain": [
       "comm           org       \n",
       "Arkansas       Orioles        2\n",
       "California     Braves        16\n",
       "               Orioles       15\n",
       "               Rockies       13\n",
       "               Spurs         12\n",
       "               Mariners       7\n",
       "               Bengals        6\n",
       "               Cubs           6\n",
       "               Dodgers        5\n",
       "               Athletics      2\n",
       "               Broncos        2\n",
       "               Cardinals      2\n",
       "               Chiefs         2\n",
       "               Buccaneers     1\n",
       "               Indians        1\n",
       "               Lions          1\n",
       "               Packers        1\n",
       "               Rays           1\n",
       "Georgia        Orioles        6\n",
       "               Dodgers        4\n",
       "               Spurs          3\n",
       "               Cardinals      2\n",
       "               Chargers       2\n",
       "               Falcons        2\n",
       "               Saints         2\n",
       "               Steelers       2\n",
       "               Braves         1\n",
       "               Broncos        1\n",
       "               Cowboys        1\n",
       "               Padres         1\n",
       "               Pirates        1\n",
       "               Rays           1\n",
       "               Yankees        1\n",
       "Louisiana      Ravens         2\n",
       "               Twins          2\n",
       "               Padres         1\n",
       "New Hampshire  Orioles        2\n",
       "               Dodgers        1\n",
       "Ohio           Saints         1\n",
       "               White Sox      1\n",
       "Oklahoma       Falcons       11\n",
       "               Saints         3\n",
       "               White Sox      3\n",
       "               Blue Jays      1\n",
       "               Broncos        1\n",
       "               Titans         1\n",
       "South Dakota   Patriots1      1\n",
       "Unknown        Bengals        1\n",
       "Name: org, dtype: int64"
      ]
     },
     "execution_count": 70,
     "metadata": {},
     "output_type": "execute_result"
    }
   ],
   "source": [
    "finaldf.groupby(['comm']).org.value_counts()\n"
   ]
  },
  {
   "cell_type": "markdown",
   "metadata": {},
   "source": [
    "## Quick visualizations to look at features identified below in feature columns"
   ]
  },
  {
   "cell_type": "code",
   "execution_count": 71,
   "metadata": {},
   "outputs": [
    {
     "data": {
      "image/png": "[encoded data removed]",
      "text/plain": [
       "<matplotlib.figure.Figure at 0xcffd8d0>"
      ]
     },
     "metadata": {},
     "output_type": "display_data"
    }
   ],
   "source": [
    "ax = finaldf.org.value_counts().plot(kind='bar');\n",
    "ax.set_ylabel('Count', fontsize=14);\n",
    "ax.set_xlabel('Authoring Organization', fontsize=14);\n",
    "ax.set_title('Count of NTSPs by Organization', fontsize=15, y=1.01);"
   ]
  },
  {
   "cell_type": "code",
   "execution_count": 72,
   "metadata": {},
   "outputs": [
    {
     "data": {
      "text/plain": [
       "Orioles       25\n",
       "Braves        17\n",
       "Spurs         15\n",
       "Falcons       13\n",
       "Rockies       13\n",
       "Dodgers       10\n",
       "Mariners       7\n",
       "Bengals        7\n",
       "Cubs           6\n",
       "Saints         6\n",
       "White Sox      4\n",
       "Broncos        4\n",
       "Cardinals      4\n",
       "Athletics      2\n",
       "Chargers       2\n",
       "Twins          2\n",
       "Rays           2\n",
       "Chiefs         2\n",
       "Padres         2\n",
       "Steelers       2\n",
       "Ravens         2\n",
       "Yankees        1\n",
       "Cowboys        1\n",
       "Packers        1\n",
       "Patriots1      1\n",
       "Indians        1\n",
       "Pirates        1\n",
       "Buccaneers     1\n",
       "Blue Jays      1\n",
       "Lions          1\n",
       "Titans         1\n",
       "Name: org, dtype: int64"
      ]
     },
     "execution_count": 72,
     "metadata": {},
     "output_type": "execute_result"
    }
   ],
   "source": [
    "finaldf.org.value_counts(dropna=False)"
   ]
  },
  {
   "cell_type": "code",
   "execution_count": 73,
   "metadata": {},
   "outputs": [
    {
     "data": {
      "image/png": "[encoded data removed]",
      "text/plain": [
       "<matplotlib.figure.Figure at 0xcc78828>"
      ]
     },
     "metadata": {},
     "output_type": "display_data"
    }
   ],
   "source": [
    "# Get count of NTSPs developed by community\n",
    "ax = finaldf.comm.value_counts().plot(kind='bar');\n",
    "ax.set_ylabel('Count', fontsize=14);\n",
    "ax.set_xlabel('Originating Community', fontsize=14);\n",
    "ax.set_title('Count of NTSPs by Community', fontsize=15, y=1.01);"
   ]
  },
  {
   "cell_type": "code",
   "execution_count": 74,
   "metadata": {},
   "outputs": [
    {
     "data": {
      "image/png": "[encoded data removed]",
      "text/plain": [
       "<matplotlib.figure.Figure at 0xd901ba8>"
      ]
     },
     "metadata": {},
     "output_type": "display_data"
    }
   ],
   "source": [
    "# Get count of NTSPs developed by organization\n",
    "ax = finaldf.org.value_counts().plot(kind='bar');\n",
    "ax.set_ylabel('Count', fontsize=14);\n",
    "ax.set_xlabel('Originating Organization', fontsize=14);\n",
    "ax.set_title('Count of NTSPs by Organization', fontsize=15, y=1.01);"
   ]
  },
  {
   "cell_type": "code",
   "execution_count": 75,
   "metadata": {},
   "outputs": [
    {
     "data": {
      "text/plain": [
       "California       93\n",
       "Georgia          30\n",
       "Oklahoma         20\n",
       "Louisiana         5\n",
       "New Hampshire     3\n",
       "Ohio              2\n",
       "Arkansas          2\n",
       "South Dakota      1\n",
       "Unknown           1\n",
       "Name: comm, dtype: int64"
      ]
     },
     "execution_count": 75,
     "metadata": {},
     "output_type": "execute_result"
    }
   ],
   "source": [
    "finaldf.comm.value_counts()"
   ]
  },
  {
   "cell_type": "code",
   "execution_count": 76,
   "metadata": {},
   "outputs": [
    {
     "data": {
      "image/png": "[encoded data removed]",
      "text/plain": [
       "<matplotlib.figure.Figure at 0xd438da0>"
      ]
     },
     "metadata": {},
     "output_type": "display_data"
    }
   ],
   "source": [
    "ax = finaldf.fy.value_counts().sort_index().plot(kind='bar');\n",
    "ax.set_ylabel('Count', fontsize=14);\n",
    "ax.set_xlabel('Year', fontsize=14);\n",
    "ax.set_title('Count of NTSPs Developed by Year (Start Date)', fontsize=15, y=1.01);"
   ]
  },
  {
   "cell_type": "markdown",
   "metadata": {},
   "source": [
    "###### Check distribution of ACAT categories.  This feature has a lot of missing data.  As time allows, I will try to populate NaNs with correct data.  This missing data is due to lack of data validation in the web app--there are too many features that are optional for the user to enter that should be required.  The information is available from other sources; it's just time-consuming to retrieve.\n"
   ]
  },
  {
   "cell_type": "code",
   "execution_count": 77,
   "metadata": {},
   "outputs": [
    {
     "data": {
      "text/plain": [
       "Unknown    100\n",
       "Blue        20\n",
       "Orange      17\n",
       "Red         15\n",
       "Green        4\n",
       "Yellow       1\n",
       "Name: acat, dtype: int64"
      ]
     },
     "execution_count": 77,
     "metadata": {},
     "output_type": "execute_result"
    }
   ],
   "source": [
    "finaldf.acat.value_counts(dropna=False)"
   ]
  },
  {
   "cell_type": "code",
   "execution_count": 78,
   "metadata": {
    "scrolled": true
   },
   "outputs": [
    {
     "data": {
      "image/png": "[encoded data removed]",
      "text/plain": [
       "<matplotlib.figure.Figure at 0xe6068d0>"
      ]
     },
     "metadata": {},
     "output_type": "display_data"
    }
   ],
   "source": [
    "# ACAT/Color Desingation\n",
    "ax = finaldf.acat.value_counts().plot(kind='bar');\n",
    "ax.set_ylabel('Count', fontsize=14);\n",
    "ax.set_xlabel('Color', fontsize=14);\n",
    "ax.set_title('Count of NTSPs by Color of Program', fontsize=15, y=1.01);"
   ]
  },
  {
   "cell_type": "code",
   "execution_count": 79,
   "metadata": {
    "collapsed": true
   },
   "outputs": [],
   "source": [
    "#### Look at average NTSP duration by fiscal year (the document development began)"
   ]
  },
  {
   "cell_type": "code",
   "execution_count": 80,
   "metadata": {},
   "outputs": [
    {
     "data": {
      "text/html": [
       "<div>\n",
       "<style>\n",
       "    .dataframe thead tr:only-child th {\n",
       "        text-align: right;\n",
       "    }\n",
       "\n",
       "    .dataframe thead th {\n",
       "        text-align: left;\n",
       "    }\n",
       "\n",
       "    .dataframe tbody tr th {\n",
       "        vertical-align: top;\n",
       "    }\n",
       "</style>\n",
       "<table border=\"1\" class=\"dataframe\">\n",
       "  <thead>\n",
       "    <tr style=\"text-align: right;\">\n",
       "      <th></th>\n",
       "      <th>count</th>\n",
       "      <th>mean</th>\n",
       "      <th>min</th>\n",
       "      <th>max</th>\n",
       "    </tr>\n",
       "    <tr>\n",
       "      <th>fy</th>\n",
       "      <th></th>\n",
       "      <th></th>\n",
       "      <th></th>\n",
       "      <th></th>\n",
       "    </tr>\n",
       "  </thead>\n",
       "  <tbody>\n",
       "    <tr>\n",
       "      <th>2000</th>\n",
       "      <td>1</td>\n",
       "      <td>212.000000</td>\n",
       "      <td>212.0</td>\n",
       "      <td>212.0</td>\n",
       "    </tr>\n",
       "    <tr>\n",
       "      <th>2001</th>\n",
       "      <td>3</td>\n",
       "      <td>121.000000</td>\n",
       "      <td>62.0</td>\n",
       "      <td>212.0</td>\n",
       "    </tr>\n",
       "    <tr>\n",
       "      <th>2002</th>\n",
       "      <td>2</td>\n",
       "      <td>697.000000</td>\n",
       "      <td>51.0</td>\n",
       "      <td>1343.0</td>\n",
       "    </tr>\n",
       "    <tr>\n",
       "      <th>2005</th>\n",
       "      <td>1</td>\n",
       "      <td>261.000000</td>\n",
       "      <td>261.0</td>\n",
       "      <td>261.0</td>\n",
       "    </tr>\n",
       "    <tr>\n",
       "      <th>2006</th>\n",
       "      <td>1</td>\n",
       "      <td>62.000000</td>\n",
       "      <td>62.0</td>\n",
       "      <td>62.0</td>\n",
       "    </tr>\n",
       "    <tr>\n",
       "      <th>2007</th>\n",
       "      <td>3</td>\n",
       "      <td>214.333333</td>\n",
       "      <td>78.0</td>\n",
       "      <td>476.0</td>\n",
       "    </tr>\n",
       "    <tr>\n",
       "      <th>2008</th>\n",
       "      <td>7</td>\n",
       "      <td>758.000000</td>\n",
       "      <td>89.0</td>\n",
       "      <td>1343.0</td>\n",
       "    </tr>\n",
       "    <tr>\n",
       "      <th>2009</th>\n",
       "      <td>14</td>\n",
       "      <td>865.357143</td>\n",
       "      <td>516.0</td>\n",
       "      <td>1232.0</td>\n",
       "    </tr>\n",
       "    <tr>\n",
       "      <th>2010</th>\n",
       "      <td>9</td>\n",
       "      <td>476.555556</td>\n",
       "      <td>19.0</td>\n",
       "      <td>1330.0</td>\n",
       "    </tr>\n",
       "    <tr>\n",
       "      <th>2011</th>\n",
       "      <td>12</td>\n",
       "      <td>985.500000</td>\n",
       "      <td>284.0</td>\n",
       "      <td>1449.0</td>\n",
       "    </tr>\n",
       "    <tr>\n",
       "      <th>2012</th>\n",
       "      <td>23</td>\n",
       "      <td>880.565217</td>\n",
       "      <td>27.0</td>\n",
       "      <td>1433.0</td>\n",
       "    </tr>\n",
       "    <tr>\n",
       "      <th>2013</th>\n",
       "      <td>8</td>\n",
       "      <td>1087.375000</td>\n",
       "      <td>719.0</td>\n",
       "      <td>1419.0</td>\n",
       "    </tr>\n",
       "    <tr>\n",
       "      <th>2014</th>\n",
       "      <td>14</td>\n",
       "      <td>853.357143</td>\n",
       "      <td>268.0</td>\n",
       "      <td>1238.0</td>\n",
       "    </tr>\n",
       "    <tr>\n",
       "      <th>2015</th>\n",
       "      <td>18</td>\n",
       "      <td>872.888889</td>\n",
       "      <td>316.0</td>\n",
       "      <td>1082.0</td>\n",
       "    </tr>\n",
       "    <tr>\n",
       "      <th>2016</th>\n",
       "      <td>26</td>\n",
       "      <td>610.730769</td>\n",
       "      <td>105.0</td>\n",
       "      <td>1427.0</td>\n",
       "    </tr>\n",
       "    <tr>\n",
       "      <th>2017</th>\n",
       "      <td>15</td>\n",
       "      <td>495.333333</td>\n",
       "      <td>22.0</td>\n",
       "      <td>1438.0</td>\n",
       "    </tr>\n",
       "  </tbody>\n",
       "</table>\n",
       "</div>"
      ],
      "text/plain": [
       "      count         mean    min     max\n",
       "fy                                     \n",
       "2000      1   212.000000  212.0   212.0\n",
       "2001      3   121.000000   62.0   212.0\n",
       "2002      2   697.000000   51.0  1343.0\n",
       "2005      1   261.000000  261.0   261.0\n",
       "2006      1    62.000000   62.0    62.0\n",
       "2007      3   214.333333   78.0   476.0\n",
       "2008      7   758.000000   89.0  1343.0\n",
       "2009     14   865.357143  516.0  1232.0\n",
       "2010      9   476.555556   19.0  1330.0\n",
       "2011     12   985.500000  284.0  1449.0\n",
       "2012     23   880.565217   27.0  1433.0\n",
       "2013      8  1087.375000  719.0  1419.0\n",
       "2014     14   853.357143  268.0  1238.0\n",
       "2015     18   872.888889  316.0  1082.0\n",
       "2016     26   610.730769  105.0  1427.0\n",
       "2017     15   495.333333   22.0  1438.0"
      ]
     },
     "execution_count": 80,
     "metadata": {},
     "output_type": "execute_result"
    }
   ],
   "source": [
    "finaldf.groupby('fy').ntspduration.agg(['count','mean','min', 'max'])"
   ]
  },
  {
   "cell_type": "markdown",
   "metadata": {},
   "source": [
    "#### Look at average development time by Fiscal Year Initiated.  This needs further cleaning because the dataset includes documents that have not been completed yet."
   ]
  },
  {
   "cell_type": "code",
   "execution_count": 81,
   "metadata": {},
   "outputs": [
    {
     "data": {
      "image/png": "[encoded data removed]",
      "text/plain": [
       "<matplotlib.figure.Figure at 0xe632c88>"
      ]
     },
     "metadata": {},
     "output_type": "display_data"
    }
   ],
   "source": [
    "ax = finaldf.groupby('fy').ntspduration.agg(['mean']).plot(kind='bar');\n",
    "ax.set_ylabel('Development Time (Days)', fontsize=14);\n",
    "ax.set_xlabel('Fiscal Year in which Document Initiated', fontsize=14);\n",
    "ax.set_title('Average Development Time by Fiscal Year (Initiated)', fontsize=15, y=1.01);"
   ]
  },
  {
   "cell_type": "code",
   "execution_count": 82,
   "metadata": {},
   "outputs": [
    {
     "data": {
      "image/png": "[encoded data removed]",
      "text/plain": [
       "<matplotlib.figure.Figure at 0xcc786a0>"
      ]
     },
     "metadata": {},
     "output_type": "display_data"
    }
   ],
   "source": [
    "ax = finaldf.groupby('org').ntspduration.agg(['mean']).plot(kind='bar');\n",
    "ax.set_ylabel('Development Time (Days)', fontsize=14);\n",
    "ax.set_xlabel('Organization', fontsize=14);\n",
    "ax.set_title('Average Development Time by Organization', fontsize=15, y=1.01);"
   ]
  },
  {
   "cell_type": "code",
   "execution_count": 83,
   "metadata": {},
   "outputs": [
    {
     "data": {
      "image/png": "[encoded data removed]",
      "text/plain": [
       "<matplotlib.figure.Figure at 0xde2b780>"
      ]
     },
     "metadata": {},
     "output_type": "display_data"
    }
   ],
   "source": [
    "ax = finaldf.groupby('comm').ntspduration.agg(['mean']).plot(kind='bar');\n",
    "ax.set_ylabel('Development Time (Days)', fontsize=14);\n",
    "ax.set_xlabel('Community', fontsize=14);\n",
    "ax.set_title('Average Development Time by Community', fontsize=15, y=1.01);"
   ]
  },
  {
   "cell_type": "code",
   "execution_count": 84,
   "metadata": {},
   "outputs": [
    {
     "data": {
      "image/png": "[encoded data removed]",
      "text/plain": [
       "<matplotlib.figure.Figure at 0xd921da0>"
      ]
     },
     "metadata": {},
     "output_type": "display_data"
    }
   ],
   "source": [
    "ax = finaldf.groupby('User_Status1').ntspduration.agg(['mean']).plot(kind='bar');\n",
    "ax.set_ylabel('Development Time (Days)', fontsize=14);\n",
    "ax.set_xlabel('Sponsor Type', fontsize=14);\n",
    "ax.set_title('Average Development Time by Sponsor Type', fontsize=15, y=1.01);"
   ]
  },
  {
   "cell_type": "code",
   "execution_count": 85,
   "metadata": {},
   "outputs": [
    {
     "data": {
      "image/png": "[encoded data removed]",
      "text/plain": [
       "<matplotlib.figure.Figure at 0xd3bd4e0>"
      ]
     },
     "metadata": {},
     "output_type": "display_data"
    }
   ],
   "source": [
    "ax = finaldf.groupby('lastName').ntspduration.agg(['mean']).plot(kind='bar');\n",
    "ax.set_ylabel('Development Time (Days)', fontsize=14);\n",
    "ax.set_xlabel('Development Time by Sponsor', fontsize=14);\n",
    "ax.set_title('Average Development Time by Sponsor', fontsize=15, y=1.01);"
   ]
  },
  {
   "cell_type": "markdown",
   "metadata": {},
   "source": [
    "## Modeling"
   ]
  },
  {
   "cell_type": "markdown",
   "metadata": {
    "collapsed": true
   },
   "source": [
    "### Predict ntspduration using linear regression first"
   ]
  },
  {
   "cell_type": "code",
   "execution_count": 86,
   "metadata": {},
   "outputs": [
    {
     "data": {
      "text/plain": [
       "sklearn.linear_model.base.LinearRegression"
      ]
     },
     "execution_count": 86,
     "metadata": {},
     "output_type": "execute_result"
    }
   ],
   "source": [
    "# fit_intercept to be false because we know every project takes some time at least\n",
    "from sklearn.linear_model import LinearRegression\n",
    "lr = LinearRegression(fit_intercept=False, normalize=True)\n",
    "type(lr)"
   ]
  },
  {
   "cell_type": "code",
   "execution_count": 87,
   "metadata": {},
   "outputs": [
    {
     "data": {
      "text/plain": [
       "Index([u'ntsp_no', u'StartDate', u'EndDate', u'WFstep', u'ntspduration',\n",
       "       u'firstName', u'lastName', u'User_Status1', u'deleted', u'version',\n",
       "       u'l_copy', u'fy', u't_ship', u'joint', u't_aircraft', u'comm', u'acat',\n",
       "       u'org'],\n",
       "      dtype='object')"
      ]
     },
     "execution_count": 87,
     "metadata": {},
     "output_type": "execute_result"
    }
   ],
   "source": [
    "finaldf.columns"
   ]
  },
  {
   "cell_type": "code",
   "execution_count": 88,
   "metadata": {
    "collapsed": true
   },
   "outputs": [],
   "source": [
    "#need to add acat once it has been populated.  Leaving out fiscal year (fy) for now also.\n",
    "feature_cols = ['lastName','comm','org','User_Status1']\n",
    "X = finaldf[feature_cols]\n",
    "y = pd.DataFrame(finaldf.ntspduration)"
   ]
  },
  {
   "cell_type": "code",
   "execution_count": 89,
   "metadata": {},
   "outputs": [
    {
     "data": {
      "text/plain": [
       "Index([u'lastName', u'comm', u'org', u'User_Status1'], dtype='object')"
      ]
     },
     "execution_count": 89,
     "metadata": {},
     "output_type": "execute_result"
    }
   ],
   "source": [
    "X.columns\n"
   ]
  },
  {
   "cell_type": "markdown",
   "metadata": {},
   "source": [
    "When I tried the linear regression the first time, I got an error saying that it cannot convert string to float.  Consulted with Mike G., the fearless TA, and learned that learner models like logistic regression, distance based methods such as kNN, support vector machines, tree based methods etc. in sklearn need numeric arrays. Features having string values (i.e., all my features for this dataset) cannot be handled by these learners.  So, I need to create dummies for all my categorical variables."
   ]
  },
  {
   "cell_type": "code",
   "execution_count": 90,
   "metadata": {},
   "outputs": [
    {
     "data": {
      "text/html": [
       "<div>\n",
       "<style>\n",
       "    .dataframe thead tr:only-child th {\n",
       "        text-align: right;\n",
       "    }\n",
       "\n",
       "    .dataframe thead th {\n",
       "        text-align: left;\n",
       "    }\n",
       "\n",
       "    .dataframe tbody tr th {\n",
       "        vertical-align: top;\n",
       "    }\n",
       "</style>\n",
       "<table border=\"1\" class=\"dataframe\">\n",
       "  <thead>\n",
       "    <tr style=\"text-align: right;\">\n",
       "      <th></th>\n",
       "      <th>lastName</th>\n",
       "      <th>comm</th>\n",
       "      <th>org</th>\n",
       "      <th>User_Status1</th>\n",
       "      <th>Adams</th>\n",
       "      <th>Allmon</th>\n",
       "      <th>Bach</th>\n",
       "      <th>Batman</th>\n",
       "      <th>Benson</th>\n",
       "      <th>Billings</th>\n",
       "      <th>...</th>\n",
       "      <th>Moon</th>\n",
       "      <th>Moore</th>\n",
       "      <th>Neville</th>\n",
       "      <th>Pullman</th>\n",
       "      <th>Shoemaker</th>\n",
       "      <th>Smith</th>\n",
       "      <th>Sopwith</th>\n",
       "      <th>Stuyversant</th>\n",
       "      <th>Volkswagon</th>\n",
       "      <th>Williams</th>\n",
       "    </tr>\n",
       "  </thead>\n",
       "  <tbody>\n",
       "    <tr>\n",
       "      <th>0</th>\n",
       "      <td>Doe</td>\n",
       "      <td>Ohio</td>\n",
       "      <td>White Sox</td>\n",
       "      <td>D</td>\n",
       "      <td>0</td>\n",
       "      <td>0</td>\n",
       "      <td>0</td>\n",
       "      <td>0</td>\n",
       "      <td>0</td>\n",
       "      <td>0</td>\n",
       "      <td>...</td>\n",
       "      <td>0</td>\n",
       "      <td>0</td>\n",
       "      <td>0</td>\n",
       "      <td>0</td>\n",
       "      <td>0</td>\n",
       "      <td>0</td>\n",
       "      <td>0</td>\n",
       "      <td>0</td>\n",
       "      <td>0</td>\n",
       "      <td>0</td>\n",
       "    </tr>\n",
       "    <tr>\n",
       "      <th>1</th>\n",
       "      <td>Doe</td>\n",
       "      <td>Oklahoma</td>\n",
       "      <td>White Sox</td>\n",
       "      <td>D</td>\n",
       "      <td>0</td>\n",
       "      <td>0</td>\n",
       "      <td>0</td>\n",
       "      <td>0</td>\n",
       "      <td>0</td>\n",
       "      <td>0</td>\n",
       "      <td>...</td>\n",
       "      <td>0</td>\n",
       "      <td>0</td>\n",
       "      <td>0</td>\n",
       "      <td>0</td>\n",
       "      <td>0</td>\n",
       "      <td>0</td>\n",
       "      <td>0</td>\n",
       "      <td>0</td>\n",
       "      <td>0</td>\n",
       "      <td>0</td>\n",
       "    </tr>\n",
       "    <tr>\n",
       "      <th>2</th>\n",
       "      <td>Doe</td>\n",
       "      <td>Georgia</td>\n",
       "      <td>Orioles</td>\n",
       "      <td>D</td>\n",
       "      <td>0</td>\n",
       "      <td>0</td>\n",
       "      <td>0</td>\n",
       "      <td>0</td>\n",
       "      <td>0</td>\n",
       "      <td>0</td>\n",
       "      <td>...</td>\n",
       "      <td>0</td>\n",
       "      <td>0</td>\n",
       "      <td>0</td>\n",
       "      <td>0</td>\n",
       "      <td>0</td>\n",
       "      <td>0</td>\n",
       "      <td>0</td>\n",
       "      <td>0</td>\n",
       "      <td>0</td>\n",
       "      <td>0</td>\n",
       "    </tr>\n",
       "    <tr>\n",
       "      <th>3</th>\n",
       "      <td>Huey</td>\n",
       "      <td>Louisiana</td>\n",
       "      <td>Ravens</td>\n",
       "      <td>C</td>\n",
       "      <td>0</td>\n",
       "      <td>0</td>\n",
       "      <td>0</td>\n",
       "      <td>0</td>\n",
       "      <td>0</td>\n",
       "      <td>0</td>\n",
       "      <td>...</td>\n",
       "      <td>0</td>\n",
       "      <td>0</td>\n",
       "      <td>0</td>\n",
       "      <td>0</td>\n",
       "      <td>0</td>\n",
       "      <td>0</td>\n",
       "      <td>0</td>\n",
       "      <td>0</td>\n",
       "      <td>0</td>\n",
       "      <td>0</td>\n",
       "    </tr>\n",
       "    <tr>\n",
       "      <th>4</th>\n",
       "      <td>Billings</td>\n",
       "      <td>Georgia</td>\n",
       "      <td>Pirates</td>\n",
       "      <td>B</td>\n",
       "      <td>0</td>\n",
       "      <td>0</td>\n",
       "      <td>0</td>\n",
       "      <td>0</td>\n",
       "      <td>0</td>\n",
       "      <td>1</td>\n",
       "      <td>...</td>\n",
       "      <td>0</td>\n",
       "      <td>0</td>\n",
       "      <td>0</td>\n",
       "      <td>0</td>\n",
       "      <td>0</td>\n",
       "      <td>0</td>\n",
       "      <td>0</td>\n",
       "      <td>0</td>\n",
       "      <td>0</td>\n",
       "      <td>0</td>\n",
       "    </tr>\n",
       "  </tbody>\n",
       "</table>\n",
       "<p>5 rows × 36 columns</p>\n",
       "</div>"
      ],
      "text/plain": [
       "   lastName       comm        org User_Status1  Adams  Allmon  Bach  Batman  \\\n",
       "0       Doe       Ohio  White Sox            D      0       0     0       0   \n",
       "1       Doe   Oklahoma  White Sox            D      0       0     0       0   \n",
       "2       Doe    Georgia    Orioles            D      0       0     0       0   \n",
       "3      Huey  Louisiana     Ravens            C      0       0     0       0   \n",
       "4  Billings    Georgia    Pirates            B      0       0     0       0   \n",
       "\n",
       "   Benson  Billings    ...     Moon  Moore  Neville  Pullman  Shoemaker  \\\n",
       "0       0         0    ...        0      0        0        0          0   \n",
       "1       0         0    ...        0      0        0        0          0   \n",
       "2       0         0    ...        0      0        0        0          0   \n",
       "3       0         0    ...        0      0        0        0          0   \n",
       "4       0         1    ...        0      0        0        0          0   \n",
       "\n",
       "   Smith  Sopwith  Stuyversant  Volkswagon  Williams  \n",
       "0      0        0            0           0         0  \n",
       "1      0        0            0           0         0  \n",
       "2      0        0            0           0         0  \n",
       "3      0        0            0           0         0  \n",
       "4      0        0            0           0         0  \n",
       "\n",
       "[5 rows x 36 columns]"
      ]
     },
     "execution_count": 90,
     "metadata": {},
     "output_type": "execute_result"
    }
   ],
   "source": [
    "# First categorical variable:  lastName\n",
    "lastName_dummies = pd.get_dummies(X['lastName'])\n",
    "\n",
    "# concatenate the dummy variable columns onto the original DataFrame (axis=0 means rows, axis=1 means columns)\n",
    "X = pd.concat([X, lastName_dummies], axis=1)\n",
    "X.head()"
   ]
  },
  {
   "cell_type": "code",
   "execution_count": 91,
   "metadata": {},
   "outputs": [
    {
     "data": {
      "text/html": [
       "<div>\n",
       "<style>\n",
       "    .dataframe thead tr:only-child th {\n",
       "        text-align: right;\n",
       "    }\n",
       "\n",
       "    .dataframe thead th {\n",
       "        text-align: left;\n",
       "    }\n",
       "\n",
       "    .dataframe tbody tr th {\n",
       "        vertical-align: top;\n",
       "    }\n",
       "</style>\n",
       "<table border=\"1\" class=\"dataframe\">\n",
       "  <thead>\n",
       "    <tr style=\"text-align: right;\">\n",
       "      <th></th>\n",
       "      <th>lastName</th>\n",
       "      <th>comm</th>\n",
       "      <th>org</th>\n",
       "      <th>User_Status1</th>\n",
       "      <th>Adams</th>\n",
       "      <th>Allmon</th>\n",
       "      <th>Bach</th>\n",
       "      <th>Batman</th>\n",
       "      <th>Benson</th>\n",
       "      <th>Billings</th>\n",
       "      <th>...</th>\n",
       "      <th>Williams</th>\n",
       "      <th>Arkansas</th>\n",
       "      <th>California</th>\n",
       "      <th>Georgia</th>\n",
       "      <th>Louisiana</th>\n",
       "      <th>New Hampshire</th>\n",
       "      <th>Ohio</th>\n",
       "      <th>Oklahoma</th>\n",
       "      <th>South Dakota</th>\n",
       "      <th>Unknown</th>\n",
       "    </tr>\n",
       "  </thead>\n",
       "  <tbody>\n",
       "    <tr>\n",
       "      <th>0</th>\n",
       "      <td>Doe</td>\n",
       "      <td>Ohio</td>\n",
       "      <td>White Sox</td>\n",
       "      <td>D</td>\n",
       "      <td>0</td>\n",
       "      <td>0</td>\n",
       "      <td>0</td>\n",
       "      <td>0</td>\n",
       "      <td>0</td>\n",
       "      <td>0</td>\n",
       "      <td>...</td>\n",
       "      <td>0</td>\n",
       "      <td>0</td>\n",
       "      <td>0</td>\n",
       "      <td>0</td>\n",
       "      <td>0</td>\n",
       "      <td>0</td>\n",
       "      <td>1</td>\n",
       "      <td>0</td>\n",
       "      <td>0</td>\n",
       "      <td>0</td>\n",
       "    </tr>\n",
       "    <tr>\n",
       "      <th>1</th>\n",
       "      <td>Doe</td>\n",
       "      <td>Oklahoma</td>\n",
       "      <td>White Sox</td>\n",
       "      <td>D</td>\n",
       "      <td>0</td>\n",
       "      <td>0</td>\n",
       "      <td>0</td>\n",
       "      <td>0</td>\n",
       "      <td>0</td>\n",
       "      <td>0</td>\n",
       "      <td>...</td>\n",
       "      <td>0</td>\n",
       "      <td>0</td>\n",
       "      <td>0</td>\n",
       "      <td>0</td>\n",
       "      <td>0</td>\n",
       "      <td>0</td>\n",
       "      <td>0</td>\n",
       "      <td>1</td>\n",
       "      <td>0</td>\n",
       "      <td>0</td>\n",
       "    </tr>\n",
       "    <tr>\n",
       "      <th>2</th>\n",
       "      <td>Doe</td>\n",
       "      <td>Georgia</td>\n",
       "      <td>Orioles</td>\n",
       "      <td>D</td>\n",
       "      <td>0</td>\n",
       "      <td>0</td>\n",
       "      <td>0</td>\n",
       "      <td>0</td>\n",
       "      <td>0</td>\n",
       "      <td>0</td>\n",
       "      <td>...</td>\n",
       "      <td>0</td>\n",
       "      <td>0</td>\n",
       "      <td>0</td>\n",
       "      <td>1</td>\n",
       "      <td>0</td>\n",
       "      <td>0</td>\n",
       "      <td>0</td>\n",
       "      <td>0</td>\n",
       "      <td>0</td>\n",
       "      <td>0</td>\n",
       "    </tr>\n",
       "    <tr>\n",
       "      <th>3</th>\n",
       "      <td>Huey</td>\n",
       "      <td>Louisiana</td>\n",
       "      <td>Ravens</td>\n",
       "      <td>C</td>\n",
       "      <td>0</td>\n",
       "      <td>0</td>\n",
       "      <td>0</td>\n",
       "      <td>0</td>\n",
       "      <td>0</td>\n",
       "      <td>0</td>\n",
       "      <td>...</td>\n",
       "      <td>0</td>\n",
       "      <td>0</td>\n",
       "      <td>0</td>\n",
       "      <td>0</td>\n",
       "      <td>1</td>\n",
       "      <td>0</td>\n",
       "      <td>0</td>\n",
       "      <td>0</td>\n",
       "      <td>0</td>\n",
       "      <td>0</td>\n",
       "    </tr>\n",
       "    <tr>\n",
       "      <th>4</th>\n",
       "      <td>Billings</td>\n",
       "      <td>Georgia</td>\n",
       "      <td>Pirates</td>\n",
       "      <td>B</td>\n",
       "      <td>0</td>\n",
       "      <td>0</td>\n",
       "      <td>0</td>\n",
       "      <td>0</td>\n",
       "      <td>0</td>\n",
       "      <td>1</td>\n",
       "      <td>...</td>\n",
       "      <td>0</td>\n",
       "      <td>0</td>\n",
       "      <td>0</td>\n",
       "      <td>1</td>\n",
       "      <td>0</td>\n",
       "      <td>0</td>\n",
       "      <td>0</td>\n",
       "      <td>0</td>\n",
       "      <td>0</td>\n",
       "      <td>0</td>\n",
       "    </tr>\n",
       "  </tbody>\n",
       "</table>\n",
       "<p>5 rows × 45 columns</p>\n",
       "</div>"
      ],
      "text/plain": [
       "   lastName       comm        org User_Status1  Adams  Allmon  Bach  Batman  \\\n",
       "0       Doe       Ohio  White Sox            D      0       0     0       0   \n",
       "1       Doe   Oklahoma  White Sox            D      0       0     0       0   \n",
       "2       Doe    Georgia    Orioles            D      0       0     0       0   \n",
       "3      Huey  Louisiana     Ravens            C      0       0     0       0   \n",
       "4  Billings    Georgia    Pirates            B      0       0     0       0   \n",
       "\n",
       "   Benson  Billings   ...     Williams  Arkansas  California  Georgia  \\\n",
       "0       0         0   ...            0         0           0        0   \n",
       "1       0         0   ...            0         0           0        0   \n",
       "2       0         0   ...            0         0           0        1   \n",
       "3       0         0   ...            0         0           0        0   \n",
       "4       0         1   ...            0         0           0        1   \n",
       "\n",
       "   Louisiana  New Hampshire  Ohio  Oklahoma  South Dakota  Unknown  \n",
       "0          0              0     1         0             0        0  \n",
       "1          0              0     0         1             0        0  \n",
       "2          0              0     0         0             0        0  \n",
       "3          1              0     0         0             0        0  \n",
       "4          0              0     0         0             0        0  \n",
       "\n",
       "[5 rows x 45 columns]"
      ]
     },
     "execution_count": 91,
     "metadata": {},
     "output_type": "execute_result"
    }
   ],
   "source": [
    "#Second categorical variable:  comm\n",
    "comm_dummies = pd.get_dummies(X['comm'])\n",
    "\n",
    "# concatenate the dummy variable columns onto the original DataFrame (axis=0 means rows, axis=1 means columns)\n",
    "X = pd.concat([X, comm_dummies], axis=1)\n",
    "X.head()"
   ]
  },
  {
   "cell_type": "code",
   "execution_count": 92,
   "metadata": {},
   "outputs": [
    {
     "data": {
      "text/html": [
       "<div>\n",
       "<style>\n",
       "    .dataframe thead tr:only-child th {\n",
       "        text-align: right;\n",
       "    }\n",
       "\n",
       "    .dataframe thead th {\n",
       "        text-align: left;\n",
       "    }\n",
       "\n",
       "    .dataframe tbody tr th {\n",
       "        vertical-align: top;\n",
       "    }\n",
       "</style>\n",
       "<table border=\"1\" class=\"dataframe\">\n",
       "  <thead>\n",
       "    <tr style=\"text-align: right;\">\n",
       "      <th></th>\n",
       "      <th>lastName</th>\n",
       "      <th>comm</th>\n",
       "      <th>org</th>\n",
       "      <th>User_Status1</th>\n",
       "      <th>Adams</th>\n",
       "      <th>Allmon</th>\n",
       "      <th>Bach</th>\n",
       "      <th>Batman</th>\n",
       "      <th>Benson</th>\n",
       "      <th>Billings</th>\n",
       "      <th>...</th>\n",
       "      <th>Ravens</th>\n",
       "      <th>Rays</th>\n",
       "      <th>Rockies</th>\n",
       "      <th>Saints</th>\n",
       "      <th>Spurs</th>\n",
       "      <th>Steelers</th>\n",
       "      <th>Titans</th>\n",
       "      <th>Twins</th>\n",
       "      <th>White Sox</th>\n",
       "      <th>Yankees</th>\n",
       "    </tr>\n",
       "  </thead>\n",
       "  <tbody>\n",
       "    <tr>\n",
       "      <th>0</th>\n",
       "      <td>Doe</td>\n",
       "      <td>Ohio</td>\n",
       "      <td>White Sox</td>\n",
       "      <td>D</td>\n",
       "      <td>0</td>\n",
       "      <td>0</td>\n",
       "      <td>0</td>\n",
       "      <td>0</td>\n",
       "      <td>0</td>\n",
       "      <td>0</td>\n",
       "      <td>...</td>\n",
       "      <td>0</td>\n",
       "      <td>0</td>\n",
       "      <td>0</td>\n",
       "      <td>0</td>\n",
       "      <td>0</td>\n",
       "      <td>0</td>\n",
       "      <td>0</td>\n",
       "      <td>0</td>\n",
       "      <td>1</td>\n",
       "      <td>0</td>\n",
       "    </tr>\n",
       "    <tr>\n",
       "      <th>1</th>\n",
       "      <td>Doe</td>\n",
       "      <td>Oklahoma</td>\n",
       "      <td>White Sox</td>\n",
       "      <td>D</td>\n",
       "      <td>0</td>\n",
       "      <td>0</td>\n",
       "      <td>0</td>\n",
       "      <td>0</td>\n",
       "      <td>0</td>\n",
       "      <td>0</td>\n",
       "      <td>...</td>\n",
       "      <td>0</td>\n",
       "      <td>0</td>\n",
       "      <td>0</td>\n",
       "      <td>0</td>\n",
       "      <td>0</td>\n",
       "      <td>0</td>\n",
       "      <td>0</td>\n",
       "      <td>0</td>\n",
       "      <td>1</td>\n",
       "      <td>0</td>\n",
       "    </tr>\n",
       "    <tr>\n",
       "      <th>2</th>\n",
       "      <td>Doe</td>\n",
       "      <td>Georgia</td>\n",
       "      <td>Orioles</td>\n",
       "      <td>D</td>\n",
       "      <td>0</td>\n",
       "      <td>0</td>\n",
       "      <td>0</td>\n",
       "      <td>0</td>\n",
       "      <td>0</td>\n",
       "      <td>0</td>\n",
       "      <td>...</td>\n",
       "      <td>0</td>\n",
       "      <td>0</td>\n",
       "      <td>0</td>\n",
       "      <td>0</td>\n",
       "      <td>0</td>\n",
       "      <td>0</td>\n",
       "      <td>0</td>\n",
       "      <td>0</td>\n",
       "      <td>0</td>\n",
       "      <td>0</td>\n",
       "    </tr>\n",
       "    <tr>\n",
       "      <th>3</th>\n",
       "      <td>Huey</td>\n",
       "      <td>Louisiana</td>\n",
       "      <td>Ravens</td>\n",
       "      <td>C</td>\n",
       "      <td>0</td>\n",
       "      <td>0</td>\n",
       "      <td>0</td>\n",
       "      <td>0</td>\n",
       "      <td>0</td>\n",
       "      <td>0</td>\n",
       "      <td>...</td>\n",
       "      <td>1</td>\n",
       "      <td>0</td>\n",
       "      <td>0</td>\n",
       "      <td>0</td>\n",
       "      <td>0</td>\n",
       "      <td>0</td>\n",
       "      <td>0</td>\n",
       "      <td>0</td>\n",
       "      <td>0</td>\n",
       "      <td>0</td>\n",
       "    </tr>\n",
       "    <tr>\n",
       "      <th>4</th>\n",
       "      <td>Billings</td>\n",
       "      <td>Georgia</td>\n",
       "      <td>Pirates</td>\n",
       "      <td>B</td>\n",
       "      <td>0</td>\n",
       "      <td>0</td>\n",
       "      <td>0</td>\n",
       "      <td>0</td>\n",
       "      <td>0</td>\n",
       "      <td>1</td>\n",
       "      <td>...</td>\n",
       "      <td>0</td>\n",
       "      <td>0</td>\n",
       "      <td>0</td>\n",
       "      <td>0</td>\n",
       "      <td>0</td>\n",
       "      <td>0</td>\n",
       "      <td>0</td>\n",
       "      <td>0</td>\n",
       "      <td>0</td>\n",
       "      <td>0</td>\n",
       "    </tr>\n",
       "  </tbody>\n",
       "</table>\n",
       "<p>5 rows × 76 columns</p>\n",
       "</div>"
      ],
      "text/plain": [
       "   lastName       comm        org User_Status1  Adams  Allmon  Bach  Batman  \\\n",
       "0       Doe       Ohio  White Sox            D      0       0     0       0   \n",
       "1       Doe   Oklahoma  White Sox            D      0       0     0       0   \n",
       "2       Doe    Georgia    Orioles            D      0       0     0       0   \n",
       "3      Huey  Louisiana     Ravens            C      0       0     0       0   \n",
       "4  Billings    Georgia    Pirates            B      0       0     0       0   \n",
       "\n",
       "   Benson  Billings   ...     Ravens  Rays  Rockies  Saints  Spurs  Steelers  \\\n",
       "0       0         0   ...          0     0        0       0      0         0   \n",
       "1       0         0   ...          0     0        0       0      0         0   \n",
       "2       0         0   ...          0     0        0       0      0         0   \n",
       "3       0         0   ...          1     0        0       0      0         0   \n",
       "4       0         1   ...          0     0        0       0      0         0   \n",
       "\n",
       "   Titans  Twins  White Sox  Yankees  \n",
       "0       0      0          1        0  \n",
       "1       0      0          1        0  \n",
       "2       0      0          0        0  \n",
       "3       0      0          0        0  \n",
       "4       0      0          0        0  \n",
       "\n",
       "[5 rows x 76 columns]"
      ]
     },
     "execution_count": 92,
     "metadata": {},
     "output_type": "execute_result"
    }
   ],
   "source": [
    "#Third categorical variable:  org\n",
    "org_dummies = pd.get_dummies(X['org'])\n",
    "\n",
    "# concatenate the dummy variable columns onto the original DataFrame (axis=0 means rows, axis=1 means columns)\n",
    "X = pd.concat([X, org_dummies], axis=1)\n",
    "X.head()"
   ]
  },
  {
   "cell_type": "code",
   "execution_count": 93,
   "metadata": {},
   "outputs": [
    {
     "data": {
      "text/html": [
       "<div>\n",
       "<style>\n",
       "    .dataframe thead tr:only-child th {\n",
       "        text-align: right;\n",
       "    }\n",
       "\n",
       "    .dataframe thead th {\n",
       "        text-align: left;\n",
       "    }\n",
       "\n",
       "    .dataframe tbody tr th {\n",
       "        vertical-align: top;\n",
       "    }\n",
       "</style>\n",
       "<table border=\"1\" class=\"dataframe\">\n",
       "  <thead>\n",
       "    <tr style=\"text-align: right;\">\n",
       "      <th></th>\n",
       "      <th>lastName</th>\n",
       "      <th>comm</th>\n",
       "      <th>org</th>\n",
       "      <th>User_Status1</th>\n",
       "      <th>Adams</th>\n",
       "      <th>Allmon</th>\n",
       "      <th>Bach</th>\n",
       "      <th>Batman</th>\n",
       "      <th>Benson</th>\n",
       "      <th>Billings</th>\n",
       "      <th>...</th>\n",
       "      <th>Spurs</th>\n",
       "      <th>Steelers</th>\n",
       "      <th>Titans</th>\n",
       "      <th>Twins</th>\n",
       "      <th>White Sox</th>\n",
       "      <th>Yankees</th>\n",
       "      <th>A</th>\n",
       "      <th>B</th>\n",
       "      <th>C</th>\n",
       "      <th>D</th>\n",
       "    </tr>\n",
       "  </thead>\n",
       "  <tbody>\n",
       "    <tr>\n",
       "      <th>0</th>\n",
       "      <td>Doe</td>\n",
       "      <td>Ohio</td>\n",
       "      <td>White Sox</td>\n",
       "      <td>D</td>\n",
       "      <td>0</td>\n",
       "      <td>0</td>\n",
       "      <td>0</td>\n",
       "      <td>0</td>\n",
       "      <td>0</td>\n",
       "      <td>0</td>\n",
       "      <td>...</td>\n",
       "      <td>0</td>\n",
       "      <td>0</td>\n",
       "      <td>0</td>\n",
       "      <td>0</td>\n",
       "      <td>1</td>\n",
       "      <td>0</td>\n",
       "      <td>0</td>\n",
       "      <td>0</td>\n",
       "      <td>0</td>\n",
       "      <td>1</td>\n",
       "    </tr>\n",
       "    <tr>\n",
       "      <th>1</th>\n",
       "      <td>Doe</td>\n",
       "      <td>Oklahoma</td>\n",
       "      <td>White Sox</td>\n",
       "      <td>D</td>\n",
       "      <td>0</td>\n",
       "      <td>0</td>\n",
       "      <td>0</td>\n",
       "      <td>0</td>\n",
       "      <td>0</td>\n",
       "      <td>0</td>\n",
       "      <td>...</td>\n",
       "      <td>0</td>\n",
       "      <td>0</td>\n",
       "      <td>0</td>\n",
       "      <td>0</td>\n",
       "      <td>1</td>\n",
       "      <td>0</td>\n",
       "      <td>0</td>\n",
       "      <td>0</td>\n",
       "      <td>0</td>\n",
       "      <td>1</td>\n",
       "    </tr>\n",
       "    <tr>\n",
       "      <th>2</th>\n",
       "      <td>Doe</td>\n",
       "      <td>Georgia</td>\n",
       "      <td>Orioles</td>\n",
       "      <td>D</td>\n",
       "      <td>0</td>\n",
       "      <td>0</td>\n",
       "      <td>0</td>\n",
       "      <td>0</td>\n",
       "      <td>0</td>\n",
       "      <td>0</td>\n",
       "      <td>...</td>\n",
       "      <td>0</td>\n",
       "      <td>0</td>\n",
       "      <td>0</td>\n",
       "      <td>0</td>\n",
       "      <td>0</td>\n",
       "      <td>0</td>\n",
       "      <td>0</td>\n",
       "      <td>0</td>\n",
       "      <td>0</td>\n",
       "      <td>1</td>\n",
       "    </tr>\n",
       "    <tr>\n",
       "      <th>3</th>\n",
       "      <td>Huey</td>\n",
       "      <td>Louisiana</td>\n",
       "      <td>Ravens</td>\n",
       "      <td>C</td>\n",
       "      <td>0</td>\n",
       "      <td>0</td>\n",
       "      <td>0</td>\n",
       "      <td>0</td>\n",
       "      <td>0</td>\n",
       "      <td>0</td>\n",
       "      <td>...</td>\n",
       "      <td>0</td>\n",
       "      <td>0</td>\n",
       "      <td>0</td>\n",
       "      <td>0</td>\n",
       "      <td>0</td>\n",
       "      <td>0</td>\n",
       "      <td>0</td>\n",
       "      <td>0</td>\n",
       "      <td>1</td>\n",
       "      <td>0</td>\n",
       "    </tr>\n",
       "    <tr>\n",
       "      <th>4</th>\n",
       "      <td>Billings</td>\n",
       "      <td>Georgia</td>\n",
       "      <td>Pirates</td>\n",
       "      <td>B</td>\n",
       "      <td>0</td>\n",
       "      <td>0</td>\n",
       "      <td>0</td>\n",
       "      <td>0</td>\n",
       "      <td>0</td>\n",
       "      <td>1</td>\n",
       "      <td>...</td>\n",
       "      <td>0</td>\n",
       "      <td>0</td>\n",
       "      <td>0</td>\n",
       "      <td>0</td>\n",
       "      <td>0</td>\n",
       "      <td>0</td>\n",
       "      <td>0</td>\n",
       "      <td>1</td>\n",
       "      <td>0</td>\n",
       "      <td>0</td>\n",
       "    </tr>\n",
       "  </tbody>\n",
       "</table>\n",
       "<p>5 rows × 80 columns</p>\n",
       "</div>"
      ],
      "text/plain": [
       "   lastName       comm        org User_Status1  Adams  Allmon  Bach  Batman  \\\n",
       "0       Doe       Ohio  White Sox            D      0       0     0       0   \n",
       "1       Doe   Oklahoma  White Sox            D      0       0     0       0   \n",
       "2       Doe    Georgia    Orioles            D      0       0     0       0   \n",
       "3      Huey  Louisiana     Ravens            C      0       0     0       0   \n",
       "4  Billings    Georgia    Pirates            B      0       0     0       0   \n",
       "\n",
       "   Benson  Billings ...  Spurs  Steelers  Titans  Twins  White Sox  Yankees  \\\n",
       "0       0         0 ...      0         0       0      0          1        0   \n",
       "1       0         0 ...      0         0       0      0          1        0   \n",
       "2       0         0 ...      0         0       0      0          0        0   \n",
       "3       0         0 ...      0         0       0      0          0        0   \n",
       "4       0         1 ...      0         0       0      0          0        0   \n",
       "\n",
       "   A  B  C  D  \n",
       "0  0  0  0  1  \n",
       "1  0  0  0  1  \n",
       "2  0  0  0  1  \n",
       "3  0  0  1  0  \n",
       "4  0  1  0  0  \n",
       "\n",
       "[5 rows x 80 columns]"
      ]
     },
     "execution_count": 93,
     "metadata": {},
     "output_type": "execute_result"
    }
   ],
   "source": [
    "#Fourth categorical variable:  User_Status1\n",
    "User_Status1_dummies = pd.get_dummies(X['User_Status1'])\n",
    "\n",
    "# concatenate the dummy variable columns onto the original DataFrame (axis=0 means rows, axis=1 means columns)\n",
    "X = pd.concat([X, User_Status1_dummies], axis=1)\n",
    "X.head()"
   ]
  },
  {
   "cell_type": "code",
   "execution_count": 94,
   "metadata": {},
   "outputs": [
    {
     "data": {
      "text/plain": [
       "lastName        object\n",
       "comm            object\n",
       "org             object\n",
       "User_Status1    object\n",
       "Adams            uint8\n",
       "Allmon           uint8\n",
       "Bach             uint8\n",
       "Batman           uint8\n",
       "Benson           uint8\n",
       "Billings         uint8\n",
       "Brahms           uint8\n",
       "Collins          uint8\n",
       "Doe              uint8\n",
       "Giddings         uint8\n",
       "Hall             uint8\n",
       "Hawthorne        uint8\n",
       "Hemingway        uint8\n",
       "Hempsey          uint8\n",
       "Huey             uint8\n",
       "Isle             uint8\n",
       "Kim              uint8\n",
       "Longbottom       uint8\n",
       "Longfellow       uint8\n",
       "Louisiana        uint8\n",
       "Louisville       uint8\n",
       "Madeye           uint8\n",
       "Moon             uint8\n",
       "Moore            uint8\n",
       "Neville          uint8\n",
       "Pullman          uint8\n",
       "                 ...  \n",
       "Buccaneers       uint8\n",
       "Cardinals        uint8\n",
       "Chargers         uint8\n",
       "Chiefs           uint8\n",
       "Cowboys          uint8\n",
       "Cubs             uint8\n",
       "Dodgers          uint8\n",
       "Falcons          uint8\n",
       "Indians          uint8\n",
       "Lions            uint8\n",
       "Mariners         uint8\n",
       "Orioles          uint8\n",
       "Packers          uint8\n",
       "Padres           uint8\n",
       "Patriots1        uint8\n",
       "Pirates          uint8\n",
       "Ravens           uint8\n",
       "Rays             uint8\n",
       "Rockies          uint8\n",
       "Saints           uint8\n",
       "Spurs            uint8\n",
       "Steelers         uint8\n",
       "Titans           uint8\n",
       "Twins            uint8\n",
       "White Sox        uint8\n",
       "Yankees          uint8\n",
       "A                uint8\n",
       "B                uint8\n",
       "C                uint8\n",
       "D                uint8\n",
       "Length: 80, dtype: object"
      ]
     },
     "execution_count": 94,
     "metadata": {},
     "output_type": "execute_result"
    }
   ],
   "source": [
    "X.dtypes"
   ]
  },
  {
   "cell_type": "markdown",
   "metadata": {},
   "source": [
    "#### Rename X to be just the dummy variables in X so that the algorithms below can work as coded"
   ]
  },
  {
   "cell_type": "code",
   "execution_count": 95,
   "metadata": {
    "collapsed": true
   },
   "outputs": [],
   "source": [
    "X=X._get_numeric_data()"
   ]
  },
  {
   "cell_type": "code",
   "execution_count": 96,
   "metadata": {},
   "outputs": [
    {
     "data": {
      "text/plain": [
       "Index([u'ntspduration'], dtype='object')"
      ]
     },
     "execution_count": 96,
     "metadata": {},
     "output_type": "execute_result"
    }
   ],
   "source": [
    "y.columns"
   ]
  },
  {
   "cell_type": "code",
   "execution_count": 97,
   "metadata": {},
   "outputs": [
    {
     "data": {
      "text/plain": [
       "ntspduration    float64\n",
       "dtype: object"
      ]
     },
     "execution_count": 97,
     "metadata": {},
     "output_type": "execute_result"
    }
   ],
   "source": [
    "y.dtypes"
   ]
  },
  {
   "cell_type": "code",
   "execution_count": 98,
   "metadata": {},
   "outputs": [
    {
     "name": "stdout",
     "output_type": "stream",
     "text": [
      "<class 'pandas.core.frame.DataFrame'>\n",
      "<type 'numpy.ndarray'>\n",
      "<class 'pandas.core.frame.DataFrame'>\n",
      "<type 'numpy.ndarray'>\n",
      "(157, 76)\n",
      "(157, 1)\n"
     ]
    }
   ],
   "source": [
    "print(type(X))\n",
    "print(type(X.values))\n",
    "print(type(y))\n",
    "print(type(y.values))\n",
    "print(X.shape)\n",
    "print(y.shape)"
   ]
  },
  {
   "cell_type": "code",
   "execution_count": 99,
   "metadata": {},
   "outputs": [
    {
     "data": {
      "text/plain": [
       "LinearRegression(copy_X=True, fit_intercept=False, n_jobs=1, normalize=True)"
      ]
     },
     "execution_count": 99,
     "metadata": {},
     "output_type": "execute_result"
    }
   ],
   "source": [
    "lr.fit(X, y)"
   ]
  },
  {
   "cell_type": "code",
   "execution_count": 100,
   "metadata": {},
   "outputs": [
    {
     "name": "stdout",
     "output_type": "stream",
     "text": [
      "y_pred: [  -54.25   254.25   779.75   578.5    720.5    905.     254.25   254.25\n",
      "   843.5    446.     561.     873.     534.5    649.     925.5    603.5\n",
      "   586.     586.     649.     649.     554.5    590.25  1086.5    534.5\n",
      "   898.     920.     666.     889.     649.     925.     649.     673.\n",
      "  1050.5    649.     935.     649.     649.     242.     649.     649.\n",
      "  1026.5   1026.5   1043.    1225.     952.    1389.5    733.     898.\n",
      "    17.25   733.     757.5    267.5   1206.     737.5    950.5    278.\n",
      "   810.5    570.25   744.    1030.     773.25   588.     561.    1418.\n",
      "   733.     629.5    949.     564.     595.25   605.     686.     686.\n",
      "   693.     693.     342.    1225.     957.5    576.     576.     655.5\n",
      "   881.     885.5    964.     576.     907.     907.     901.5    901.5\n",
      "   908.5    908.5   1428.     737.     881.     168.     578.5    561.\n",
      "   461.     873.     949.     949.     873.     649.     235.5    932.5\n",
      "   554.5    873.     235.5    534.5    949.     840.5   1389.5    666.\n",
      "   673.     876.5    926.5    926.5    737.5    737.5    737.5    873.\n",
      "   588.     873.     666.     666.     649.     737.5    649.     673.\n",
      "   534.5    590.25   755.75   755.75   698.     387.75   668.25   755.5\n",
      "  1195.    1060.25   441.25  1060.25  1060.25   441.25  1312.75   693.75\n",
      "  1060.25   441.25  1195.    1195.    1141.     640.25   387.75   640.25\n",
      "   918.5    299.5    568.25   999.     258.  ]\n"
     ]
    }
   ],
   "source": [
    "y_pred = lr.predict(X)\n",
    "\n",
    "#print 'y_pred:', y_pred\n",
    "#y_pred.shape\n",
    "#type(y_pred)\n",
    "y_pred=y_pred.reshape(-1)\n",
    "y_pred.shape\n",
    "print 'y_pred:', y_pred"
   ]
  },
  {
   "cell_type": "code",
   "execution_count": 101,
   "metadata": {},
   "outputs": [
    {
     "data": {
      "text/plain": [
       "(157, 2)"
      ]
     },
     "execution_count": 101,
     "metadata": {},
     "output_type": "execute_result"
    }
   ],
   "source": [
    "d={'y_pred':y_pred, 'y':y['ntspduration']}\n",
    "df = pd.DataFrame(d)\n",
    "\n",
    "df.shape"
   ]
  },
  {
   "cell_type": "code",
   "execution_count": 102,
   "metadata": {},
   "outputs": [
    {
     "name": "stdout",
     "output_type": "stream",
     "text": [
      "96471.8280255\n"
     ]
    }
   ],
   "source": [
    "print(metrics.mean_squared_error(y['ntspduration'], y_pred))"
   ]
  },
  {
   "cell_type": "code",
   "execution_count": 103,
   "metadata": {},
   "outputs": [
    {
     "data": {
      "image/png": "[encoded data removed]",
      "text/plain": [
       "<matplotlib.figure.Figure at 0xdca1940>"
      ]
     },
     "metadata": {},
     "output_type": "display_data"
    }
   ],
   "source": [
    "sns.lmplot(x='y', y='y_pred', data=df, aspect=1.5, scatter_kws={'alpha':0.2});"
   ]
  },
  {
   "cell_type": "markdown",
   "metadata": {},
   "source": [
    "### Try test-train-split algorithm"
   ]
  },
  {
   "cell_type": "code",
   "execution_count": 104,
   "metadata": {},
   "outputs": [
    {
     "data": {
      "text/plain": [
       "[(array([ 460.9375]), array([ 1338.])),\n",
       " (array([ 585.28125]), array([ 417.])),\n",
       " (array([ 437.75]), array([ 349.])),\n",
       " (array([ 1103.0625]), array([ 1058.])),\n",
       " (array([  3.35576959e+14]), array([ 666.])),\n",
       " (array([ 1103.0625]), array([ 754.])),\n",
       " (array([ 1058.]), array([ 754.])),\n",
       " (array([ 1216.1875]), array([ 1302.])),\n",
       " (array([ 761.65625]), array([ 604.])),\n",
       " (array([ 933.90625]), array([ 1111.])),\n",
       " (array([ 1108.375]), array([ 1289.])),\n",
       " (array([ 761.65625]), array([ 949.])),\n",
       " (array([ 809.03125]), array([ 25.])),\n",
       " (array([ 1393.125]), array([ 1387.])),\n",
       " (array([ 1273.125]), array([ 637.])),\n",
       " (array([  8.25448959e+14]), array([ 631.])),\n",
       " (array([ -3.58992575e+14]), array([ 1045.])),\n",
       " (array([ 391.5]), array([ 172.])),\n",
       " (array([ 1401.625]), array([ 316.])),\n",
       " (array([ 1180.625]), array([ 1078.])),\n",
       " (array([ 613.78125]), array([ 524.])),\n",
       " (array([ 854.09375]), array([ 24.])),\n",
       " (array([ 544.59375]), array([ 1438.])),\n",
       " (array([ 613.78125]), array([ 1060.])),\n",
       " (array([ 613.78125]), array([ 875.])),\n",
       " (array([ 544.34375]), array([ 841.])),\n",
       " (array([ 1343.90625]), array([ 49.])),\n",
       " (array([ 1062.125]), array([ 994.])),\n",
       " (array([ 854.09375]), array([ 737.])),\n",
       " (array([ 16.75]), array([ 590.])),\n",
       " (array([ 613.78125]), array([ 579.])),\n",
       " (array([ 675.65625]), array([ 644.]))]"
      ]
     },
     "execution_count": 104,
     "metadata": {},
     "output_type": "execute_result"
    }
   ],
   "source": [
    "from sklearn.model_selection import train_test_split\n",
    "from sklearn import metrics\n",
    "\n",
    "\n",
    "# fit_intercept to be false because we know every project takes some time at least\n",
    "#def train_test_rmse(df, feature_cols):\n",
    "#    X=df[feature_cols]\n",
    " \n",
    "X_train, X_test, y_train, y_test = train_test_split(X, y, test_size=.2, random_state=123)\n",
    "    \n",
    "linreg = LinearRegression(fit_intercept=False, normalize=True)\n",
    "linreg.fit(X_train, y_train)\n",
    "    \n",
    "y_pred = linreg.predict(X_test)\n",
    "#    return np.sqrt(metrics.mean_squared_error(y_test, y_pred)), y_test, y_pred\n",
    "\n",
    "zip(y_pred, y_test.values)"
   ]
  },
  {
   "cell_type": "code",
   "execution_count": 105,
   "metadata": {},
   "outputs": [
    {
     "data": {
      "text/plain": [
       "169821003893980.75"
      ]
     },
     "execution_count": 105,
     "metadata": {},
     "output_type": "execute_result"
    }
   ],
   "source": [
    "np.sqrt(metrics.mean_squared_error(y_test.values, y_pred))"
   ]
  },
  {
   "cell_type": "code",
   "execution_count": 107,
   "metadata": {},
   "outputs": [],
   "source": [
    "#d={'y_pred':y_pred, 'y':y_test['ntspduration']}\n",
    "#df = pd.DataFrame(d)\n",
    "#df.shape"
   ]
  },
  {
   "cell_type": "code",
   "execution_count": 109,
   "metadata": {},
   "outputs": [],
   "source": [
    "#temp_df.plot(kind='scatter', x='y_test', y='y_pred')\n",
    "#This is not the correct graph yet.\n",
    "#sns.lmplot(x='y', y='y_pred', data=df, aspect=1.5, scatter_kws={'alpha':0.2});"
   ]
  },
  {
   "cell_type": "markdown",
   "metadata": {},
   "source": [
    "### Try k-fold cross-validation at k=5"
   ]
  },
  {
   "cell_type": "code",
   "execution_count": 110,
   "metadata": {},
   "outputs": [
    {
     "name": "stdout",
     "output_type": "stream",
     "text": [
      "~~~~ CROSS VALIDATION each fold ~~~~\n",
      "Model 1\n",
      "MSE: 8.98112124839e+29\n",
      "R2: -1.08564282977e+24\n",
      "Model 2\n",
      "MSE: 6.75923710597e+28\n",
      "R2: -8.17060264068e+22\n",
      "Model 3\n",
      "MSE: 6.83884583706e+29\n",
      "R2: -8.00849554268e+23\n",
      "Model 4\n",
      "MSE: 7.02067535273e+28\n",
      "R2: -8.22142341097e+22\n",
      "Model 5\n",
      "MSE: 4.2308830224e+29\n",
      "R2: -4.95449212247e+23\n",
      "~~~~ SUMMARY OF CROSS VALIDATION ~~~~\n",
      "Mean of MSE for all folds: 4.28576827075e+29\n",
      "Mean of R2 for all folds: -5.09172371361e+23\n"
     ]
    }
   ],
   "source": [
    "from sklearn import model_selection\n",
    "kf = model_selection.KFold(n_splits=5, shuffle=True)\n",
    "\n",
    "mse_values = []\n",
    "scores = []\n",
    "n= 0\n",
    "print \"~~~~ CROSS VALIDATION each fold ~~~~\"\n",
    "for train_index, test_index in kf.split(X, y):\n",
    "    \n",
    "    lr = LinearRegression().fit(X.iloc[train_index], y.iloc[train_index])\n",
    "    mse_values.append(metrics.mean_squared_error(y.iloc[test_index], lr.predict(X.iloc[test_index])))\n",
    "    scores.append(lr.score(X, y))\n",
    "    n+=1\n",
    "    print 'Model', n\n",
    "    print 'MSE:', mse_values[n-1]\n",
    "    print 'R2:', scores[n-1]\n",
    "    \n",
    "print \"~~~~ SUMMARY OF CROSS VALIDATION ~~~~\"\n",
    "print 'Mean of MSE for all folds:', np.mean(mse_values)\n",
    "print 'Mean of R2 for all folds:', np.mean(scores)"
   ]
  },
  {
   "cell_type": "markdown",
   "metadata": {},
   "source": [
    "### Try decision tree regressor"
   ]
  },
  {
   "cell_type": "code",
   "execution_count": 111,
   "metadata": {},
   "outputs": [
    {
     "name": "stdout",
     "output_type": "stream",
     "text": [
      "training error of this decision tree is:  370.206888859\n",
      "test error of this decision tree is:  354.715116802\n"
     ]
    }
   ],
   "source": [
    "# may need to add a max_depth argument at treereg = DecisionTreeRegressor(max_depth=X, random_state=1)\n",
    "from sklearn.tree import DecisionTreeRegressor\n",
    "from sklearn.model_selection import train_test_split\n",
    "\n",
    "X_train, X_test, y_train, y_test = train_test_split(X, y, random_state=46, test_size=0.2)\n",
    "\n",
    "treereg = DecisionTreeRegressor(max_depth=4, random_state=1)\n",
    "treereg.fit(X_train,y_train)\n",
    "\n",
    "print \"training error of this decision tree is: \", np.sqrt(metrics.mean_squared_error(y_train, treereg.predict(X_train))) \n",
    "print \"test error of this decision tree is: \", np.sqrt(metrics.mean_squared_error(y_test, treereg.predict(X_test))) "
   ]
  },
  {
   "cell_type": "code",
   "execution_count": 112,
   "metadata": {},
   "outputs": [
    {
     "data": {
      "text/plain": [
       "0.14753477518795632"
      ]
     },
     "execution_count": 112,
     "metadata": {},
     "output_type": "execute_result"
    }
   ],
   "source": [
    "treereg.score(X_test, y_test)"
   ]
  },
  {
   "cell_type": "code",
   "execution_count": 113,
   "metadata": {
    "collapsed": true
   },
   "outputs": [],
   "source": [
    "#pd.DataFrame({'feature':X, 'importance':treereg.feature_importances_})"
   ]
  },
  {
   "cell_type": "code",
   "execution_count": 114,
   "metadata": {},
   "outputs": [
    {
     "data": {
      "text/plain": [
       "Index([u'ntspduration'], dtype='object')"
      ]
     },
     "execution_count": 114,
     "metadata": {},
     "output_type": "execute_result"
    }
   ],
   "source": [
    "y_test.columns"
   ]
  },
  {
   "cell_type": "code",
   "execution_count": 115,
   "metadata": {},
   "outputs": [
    {
     "data": {
      "text/plain": [
       "(32, 2)"
      ]
     },
     "execution_count": 115,
     "metadata": {},
     "output_type": "execute_result"
    }
   ],
   "source": [
    "d={'y_pred':treereg.predict(X_test), 'y':y_test['ntspduration']}\n",
    "df = pd.DataFrame(d)\n",
    "df.shape"
   ]
  },
  {
   "cell_type": "code",
   "execution_count": 116,
   "metadata": {},
   "outputs": [
    {
     "data": {
      "image/png": "[encoded data removed]",
      "text/plain": [
       "<matplotlib.figure.Figure at 0xde704e0>"
      ]
     },
     "metadata": {},
     "output_type": "display_data"
    }
   ],
   "source": [
    "sns.lmplot(x='y', y='y_pred', data=df, aspect=1.5, scatter_kws={'alpha':0.2});"
   ]
  },
  {
   "cell_type": "code",
   "execution_count": null,
   "metadata": {
    "collapsed": true
   },
   "outputs": [],
   "source": [
    "#Try a tree diagram\n",
    "from sklearn.tree import export_graphviz\n",
    "#export_graphviz(treereg, out_file='./treegraphviz.dot', feature_names=X)"
   ]
  },
  {
   "cell_type": "markdown",
   "metadata": {
    "collapsed": true
   },
   "source": [
    "#### Try knn regressor"
   ]
  },
  {
   "cell_type": "code",
   "execution_count": 117,
   "metadata": {
    "collapsed": true
   },
   "outputs": [],
   "source": [
    "from sklearn.neighbors import KNeighborsRegressor"
   ]
  },
  {
   "cell_type": "markdown",
   "metadata": {},
   "source": [
    "#### Step 1: Split X and y into training and testing sets (using random_state for reproducibility)."
   ]
  },
  {
   "cell_type": "code",
   "execution_count": 118,
   "metadata": {},
   "outputs": [],
   "source": [
    "X_train, X_test, y_train, y_test = train_test_split(X, y, test_size=0.2, random_state=99)"
   ]
  },
  {
   "cell_type": "markdown",
   "metadata": {},
   "source": [
    "#### Step 2: Train the model on the training set (using K=1)."
   ]
  },
  {
   "cell_type": "code",
   "execution_count": 119,
   "metadata": {},
   "outputs": [
    {
     "data": {
      "text/plain": [
       "KNeighborsRegressor(algorithm='auto', leaf_size=30, metric='minkowski',\n",
       "          metric_params=None, n_jobs=1, n_neighbors=1, p=2,\n",
       "          weights='uniform')"
      ]
     },
     "execution_count": 119,
     "metadata": {},
     "output_type": "execute_result"
    }
   ],
   "source": [
    "knn = KNeighborsRegressor(n_neighbors=1)\n",
    "# call instance of algorithm\n",
    "\n",
    "knn.fit(X_train, y_train)\n",
    "# fit training data"
   ]
  },
  {
   "cell_type": "markdown",
   "metadata": {},
   "source": [
    "#### Step 3: Test the model on the testing set and check the accuracy"
   ]
  },
  {
   "cell_type": "code",
   "execution_count": 123,
   "metadata": {},
   "outputs": [
    {
     "name": "stdout",
     "output_type": "stream",
     "text": [
      "Testing accuracy:  0.125\n",
      "Testing error:  0.875\n"
     ]
    }
   ],
   "source": [
    "y_pred_class = knn.predict(X_test)\n",
    "# predict\n",
    "testing_accuracy=(metrics.accuracy_score(y_test, y_pred_class))\n",
    "print \"Testing accuracy: \",(metrics.accuracy_score(y_test, y_pred_class))\n",
    "testing_error = 1 - testing_accuracy\n",
    "print \"Testing error: \", testing_error"
   ]
  },
  {
   "cell_type": "code",
   "execution_count": 126,
   "metadata": {},
   "outputs": [
    {
     "name": "stdout",
     "output_type": "stream",
     "text": [
      " Training accuracy:  0.522292993631\n",
      "Training error:  0.477707006369\n"
     ]
    }
   ],
   "source": [
    "y_pred_class = knn.predict(X)\n",
    "training_accuracy = metrics.accuracy_score(y, y_pred_class)\n",
    "training_error = 1 - training_accuracy\n",
    "print \"Training accuracy: \",(metrics.accuracy_score(y, y_pred_class))\n",
    "print \"Training error: \", training_error"
   ]
  },
  {
   "cell_type": "code",
   "execution_count": 134,
   "metadata": {},
   "outputs": [
    {
     "data": {
      "text/html": [
       "<div>\n",
       "<style>\n",
       "    .dataframe thead tr:only-child th {\n",
       "        text-align: right;\n",
       "    }\n",
       "\n",
       "    .dataframe thead th {\n",
       "        text-align: left;\n",
       "    }\n",
       "\n",
       "    .dataframe tbody tr th {\n",
       "        vertical-align: top;\n",
       "    }\n",
       "</style>\n",
       "<table border=\"1\" class=\"dataframe\">\n",
       "  <thead>\n",
       "    <tr style=\"text-align: right;\">\n",
       "      <th></th>\n",
       "      <th>Adams</th>\n",
       "      <th>Allmon</th>\n",
       "      <th>Bach</th>\n",
       "      <th>Batman</th>\n",
       "      <th>Benson</th>\n",
       "      <th>Billings</th>\n",
       "      <th>Brahms</th>\n",
       "      <th>Collins</th>\n",
       "      <th>Doe</th>\n",
       "      <th>Giddings</th>\n",
       "      <th>...</th>\n",
       "      <th>Spurs</th>\n",
       "      <th>Steelers</th>\n",
       "      <th>Titans</th>\n",
       "      <th>Twins</th>\n",
       "      <th>White Sox</th>\n",
       "      <th>Yankees</th>\n",
       "      <th>A</th>\n",
       "      <th>B</th>\n",
       "      <th>C</th>\n",
       "      <th>D</th>\n",
       "    </tr>\n",
       "  </thead>\n",
       "  <tbody>\n",
       "    <tr>\n",
       "      <th>57</th>\n",
       "      <td>0</td>\n",
       "      <td>0</td>\n",
       "      <td>0</td>\n",
       "      <td>0</td>\n",
       "      <td>0</td>\n",
       "      <td>0</td>\n",
       "      <td>0</td>\n",
       "      <td>0</td>\n",
       "      <td>1</td>\n",
       "      <td>0</td>\n",
       "      <td>...</td>\n",
       "      <td>0</td>\n",
       "      <td>0</td>\n",
       "      <td>0</td>\n",
       "      <td>0</td>\n",
       "      <td>0</td>\n",
       "      <td>0</td>\n",
       "      <td>0</td>\n",
       "      <td>0</td>\n",
       "      <td>0</td>\n",
       "      <td>1</td>\n",
       "    </tr>\n",
       "    <tr>\n",
       "      <th>74</th>\n",
       "      <td>0</td>\n",
       "      <td>0</td>\n",
       "      <td>0</td>\n",
       "      <td>0</td>\n",
       "      <td>0</td>\n",
       "      <td>0</td>\n",
       "      <td>0</td>\n",
       "      <td>0</td>\n",
       "      <td>0</td>\n",
       "      <td>1</td>\n",
       "      <td>...</td>\n",
       "      <td>0</td>\n",
       "      <td>0</td>\n",
       "      <td>0</td>\n",
       "      <td>0</td>\n",
       "      <td>0</td>\n",
       "      <td>0</td>\n",
       "      <td>0</td>\n",
       "      <td>1</td>\n",
       "      <td>0</td>\n",
       "      <td>0</td>\n",
       "    </tr>\n",
       "    <tr>\n",
       "      <th>148</th>\n",
       "      <td>0</td>\n",
       "      <td>0</td>\n",
       "      <td>0</td>\n",
       "      <td>0</td>\n",
       "      <td>0</td>\n",
       "      <td>0</td>\n",
       "      <td>0</td>\n",
       "      <td>0</td>\n",
       "      <td>0</td>\n",
       "      <td>0</td>\n",
       "      <td>...</td>\n",
       "      <td>0</td>\n",
       "      <td>0</td>\n",
       "      <td>0</td>\n",
       "      <td>0</td>\n",
       "      <td>0</td>\n",
       "      <td>0</td>\n",
       "      <td>0</td>\n",
       "      <td>0</td>\n",
       "      <td>1</td>\n",
       "      <td>0</td>\n",
       "    </tr>\n",
       "    <tr>\n",
       "      <th>118</th>\n",
       "      <td>0</td>\n",
       "      <td>0</td>\n",
       "      <td>0</td>\n",
       "      <td>0</td>\n",
       "      <td>0</td>\n",
       "      <td>0</td>\n",
       "      <td>0</td>\n",
       "      <td>0</td>\n",
       "      <td>0</td>\n",
       "      <td>0</td>\n",
       "      <td>...</td>\n",
       "      <td>0</td>\n",
       "      <td>0</td>\n",
       "      <td>0</td>\n",
       "      <td>0</td>\n",
       "      <td>0</td>\n",
       "      <td>0</td>\n",
       "      <td>0</td>\n",
       "      <td>1</td>\n",
       "      <td>0</td>\n",
       "      <td>0</td>\n",
       "    </tr>\n",
       "    <tr>\n",
       "      <th>147</th>\n",
       "      <td>0</td>\n",
       "      <td>0</td>\n",
       "      <td>0</td>\n",
       "      <td>0</td>\n",
       "      <td>0</td>\n",
       "      <td>0</td>\n",
       "      <td>0</td>\n",
       "      <td>0</td>\n",
       "      <td>0</td>\n",
       "      <td>0</td>\n",
       "      <td>...</td>\n",
       "      <td>0</td>\n",
       "      <td>0</td>\n",
       "      <td>0</td>\n",
       "      <td>0</td>\n",
       "      <td>0</td>\n",
       "      <td>0</td>\n",
       "      <td>0</td>\n",
       "      <td>0</td>\n",
       "      <td>1</td>\n",
       "      <td>0</td>\n",
       "    </tr>\n",
       "  </tbody>\n",
       "</table>\n",
       "<p>5 rows × 76 columns</p>\n",
       "</div>"
      ],
      "text/plain": [
       "     Adams  Allmon  Bach  Batman  Benson  Billings  Brahms  Collins  Doe  \\\n",
       "57       0       0     0       0       0         0       0        0    1   \n",
       "74       0       0     0       0       0         0       0        0    0   \n",
       "148      0       0     0       0       0         0       0        0    0   \n",
       "118      0       0     0       0       0         0       0        0    0   \n",
       "147      0       0     0       0       0         0       0        0    0   \n",
       "\n",
       "     Giddings ...  Spurs  Steelers  Titans  Twins  White Sox  Yankees  A  B  \\\n",
       "57          0 ...      0         0       0      0          0        0  0  0   \n",
       "74          1 ...      0         0       0      0          0        0  0  1   \n",
       "148         0 ...      0         0       0      0          0        0  0  0   \n",
       "118         0 ...      0         0       0      0          0        0  0  1   \n",
       "147         0 ...      0         0       0      0          0        0  0  0   \n",
       "\n",
       "     C  D  \n",
       "57   0  1  \n",
       "74   0  0  \n",
       "148  1  0  \n",
       "118  0  0  \n",
       "147  1  0  \n",
       "\n",
       "[5 rows x 76 columns]"
      ]
     },
     "execution_count": 134,
     "metadata": {},
     "output_type": "execute_result"
    }
   ],
   "source": [
    "#print(X_test.isnull().sum())\n",
    "#print(X_train.isnull().sum())\n",
    "#X_test.isnull().sum().plot(kind='bar');\n",
    "X_test.head()"
   ]
  },
  {
   "cell_type": "markdown",
   "metadata": {},
   "source": [
    "#### Try to understand why kNN model is not working for k>1"
   ]
  },
  {
   "cell_type": "code",
   "execution_count": 127,
   "metadata": {},
   "outputs": [
    {
     "data": {
      "text/plain": [
       "4    125\n",
       "dtype: int64"
      ]
     },
     "execution_count": 127,
     "metadata": {},
     "output_type": "execute_result"
    }
   ],
   "source": [
    "# 4 dummies were created in the X data set so sum of 4 makes sense to me, for the 125 rows in the train data set.\n",
    "X_train.sum(axis=1).value_counts()"
   ]
  },
  {
   "cell_type": "code",
   "execution_count": 128,
   "metadata": {},
   "outputs": [
    {
     "data": {
      "text/plain": [
       "(125, 76)"
      ]
     },
     "execution_count": 128,
     "metadata": {},
     "output_type": "execute_result"
    }
   ],
   "source": [
    "X_train.shape"
   ]
  },
  {
   "cell_type": "code",
   "execution_count": 129,
   "metadata": {},
   "outputs": [
    {
     "data": {
      "text/plain": [
       "4    32\n",
       "dtype: int64"
      ]
     },
     "execution_count": 129,
     "metadata": {},
     "output_type": "execute_result"
    }
   ],
   "source": [
    "# same for X_test.  4 dummies for 32 observations.  125+32=157, which is shape of finaldf data frame.\n",
    "X_test.sum(axis=1).value_counts()"
   ]
  },
  {
   "cell_type": "code",
   "execution_count": 130,
   "metadata": {},
   "outputs": [
    {
     "data": {
      "text/plain": [
       "(32, 76)"
      ]
     },
     "execution_count": 130,
     "metadata": {},
     "output_type": "execute_result"
    }
   ],
   "source": [
    "X_test.shape"
   ]
  },
  {
   "cell_type": "code",
   "execution_count": 131,
   "metadata": {},
   "outputs": [
    {
     "data": {
      "text/html": [
       "<div>\n",
       "<style>\n",
       "    .dataframe thead tr:only-child th {\n",
       "        text-align: right;\n",
       "    }\n",
       "\n",
       "    .dataframe thead th {\n",
       "        text-align: left;\n",
       "    }\n",
       "\n",
       "    .dataframe tbody tr th {\n",
       "        vertical-align: top;\n",
       "    }\n",
       "</style>\n",
       "<table border=\"1\" class=\"dataframe\">\n",
       "  <thead>\n",
       "    <tr style=\"text-align: right;\">\n",
       "      <th></th>\n",
       "      <th>ntspduration</th>\n",
       "    </tr>\n",
       "  </thead>\n",
       "  <tbody>\n",
       "    <tr>\n",
       "      <th>count</th>\n",
       "      <td>125.000000</td>\n",
       "    </tr>\n",
       "    <tr>\n",
       "      <th>mean</th>\n",
       "      <td>749.960000</td>\n",
       "    </tr>\n",
       "    <tr>\n",
       "      <th>std</th>\n",
       "      <td>425.535894</td>\n",
       "    </tr>\n",
       "    <tr>\n",
       "      <th>min</th>\n",
       "      <td>19.000000</td>\n",
       "    </tr>\n",
       "    <tr>\n",
       "      <th>25%</th>\n",
       "      <td>400.000000</td>\n",
       "    </tr>\n",
       "    <tr>\n",
       "      <th>50%</th>\n",
       "      <td>760.000000</td>\n",
       "    </tr>\n",
       "    <tr>\n",
       "      <th>75%</th>\n",
       "      <td>1078.000000</td>\n",
       "    </tr>\n",
       "    <tr>\n",
       "      <th>max</th>\n",
       "      <td>1449.000000</td>\n",
       "    </tr>\n",
       "  </tbody>\n",
       "</table>\n",
       "</div>"
      ],
      "text/plain": [
       "       ntspduration\n",
       "count    125.000000\n",
       "mean     749.960000\n",
       "std      425.535894\n",
       "min       19.000000\n",
       "25%      400.000000\n",
       "50%      760.000000\n",
       "75%     1078.000000\n",
       "max     1449.000000"
      ]
     },
     "execution_count": 131,
     "metadata": {},
     "output_type": "execute_result"
    }
   ],
   "source": [
    "y_train.describe()"
   ]
  },
  {
   "cell_type": "code",
   "execution_count": 132,
   "metadata": {},
   "outputs": [
    {
     "data": {
      "text/html": [
       "<div>\n",
       "<style>\n",
       "    .dataframe thead tr:only-child th {\n",
       "        text-align: right;\n",
       "    }\n",
       "\n",
       "    .dataframe thead th {\n",
       "        text-align: left;\n",
       "    }\n",
       "\n",
       "    .dataframe tbody tr th {\n",
       "        vertical-align: top;\n",
       "    }\n",
       "</style>\n",
       "<table border=\"1\" class=\"dataframe\">\n",
       "  <thead>\n",
       "    <tr style=\"text-align: right;\">\n",
       "      <th></th>\n",
       "      <th>ntspduration</th>\n",
       "    </tr>\n",
       "  </thead>\n",
       "  <tbody>\n",
       "    <tr>\n",
       "      <th>count</th>\n",
       "      <td>32.000000</td>\n",
       "    </tr>\n",
       "    <tr>\n",
       "      <th>mean</th>\n",
       "      <td>707.687500</td>\n",
       "    </tr>\n",
       "    <tr>\n",
       "      <th>std</th>\n",
       "      <td>357.990308</td>\n",
       "    </tr>\n",
       "    <tr>\n",
       "      <th>min</th>\n",
       "      <td>105.000000</td>\n",
       "    </tr>\n",
       "    <tr>\n",
       "      <th>25%</th>\n",
       "      <td>375.000000</td>\n",
       "    </tr>\n",
       "    <tr>\n",
       "      <th>50%</th>\n",
       "      <td>754.000000</td>\n",
       "    </tr>\n",
       "    <tr>\n",
       "      <th>75%</th>\n",
       "      <td>943.500000</td>\n",
       "    </tr>\n",
       "    <tr>\n",
       "      <th>max</th>\n",
       "      <td>1371.000000</td>\n",
       "    </tr>\n",
       "  </tbody>\n",
       "</table>\n",
       "</div>"
      ],
      "text/plain": [
       "       ntspduration\n",
       "count     32.000000\n",
       "mean     707.687500\n",
       "std      357.990308\n",
       "min      105.000000\n",
       "25%      375.000000\n",
       "50%      754.000000\n",
       "75%      943.500000\n",
       "max     1371.000000"
      ]
     },
     "execution_count": 132,
     "metadata": {},
     "output_type": "execute_result"
    }
   ],
   "source": [
    "y_test.describe()"
   ]
  },
  {
   "cell_type": "code",
   "execution_count": 133,
   "metadata": {},
   "outputs": [
    {
     "ename": "ValueError",
     "evalue": "Can't handle mix of multiclass and continuous",
     "output_type": "error",
     "traceback": [
      "\u001b[1;31m---------------------------------------------------------------------------\u001b[0m",
      "\u001b[1;31mValueError\u001b[0m                                Traceback (most recent call last)",
      "\u001b[1;32m<ipython-input-133-b1eda3b6c24a>\u001b[0m in \u001b[0;36m<module>\u001b[1;34m()\u001b[0m\n\u001b[0;32m      3\u001b[0m \u001b[0mknn\u001b[0m\u001b[1;33m.\u001b[0m\u001b[0mfit\u001b[0m\u001b[1;33m(\u001b[0m\u001b[0mX_train\u001b[0m\u001b[1;33m,\u001b[0m \u001b[0my_train\u001b[0m\u001b[1;33m)\u001b[0m\u001b[1;33m\u001b[0m\u001b[0m\n\u001b[0;32m      4\u001b[0m \u001b[0my_pred_class\u001b[0m \u001b[1;33m=\u001b[0m \u001b[0mknn\u001b[0m\u001b[1;33m.\u001b[0m\u001b[0mpredict\u001b[0m\u001b[1;33m(\u001b[0m\u001b[0mX_test\u001b[0m\u001b[1;33m)\u001b[0m\u001b[1;33m\u001b[0m\u001b[0m\n\u001b[1;32m----> 5\u001b[1;33m \u001b[1;32mprint\u001b[0m\u001b[1;33m(\u001b[0m\u001b[0mmetrics\u001b[0m\u001b[1;33m.\u001b[0m\u001b[0maccuracy_score\u001b[0m\u001b[1;33m(\u001b[0m\u001b[0my_test\u001b[0m\u001b[1;33m,\u001b[0m \u001b[0my_pred_class\u001b[0m\u001b[1;33m)\u001b[0m\u001b[1;33m)\u001b[0m\u001b[1;33m\u001b[0m\u001b[0m\n\u001b[0m",
      "\u001b[1;32mC:\\ProgramData\\Anaconda2\\lib\\site-packages\\sklearn\\metrics\\classification.py\u001b[0m in \u001b[0;36maccuracy_score\u001b[1;34m(y_true, y_pred, normalize, sample_weight)\u001b[0m\n\u001b[0;32m    170\u001b[0m \u001b[1;33m\u001b[0m\u001b[0m\n\u001b[0;32m    171\u001b[0m     \u001b[1;31m# Compute accuracy for each possible representation\u001b[0m\u001b[1;33m\u001b[0m\u001b[1;33m\u001b[0m\u001b[0m\n\u001b[1;32m--> 172\u001b[1;33m     \u001b[0my_type\u001b[0m\u001b[1;33m,\u001b[0m \u001b[0my_true\u001b[0m\u001b[1;33m,\u001b[0m \u001b[0my_pred\u001b[0m \u001b[1;33m=\u001b[0m \u001b[0m_check_targets\u001b[0m\u001b[1;33m(\u001b[0m\u001b[0my_true\u001b[0m\u001b[1;33m,\u001b[0m \u001b[0my_pred\u001b[0m\u001b[1;33m)\u001b[0m\u001b[1;33m\u001b[0m\u001b[0m\n\u001b[0m\u001b[0;32m    173\u001b[0m     \u001b[1;32mif\u001b[0m \u001b[0my_type\u001b[0m\u001b[1;33m.\u001b[0m\u001b[0mstartswith\u001b[0m\u001b[1;33m(\u001b[0m\u001b[1;34m'multilabel'\u001b[0m\u001b[1;33m)\u001b[0m\u001b[1;33m:\u001b[0m\u001b[1;33m\u001b[0m\u001b[0m\n\u001b[0;32m    174\u001b[0m         \u001b[0mdiffering_labels\u001b[0m \u001b[1;33m=\u001b[0m \u001b[0mcount_nonzero\u001b[0m\u001b[1;33m(\u001b[0m\u001b[0my_true\u001b[0m \u001b[1;33m-\u001b[0m \u001b[0my_pred\u001b[0m\u001b[1;33m,\u001b[0m \u001b[0maxis\u001b[0m\u001b[1;33m=\u001b[0m\u001b[1;36m1\u001b[0m\u001b[1;33m)\u001b[0m\u001b[1;33m\u001b[0m\u001b[0m\n",
      "\u001b[1;32mC:\\ProgramData\\Anaconda2\\lib\\site-packages\\sklearn\\metrics\\classification.py\u001b[0m in \u001b[0;36m_check_targets\u001b[1;34m(y_true, y_pred)\u001b[0m\n\u001b[0;32m     80\u001b[0m     \u001b[1;32mif\u001b[0m \u001b[0mlen\u001b[0m\u001b[1;33m(\u001b[0m\u001b[0my_type\u001b[0m\u001b[1;33m)\u001b[0m \u001b[1;33m>\u001b[0m \u001b[1;36m1\u001b[0m\u001b[1;33m:\u001b[0m\u001b[1;33m\u001b[0m\u001b[0m\n\u001b[0;32m     81\u001b[0m         raise ValueError(\"Can't handle mix of {0} and {1}\"\n\u001b[1;32m---> 82\u001b[1;33m                          \"\".format(type_true, type_pred))\n\u001b[0m\u001b[0;32m     83\u001b[0m \u001b[1;33m\u001b[0m\u001b[0m\n\u001b[0;32m     84\u001b[0m     \u001b[1;31m# We can't have more than one value on y_type => The set is no more needed\u001b[0m\u001b[1;33m\u001b[0m\u001b[1;33m\u001b[0m\u001b[0m\n",
      "\u001b[1;31mValueError\u001b[0m: Can't handle mix of multiclass and continuous"
     ]
    }
   ],
   "source": [
    "#try k=50\n",
    "knn = KNeighborsRegressor(n_neighbors=5)\n",
    "knn.fit(X_train, y_train)\n",
    "y_pred_class = knn.predict(X_test)\n",
    "print(metrics.accuracy_score(y_test, y_pred_class))\n"
   ]
  },
  {
   "cell_type": "code",
   "execution_count": null,
   "metadata": {
    "collapsed": true
   },
   "outputs": [],
   "source": []
  }
 ],
 "metadata": {
  "kernelspec": {
   "display_name": "Python 2",
   "language": "python",
   "name": "python2"
  },
  "language_info": {
   "codemirror_mode": {
    "name": "ipython",
    "version": 2
   },
   "file_extension": ".py",
   "mimetype": "text/x-python",
   "name": "python",
   "nbconvert_exporter": "python",
   "pygments_lexer": "ipython2",
   "version": "2.7.13"
  }
 },
 "nbformat": 4,
 "nbformat_minor": 2
}
