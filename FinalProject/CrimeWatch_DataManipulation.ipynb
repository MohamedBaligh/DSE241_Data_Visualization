{
 "cells": [
  {
   "cell_type": "code",
   "execution_count": 1,
   "metadata": {
    "collapsed": true
   },
   "outputs": [],
   "source": [
    "import pandas as pd\n",
    "import numpy as np"
   ]
  },
  {
   "cell_type": "code",
   "execution_count": 2,
   "metadata": {
    "scrolled": true
   },
   "outputs": [
    {
     "name": "stdout",
     "output_type": "stream",
     "text": [
      "Crime data shape:  (1700816, 26)\n",
      "MO Codes data shape:  (532, 2)\n",
      "Points of interest data shape:  (64974, 7)\n"
     ]
    }
   ],
   "source": [
    "crimeData = pd.read_csv('./Crime_Data_from_2010_to_Present.csv')\n",
    "moCodes = pd.read_csv('./MO_Codes.csv')\n",
    "poi = pd.read_excel('./Map_of_Locations_Points_of_Interest_Children.xlsx')\n",
    "print('Crime data shape: ', crimeData.shape)\n",
    "print('MO Codes data shape: ', moCodes.shape)\n",
    "print('Points of interest data shape: ', poi.shape)"
   ]
  },
  {
   "cell_type": "code",
   "execution_count": 14,
   "metadata": {},
   "outputs": [
    {
     "data": {
      "text/plain": [
       "Index(['ID', 'Date Reported', 'Date Occurred', 'Time Occurred', 'Area ID',\n",
       "       'Area Name', 'Reporting District', 'Crime Code',\n",
       "       'Crime Code Description', 'Victim Age', 'Victim Sex', 'Victim Descent',\n",
       "       'Premise Code', 'Premise Description', 'Weapon Used Code',\n",
       "       'Weapon Description', 'Status Code', 'Status Description',\n",
       "       'Crime Code 1', 'Crime Code 2', 'Crime Code 3', 'Crime Code 4',\n",
       "       'Address', 'Cross Street', 'lat', 'lon', 'type', 'youthVictim',\n",
       "       'Time Occurred Hour'],\n",
       "      dtype='object')"
      ]
     },
     "execution_count": 14,
     "metadata": {},
     "output_type": "execute_result"
    }
   ],
   "source": [
    "crimeData.columns"
   ]
  },
  {
   "cell_type": "markdown",
   "metadata": {},
   "source": [
    "# Data Processing\n",
    "For Crime_Data_2010_2017.csv:\n",
    "        \n",
    "        - use DR number as the unique identifier per row\n",
    "        - unfold MO Codes column & merge in MO_Codes data (Note: MO code = 1217, 1257, 1258, 1259 in addition to victim age to determine crimes where victim was child)\n",
    "        -split Location into latitude and longitude\n",
    "\n",
    "For Map_of_Locations_Points_of_Interest_Children.xlsx:\n",
    "        \n",
    "        - union the data with crime data and designate using a column if it is associated with crime data or with POI"
   ]
  },
  {
   "cell_type": "markdown",
   "metadata": {},
   "source": [
    "### MO Codes per Crime data -> MOCodeCrime.csv"
   ]
  },
  {
   "cell_type": "code",
   "execution_count": 3,
   "metadata": {
    "collapsed": true
   },
   "outputs": [],
   "source": [
    "drNumber = list(crimeData['DR Number'])\n",
    "codes = list(crimeData['MO Codes'])\n",
    "drNumberList = []\n",
    "codeList = [] \n",
    "for i in range(len(codes)):\n",
    "    try:\n",
    "        code = codes[i].split()\n",
    "        for j in code:\n",
    "            codeList.append(j)\n",
    "            drNumberList.append(drNumber[i])\n",
    "    except:\n",
    "        pass"
   ]
  },
  {
   "cell_type": "code",
   "execution_count": 4,
   "metadata": {
    "collapsed": true
   },
   "outputs": [],
   "source": [
    "moCodesCrime = pd.DataFrame()\n",
    "moCodesCrime['DR Number'] = drNumberList\n",
    "moCodesCrime['MO_Code'] = codeList\n",
    "moCodesCrime = moCodesCrime.astype(int)\n",
    "MOCodeCrime = pd.merge(moCodesCrime, moCodes)\n",
    "MOCodeCrime = MOCodeCrime.rename(columns={'DR Number': 'ID'})\n",
    "MOCodeCrime.to_csv('./TableauReady/MOCodeCrime.csv', index=False)"
   ]
  },
  {
   "cell_type": "markdown",
   "metadata": {},
   "source": [
    "### Union Crime and POI data together -> CrimePOI.csv"
   ]
  },
  {
   "cell_type": "code",
   "execution_count": 5,
   "metadata": {},
   "outputs": [
    {
     "data": {
      "text/html": [
       "<div>\n",
       "<style>\n",
       "    .dataframe thead tr:only-child th {\n",
       "        text-align: right;\n",
       "    }\n",
       "\n",
       "    .dataframe thead th {\n",
       "        text-align: left;\n",
       "    }\n",
       "\n",
       "    .dataframe tbody tr th {\n",
       "        vertical-align: top;\n",
       "    }\n",
       "</style>\n",
       "<table border=\"1\" class=\"dataframe\">\n",
       "  <thead>\n",
       "    <tr style=\"text-align: right;\">\n",
       "      <th></th>\n",
       "      <th>ID</th>\n",
       "      <th>Date Reported</th>\n",
       "      <th>Date Occurred</th>\n",
       "      <th>Time Occurred</th>\n",
       "      <th>Area ID</th>\n",
       "      <th>Area Name</th>\n",
       "      <th>Reporting District</th>\n",
       "      <th>Crime Code</th>\n",
       "      <th>Crime Code Description</th>\n",
       "      <th>Victim Age</th>\n",
       "      <th>...</th>\n",
       "      <th>Status Description</th>\n",
       "      <th>Crime Code 1</th>\n",
       "      <th>Crime Code 2</th>\n",
       "      <th>Crime Code 3</th>\n",
       "      <th>Crime Code 4</th>\n",
       "      <th>Address</th>\n",
       "      <th>Cross Street</th>\n",
       "      <th>lat</th>\n",
       "      <th>lon</th>\n",
       "      <th>type</th>\n",
       "    </tr>\n",
       "  </thead>\n",
       "  <tbody>\n",
       "    <tr>\n",
       "      <th>0</th>\n",
       "      <td>1208575</td>\n",
       "      <td>03/14/2013</td>\n",
       "      <td>03/11/2013</td>\n",
       "      <td>1800</td>\n",
       "      <td>12</td>\n",
       "      <td>77th Street</td>\n",
       "      <td>1241</td>\n",
       "      <td>626</td>\n",
       "      <td>INTIMATE PARTNER - SIMPLE ASSAULT</td>\n",
       "      <td>30.0</td>\n",
       "      <td>...</td>\n",
       "      <td>Adult Other</td>\n",
       "      <td>626.0</td>\n",
       "      <td>NaN</td>\n",
       "      <td>NaN</td>\n",
       "      <td>NaN</td>\n",
       "      <td>6300    BRYNHURST                    AV</td>\n",
       "      <td>NaN</td>\n",
       "      <td>33.9829</td>\n",
       "      <td>-118.3338</td>\n",
       "      <td>crime</td>\n",
       "    </tr>\n",
       "    <tr>\n",
       "      <th>1</th>\n",
       "      <td>102005556</td>\n",
       "      <td>01/25/2010</td>\n",
       "      <td>01/22/2010</td>\n",
       "      <td>2300</td>\n",
       "      <td>20</td>\n",
       "      <td>Olympic</td>\n",
       "      <td>2071</td>\n",
       "      <td>510</td>\n",
       "      <td>VEHICLE - STOLEN</td>\n",
       "      <td>NaN</td>\n",
       "      <td>...</td>\n",
       "      <td>Invest Cont</td>\n",
       "      <td>510.0</td>\n",
       "      <td>NaN</td>\n",
       "      <td>NaN</td>\n",
       "      <td>NaN</td>\n",
       "      <td>VAN NESS</td>\n",
       "      <td>15TH</td>\n",
       "      <td>34.0454</td>\n",
       "      <td>-118.3157</td>\n",
       "      <td>crime</td>\n",
       "    </tr>\n",
       "    <tr>\n",
       "      <th>2</th>\n",
       "      <td>418</td>\n",
       "      <td>03/19/2013</td>\n",
       "      <td>03/18/2013</td>\n",
       "      <td>2030</td>\n",
       "      <td>18</td>\n",
       "      <td>Southeast</td>\n",
       "      <td>1823</td>\n",
       "      <td>510</td>\n",
       "      <td>VEHICLE - STOLEN</td>\n",
       "      <td>12.0</td>\n",
       "      <td>...</td>\n",
       "      <td>Invest Cont</td>\n",
       "      <td>510.0</td>\n",
       "      <td>NaN</td>\n",
       "      <td>NaN</td>\n",
       "      <td>NaN</td>\n",
       "      <td>200 E  104TH                        ST</td>\n",
       "      <td>NaN</td>\n",
       "      <td>33.9420</td>\n",
       "      <td>-118.2717</td>\n",
       "      <td>crime</td>\n",
       "    </tr>\n",
       "    <tr>\n",
       "      <th>3</th>\n",
       "      <td>101822289</td>\n",
       "      <td>11/11/2010</td>\n",
       "      <td>11/10/2010</td>\n",
       "      <td>1800</td>\n",
       "      <td>18</td>\n",
       "      <td>Southeast</td>\n",
       "      <td>1803</td>\n",
       "      <td>510</td>\n",
       "      <td>VEHICLE - STOLEN</td>\n",
       "      <td>NaN</td>\n",
       "      <td>...</td>\n",
       "      <td>Invest Cont</td>\n",
       "      <td>510.0</td>\n",
       "      <td>NaN</td>\n",
       "      <td>NaN</td>\n",
       "      <td>NaN</td>\n",
       "      <td>88TH</td>\n",
       "      <td>WALL</td>\n",
       "      <td>33.9572</td>\n",
       "      <td>-118.2717</td>\n",
       "      <td>crime</td>\n",
       "    </tr>\n",
       "    <tr>\n",
       "      <th>4</th>\n",
       "      <td>42104479</td>\n",
       "      <td>01/11/2014</td>\n",
       "      <td>01/04/2014</td>\n",
       "      <td>2300</td>\n",
       "      <td>21</td>\n",
       "      <td>Topanga</td>\n",
       "      <td>2133</td>\n",
       "      <td>745</td>\n",
       "      <td>VANDALISM - MISDEAMEANOR ($399 OR UNDER)</td>\n",
       "      <td>84.0</td>\n",
       "      <td>...</td>\n",
       "      <td>Invest Cont</td>\n",
       "      <td>745.0</td>\n",
       "      <td>NaN</td>\n",
       "      <td>NaN</td>\n",
       "      <td>NaN</td>\n",
       "      <td>7200    CIRRUS                       WY</td>\n",
       "      <td>NaN</td>\n",
       "      <td>34.2009</td>\n",
       "      <td>-118.6369</td>\n",
       "      <td>crime</td>\n",
       "    </tr>\n",
       "  </tbody>\n",
       "</table>\n",
       "<p>5 rows × 27 columns</p>\n",
       "</div>"
      ],
      "text/plain": [
       "          ID Date Reported Date Occurred  Time Occurred  Area ID    Area Name  \\\n",
       "0    1208575    03/14/2013    03/11/2013           1800       12  77th Street   \n",
       "1  102005556    01/25/2010    01/22/2010           2300       20      Olympic   \n",
       "2        418    03/19/2013    03/18/2013           2030       18    Southeast   \n",
       "3  101822289    11/11/2010    11/10/2010           1800       18    Southeast   \n",
       "4   42104479    01/11/2014    01/04/2014           2300       21      Topanga   \n",
       "\n",
       "   Reporting District  Crime Code                    Crime Code Description  \\\n",
       "0                1241         626         INTIMATE PARTNER - SIMPLE ASSAULT   \n",
       "1                2071         510                          VEHICLE - STOLEN   \n",
       "2                1823         510                          VEHICLE - STOLEN   \n",
       "3                1803         510                          VEHICLE - STOLEN   \n",
       "4                2133         745  VANDALISM - MISDEAMEANOR ($399 OR UNDER)   \n",
       "\n",
       "   Victim Age  ...   Status Description Crime Code 1  Crime Code 2  \\\n",
       "0        30.0  ...          Adult Other        626.0           NaN   \n",
       "1         NaN  ...          Invest Cont        510.0           NaN   \n",
       "2        12.0  ...          Invest Cont        510.0           NaN   \n",
       "3         NaN  ...          Invest Cont        510.0           NaN   \n",
       "4        84.0  ...          Invest Cont        745.0           NaN   \n",
       "\n",
       "  Crime Code 3  Crime Code 4                                  Address  \\\n",
       "0          NaN           NaN  6300    BRYNHURST                    AV   \n",
       "1          NaN           NaN                                 VAN NESS   \n",
       "2          NaN           NaN   200 E  104TH                        ST   \n",
       "3          NaN           NaN                                     88TH   \n",
       "4          NaN           NaN  7200    CIRRUS                       WY   \n",
       "\n",
       "  Cross Street      lat       lon   type  \n",
       "0          NaN  33.9829 -118.3338  crime  \n",
       "1         15TH  34.0454 -118.3157  crime  \n",
       "2          NaN  33.9420 -118.2717  crime  \n",
       "3         WALL  33.9572 -118.2717  crime  \n",
       "4          NaN  34.2009 -118.6369  crime  \n",
       "\n",
       "[5 rows x 27 columns]"
      ]
     },
     "execution_count": 5,
     "metadata": {},
     "output_type": "execute_result"
    }
   ],
   "source": [
    "locations = list(crimeData['Location '])\n",
    "lat = []\n",
    "lon = []\n",
    "for l in locations:\n",
    "    try:\n",
    "        lat.append(np.float(l.split()[0].rstrip(',').lstrip('(')))\n",
    "        lon.append(np.float(l.split()[1].rstrip(')')))\n",
    "    except:\n",
    "        lat.append(None)\n",
    "        lon.append(None)\n",
    "crimeData['lat'] = lat\n",
    "crimeData['lon'] = lon\n",
    "crimeData['type'] = 'crime'\n",
    "crimeData = crimeData.drop(['MO Codes', 'Location '], axis=1) #Delete not usable columns\n",
    "crimeData['DR Number'] = crimeData['DR Number'].astype(int)\n",
    "crimeData = crimeData.rename(columns={'DR Number': 'ID'})\n",
    "crimeData.head()"
   ]
  },
  {
   "cell_type": "code",
   "execution_count": 6,
   "metadata": {},
   "outputs": [
    {
     "name": "stdout",
     "output_type": "stream",
     "text": [
      "Number of incidences against youth:  268848\n"
     ]
    }
   ],
   "source": [
    "# Get IDs where MO code = 1217, 1257, 1258, 1259 in addition to victim age to determine crimes where victim was child\n",
    "crimeVictims1 = list(MOCodeCrime['ID'][MOCodeCrime['MO_Code'].isin([1217, 1257, 1258, 1259])].unique())\n",
    "crimeVictims2 = list(crimeData['ID'][crimeData['Victim Age'] <= 18].unique())\n",
    "crimeVictims = list(set(crimeVictims1)|set(crimeVictims2))\n",
    "youthVictimsData = crimeData[crimeData['ID'].isin(crimeVictims)]\n",
    "youthVictimsData = youthVictimsData.drop(youthVictimsData[youthVictimsData['Victim Age'] > 18].index)\n",
    "youthVictims = list(youthVictimsData['ID'])\n",
    "print('Number of incidences against youth: ', len(youthVictims))\n",
    "\n",
    "crimeData['youthVictim'] = np.where(crimeData['ID'].isin(youthVictims), 1, 0)"
   ]
  },
  {
   "cell_type": "code",
   "execution_count": 7,
   "metadata": {
    "collapsed": true
   },
   "outputs": [],
   "source": [
    "# Convert Time Occurred to Time Occurred Hour\n",
    "def toHour(row):\n",
    "    if row['Time Occurred'] <= 59:\n",
    "        return 0\n",
    "    elif row['Time Occurred'] <= 159:\n",
    "        return 1\n",
    "    elif row['Time Occurred'] <= 259:\n",
    "        return 2\n",
    "    elif row['Time Occurred'] <= 359:\n",
    "        return 3\n",
    "    elif row['Time Occurred'] <= 459:\n",
    "        return 4\n",
    "    elif row['Time Occurred'] <= 559:\n",
    "        return 5\n",
    "    elif row['Time Occurred'] <= 659:\n",
    "        return 6\n",
    "    elif row['Time Occurred'] <= 759:\n",
    "        return 7\n",
    "    elif row['Time Occurred'] <= 859:\n",
    "        return 8\n",
    "    elif row['Time Occurred'] <= 959:\n",
    "        return 9\n",
    "    elif row['Time Occurred'] <= 1059:\n",
    "        return 10\n",
    "    elif row['Time Occurred'] <= 1159:\n",
    "        return 11\n",
    "    elif row['Time Occurred'] <= 1259:\n",
    "        return 12\n",
    "    elif row['Time Occurred'] <= 1359:\n",
    "        return 13\n",
    "    elif row['Time Occurred'] <= 1459:\n",
    "        return 14\n",
    "    elif row['Time Occurred'] <= 1559:\n",
    "        return 15\n",
    "    elif row['Time Occurred'] <= 1659:\n",
    "        return 16\n",
    "    elif row['Time Occurred'] <= 1759:\n",
    "        return 17\n",
    "    elif row['Time Occurred'] <= 1859:\n",
    "        return 18\n",
    "    elif row['Time Occurred'] <= 1959:\n",
    "        return 19\n",
    "    elif row['Time Occurred'] <= 2059:\n",
    "        return 20\n",
    "    elif row['Time Occurred'] <= 2159:\n",
    "        return 21\n",
    "    elif row['Time Occurred'] <= 2259:\n",
    "        return 22\n",
    "    elif row['Time Occurred'] <= 2359:\n",
    "        return 23\n",
    "    else:\n",
    "        return 24\n",
    "    \n",
    "crimeData['Time Occurred Hour'] = crimeData.apply(toHour, axis=1)"
   ]
  },
  {
   "cell_type": "code",
   "execution_count": 8,
   "metadata": {
    "collapsed": true
   },
   "outputs": [],
   "source": [
    "# Changing the abbreviations to the whole description\n",
    "Victims_bg = {\n",
    "    \"A\": \"Other Asian\",\n",
    "    \"B\": \"Black\",\n",
    "    \"C\": \"Chinese\",\n",
    "    \"D\": \"Cambodian\",\n",
    "    \"F\": \"Filipino\",\n",
    "    \"G\": \"Guamanian\",\n",
    "    \"H\": \"Hispanic/Latin/Mexican\",\n",
    "    \"I\": \"American Indian/Alaskan Native\",\n",
    "    \"J\": \"Japanese\",\n",
    "    \"K\": \"Korean\",\n",
    "    \"L\": \"Laotian\",\n",
    "    \"O\": \"Other\",\n",
    "    \"P\": \"Pacific Islander\",\n",
    "    \"S\": \"Samoan\",\n",
    "    \"U\": \"Hawaiian\",\n",
    "    \"V\": \"Vietnamese\",\n",
    "    \"W\": \"White\",\n",
    "    \"X\": \"Unknown\",\n",
    "    \"Z\": \"Asian Indian\"\n",
    "}\n",
    "crimeData[\"Victim Descent\"] = crimeData[\"Victim Descent\"].map(Victims_bg)"
   ]
  },
  {
   "cell_type": "code",
   "execution_count": 9,
   "metadata": {
    "collapsed": true
   },
   "outputs": [],
   "source": [
    "crimeData.to_csv('./TableauReady/crimeData.csv', index=False)"
   ]
  },
  {
   "cell_type": "code",
   "execution_count": 10,
   "metadata": {
    "collapsed": true
   },
   "outputs": [],
   "source": [
    "children = ['Children and Family Services',\n",
    "       'Early Childhoold Education and Head Start',\n",
    "       'Private and Charter Schools', 'Child Care',\n",
    "       'Community Organizations', 'Recreation Programs',\n",
    "       'Special Curriculum Schools and Programs', 'Child Support Services',\n",
    "       'Pools', 'Parks and Gardens', 'Libraries', 'Recreation Centers',\n",
    "       'Museums and Aquariums', 'School Districts',\n",
    "       'Cultural and Performing Arts Centers', 'Amtrak Stations',\n",
    "       'Picnic Areas', 'Recreation Clubs', 'Public Middle Schools',\n",
    "       'Public Elementary Schools', 'Metrolink Stations',\n",
    "       'Park and Ride Locations', 'Metro Stations', 'Public High Schools',\n",
    "       'Sports Complexes', 'Youth Worksource Centers']\n",
    "\n",
    "poi = poi[poi['Category2'].isin(children)]\n",
    "\n",
    "locations = list(poi['Location 1'])\n",
    "lat = []\n",
    "lon = []\n",
    "address = []\n",
    "for l in locations:\n",
    "    try:\n",
    "        address.append(l.split('(')[0])\n",
    "        lat.append(np.float(l.split('(')[1].split(',')[0]))\n",
    "        lon.append(np.float(l.split('(')[1].split(',')[1].lstrip().rstrip(')')))\n",
    "    except:\n",
    "        lat.append(None)\n",
    "        lon.append(None)\n",
    "poi['Address'] = address\n",
    "poi['lat'] = lat\n",
    "poi['lon'] = lon\n",
    "poi['type'] = 'POI'\n",
    "poi = poi.drop(['Location 1'], axis=1) #Delete not usable columns"
   ]
  },
  {
   "cell_type": "code",
   "execution_count": 11,
   "metadata": {
    "collapsed": true
   },
   "outputs": [],
   "source": [
    "CrimePOI = pd.concat([crimeData, poi])\n",
    "CrimePOI.to_csv('./TableauReady/CrimePOI.csv', index=False)"
   ]
  },
  {
   "cell_type": "code",
   "execution_count": 12,
   "metadata": {
    "scrolled": true
   },
   "outputs": [
    {
     "data": {
      "text/plain": [
       "(1709037, 34)"
      ]
     },
     "execution_count": 12,
     "metadata": {},
     "output_type": "execute_result"
    }
   ],
   "source": [
    "CrimePOI.shape"
   ]
  },
  {
   "cell_type": "code",
   "execution_count": null,
   "metadata": {
    "collapsed": true
   },
   "outputs": [],
   "source": []
  },
  {
   "cell_type": "code",
   "execution_count": null,
   "metadata": {
    "collapsed": true
   },
   "outputs": [],
   "source": []
  }
 ],
 "metadata": {
  "kernelspec": {
   "display_name": "Python [conda root]",
   "language": "python",
   "name": "conda-root-py"
  },
  "language_info": {
   "codemirror_mode": {
    "name": "ipython",
    "version": 3
   },
   "file_extension": ".py",
   "mimetype": "text/x-python",
   "name": "python",
   "nbconvert_exporter": "python",
   "pygments_lexer": "ipython3",
   "version": "3.6.3"
  }
 },
 "nbformat": 4,
 "nbformat_minor": 2
}
